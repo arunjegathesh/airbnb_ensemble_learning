{
  "nbformat": 4,
  "nbformat_minor": 0,
  "metadata": {
    "colab": {
      "provenance": [],
      "include_colab_link": true
    },
    "kernelspec": {
      "name": "python3",
      "display_name": "Python 3"
    },
    "language_info": {
      "name": "python"
    },
    "accelerator": "GPU",
    "gpuClass": "standard"
  },
  "cells": [
    {
      "cell_type": "markdown",
      "metadata": {
        "id": "view-in-github",
        "colab_type": "text"
      },
      "source": [
        "<a href=\"https://colab.research.google.com/github/arunjegathesh/airbnb_ensemble_learning/blob/main/DSBA_Ensemble_Learning_airbnb_price_prediction.ipynb\" target=\"_parent\"><img src=\"https://colab.research.google.com/assets/colab-badge.svg\" alt=\"Open In Colab\"/></a>"
      ]
    },
    {
      "cell_type": "markdown",
      "source": [
        "#Importing the required libraries"
      ],
      "metadata": {
        "id": "mCgTs2_ecpm2"
      }
    },
    {
      "cell_type": "code",
      "source": [
        "!pip install catboost\n",
        "!pip install shap"
      ],
      "metadata": {
        "colab": {
          "base_uri": "https://localhost:8080/"
        },
        "id": "67RBpJ_mbQOk",
        "outputId": "59fbf893-0404-4a2b-e1e3-f97c969c3525"
      },
      "execution_count": 1,
      "outputs": [
        {
          "output_type": "stream",
          "name": "stdout",
          "text": [
            "Looking in indexes: https://pypi.org/simple, https://us-python.pkg.dev/colab-wheels/public/simple/\n",
            "Collecting catboost\n",
            "  Downloading catboost-1.1.1-cp39-none-manylinux1_x86_64.whl (76.6 MB)\n",
            "\u001b[2K     \u001b[90m━━━━━━━━━━━━━━━━━━━━━━━━━━━━━━━━━━━━━━━━\u001b[0m \u001b[32m76.6/76.6 MB\u001b[0m \u001b[31m10.4 MB/s\u001b[0m eta \u001b[36m0:00:00\u001b[0m\n",
            "\u001b[?25hRequirement already satisfied: graphviz in /usr/local/lib/python3.9/dist-packages (from catboost) (0.10.1)\n",
            "Requirement already satisfied: numpy>=1.16.0 in /usr/local/lib/python3.9/dist-packages (from catboost) (1.22.4)\n",
            "Requirement already satisfied: pandas>=0.24.0 in /usr/local/lib/python3.9/dist-packages (from catboost) (1.4.4)\n",
            "Requirement already satisfied: matplotlib in /usr/local/lib/python3.9/dist-packages (from catboost) (3.7.1)\n",
            "Requirement already satisfied: six in /usr/local/lib/python3.9/dist-packages (from catboost) (1.15.0)\n",
            "Requirement already satisfied: scipy in /usr/local/lib/python3.9/dist-packages (from catboost) (1.10.1)\n",
            "Requirement already satisfied: plotly in /usr/local/lib/python3.9/dist-packages (from catboost) (5.5.0)\n",
            "Requirement already satisfied: pytz>=2020.1 in /usr/local/lib/python3.9/dist-packages (from pandas>=0.24.0->catboost) (2022.7.1)\n",
            "Requirement already satisfied: python-dateutil>=2.8.1 in /usr/local/lib/python3.9/dist-packages (from pandas>=0.24.0->catboost) (2.8.2)\n",
            "Requirement already satisfied: contourpy>=1.0.1 in /usr/local/lib/python3.9/dist-packages (from matplotlib->catboost) (1.0.7)\n",
            "Requirement already satisfied: pyparsing>=2.3.1 in /usr/local/lib/python3.9/dist-packages (from matplotlib->catboost) (3.0.9)\n",
            "Requirement already satisfied: importlib-resources>=3.2.0 in /usr/local/lib/python3.9/dist-packages (from matplotlib->catboost) (5.12.0)\n",
            "Requirement already satisfied: cycler>=0.10 in /usr/local/lib/python3.9/dist-packages (from matplotlib->catboost) (0.11.0)\n",
            "Requirement already satisfied: kiwisolver>=1.0.1 in /usr/local/lib/python3.9/dist-packages (from matplotlib->catboost) (1.4.4)\n",
            "Requirement already satisfied: pillow>=6.2.0 in /usr/local/lib/python3.9/dist-packages (from matplotlib->catboost) (8.4.0)\n",
            "Requirement already satisfied: packaging>=20.0 in /usr/local/lib/python3.9/dist-packages (from matplotlib->catboost) (23.0)\n",
            "Requirement already satisfied: fonttools>=4.22.0 in /usr/local/lib/python3.9/dist-packages (from matplotlib->catboost) (4.39.0)\n",
            "Requirement already satisfied: tenacity>=6.2.0 in /usr/local/lib/python3.9/dist-packages (from plotly->catboost) (8.2.2)\n",
            "Requirement already satisfied: zipp>=3.1.0 in /usr/local/lib/python3.9/dist-packages (from importlib-resources>=3.2.0->matplotlib->catboost) (3.15.0)\n",
            "Installing collected packages: catboost\n",
            "Successfully installed catboost-1.1.1\n",
            "Looking in indexes: https://pypi.org/simple, https://us-python.pkg.dev/colab-wheels/public/simple/\n",
            "Collecting shap\n",
            "  Downloading shap-0.41.0-cp39-cp39-manylinux_2_12_x86_64.manylinux2010_x86_64.whl (572 kB)\n",
            "\u001b[2K     \u001b[90m━━━━━━━━━━━━━━━━━━━━━━━━━━━━━━━━━━━━━━\u001b[0m \u001b[32m572.4/572.4 KB\u001b[0m \u001b[31m31.1 MB/s\u001b[0m eta \u001b[36m0:00:00\u001b[0m\n",
            "\u001b[?25hRequirement already satisfied: numba in /usr/local/lib/python3.9/dist-packages (from shap) (0.56.4)\n",
            "Requirement already satisfied: cloudpickle in /usr/local/lib/python3.9/dist-packages (from shap) (2.2.1)\n",
            "Requirement already satisfied: tqdm>4.25.0 in /usr/local/lib/python3.9/dist-packages (from shap) (4.65.0)\n",
            "Requirement already satisfied: packaging>20.9 in /usr/local/lib/python3.9/dist-packages (from shap) (23.0)\n",
            "Collecting slicer==0.0.7\n",
            "  Downloading slicer-0.0.7-py3-none-any.whl (14 kB)\n",
            "Requirement already satisfied: pandas in /usr/local/lib/python3.9/dist-packages (from shap) (1.4.4)\n",
            "Requirement already satisfied: scikit-learn in /usr/local/lib/python3.9/dist-packages (from shap) (1.2.2)\n",
            "Requirement already satisfied: scipy in /usr/local/lib/python3.9/dist-packages (from shap) (1.10.1)\n",
            "Requirement already satisfied: numpy in /usr/local/lib/python3.9/dist-packages (from shap) (1.22.4)\n",
            "Requirement already satisfied: llvmlite<0.40,>=0.39.0dev0 in /usr/local/lib/python3.9/dist-packages (from numba->shap) (0.39.1)\n",
            "Requirement already satisfied: setuptools in /usr/local/lib/python3.9/dist-packages (from numba->shap) (63.4.3)\n",
            "Requirement already satisfied: pytz>=2020.1 in /usr/local/lib/python3.9/dist-packages (from pandas->shap) (2022.7.1)\n",
            "Requirement already satisfied: python-dateutil>=2.8.1 in /usr/local/lib/python3.9/dist-packages (from pandas->shap) (2.8.2)\n",
            "Requirement already satisfied: threadpoolctl>=2.0.0 in /usr/local/lib/python3.9/dist-packages (from scikit-learn->shap) (3.1.0)\n",
            "Requirement already satisfied: joblib>=1.1.1 in /usr/local/lib/python3.9/dist-packages (from scikit-learn->shap) (1.1.1)\n",
            "Requirement already satisfied: six>=1.5 in /usr/local/lib/python3.9/dist-packages (from python-dateutil>=2.8.1->pandas->shap) (1.15.0)\n",
            "Installing collected packages: slicer, shap\n",
            "Successfully installed shap-0.41.0 slicer-0.0.7\n"
          ]
        }
      ]
    },
    {
      "cell_type": "code",
      "execution_count": 2,
      "metadata": {
        "id": "xCjIltjp5YA1"
      },
      "outputs": [],
      "source": [
        "#Importing basic data processing, plotting & boosting/bagging models & model evaluation libraries\n",
        "import numpy as np\n",
        "import pandas as pd\n",
        "import matplotlib.pyplot as plt\n",
        "import matplotlib\n",
        "import seaborn as sns\n",
        "\n",
        "from sklearn.model_selection import train_test_split\n",
        "from sklearn.model_selection import GridSearchCV\n",
        "from catboost import CatBoostRegressor, Pool\n",
        "from xgboost import XGBRegressor\n",
        "#from sklearn.preprocessing import scale, StandardScaler, RobustScaler, OneHotEncoder\n",
        "from sklearn.metrics import mean_squared_error, r2_score\n",
        "from sklearn.model_selection import train_test_split, cross_val_score, GridSearchCV, KFold, StratifiedKFold, RandomizedSearchCV\n",
        "\n",
        "from sklearn.ensemble import RandomForestRegressor\n",
        "\n",
        "import warnings\n",
        "warnings.filterwarnings(\"ignore\", category=FutureWarning)\n",
        "\n",
        "import pickle\n",
        "from joblib import dump, load\n",
        "import shap"
      ]
    },
    {
      "cell_type": "markdown",
      "source": [
        "#Data Import & EDA along with data cleaning"
      ],
      "metadata": {
        "id": "9SGI2IvwcutW"
      }
    },
    {
      "cell_type": "code",
      "source": [
        "#Mounting google drive location for laoding input data\n",
        "from google.colab import drive\n",
        "drive.mount('/content/drive')"
      ],
      "metadata": {
        "id": "f0ZiRrM2186D",
        "outputId": "58be92da-67f2-4dd3-9187-3cb1cb2aa913",
        "colab": {
          "base_uri": "https://localhost:8080/"
        }
      },
      "execution_count": 3,
      "outputs": [
        {
          "output_type": "stream",
          "name": "stdout",
          "text": [
            "Mounted at /content/drive\n"
          ]
        }
      ]
    },
    {
      "cell_type": "code",
      "source": [
        "df_in = pd.read_csv('/content/drive/MyDrive/Ensemble_Project/AB_NYC_2019.csv')"
      ],
      "metadata": {
        "id": "d0nNXFCH5fvt"
      },
      "execution_count": 4,
      "outputs": []
    },
    {
      "cell_type": "code",
      "source": [
        "#Exploring the structure of the dataframe & column values for basic idea of the dataset\n",
        "df_in.head()"
      ],
      "metadata": {
        "colab": {
          "base_uri": "https://localhost:8080/",
          "height": 455
        },
        "id": "dKq-fAdG5vkp",
        "outputId": "2995aabe-2d25-4213-855e-5d4e9cdce138"
      },
      "execution_count": 7,
      "outputs": [
        {
          "output_type": "execute_result",
          "data": {
            "text/plain": [
              "     id                                              name  host_id  \\\n",
              "0  2539                Clean & quiet apt home by the park     2787   \n",
              "1  2595                             Skylit Midtown Castle     2845   \n",
              "2  3647               THE VILLAGE OF HARLEM....NEW YORK !     4632   \n",
              "3  3831                   Cozy Entire Floor of Brownstone     4869   \n",
              "4  5022  Entire Apt: Spacious Studio/Loft by central park     7192   \n",
              "\n",
              "     host_name neighbourhood_group neighbourhood  latitude  longitude  \\\n",
              "0         John            Brooklyn    Kensington  40.64749  -73.97237   \n",
              "1     Jennifer           Manhattan       Midtown  40.75362  -73.98377   \n",
              "2    Elisabeth           Manhattan        Harlem  40.80902  -73.94190   \n",
              "3  LisaRoxanne            Brooklyn  Clinton Hill  40.68514  -73.95976   \n",
              "4        Laura           Manhattan   East Harlem  40.79851  -73.94399   \n",
              "\n",
              "         room_type  price  minimum_nights  number_of_reviews last_review  \\\n",
              "0     Private room    149               1                  9  2018-10-19   \n",
              "1  Entire home/apt    225               1                 45  2019-05-21   \n",
              "2     Private room    150               3                  0         NaN   \n",
              "3  Entire home/apt     89               1                270  2019-07-05   \n",
              "4  Entire home/apt     80              10                  9  2018-11-19   \n",
              "\n",
              "   reviews_per_month  calculated_host_listings_count  availability_365  \n",
              "0               0.21                               6               365  \n",
              "1               0.38                               2               355  \n",
              "2                NaN                               1               365  \n",
              "3               4.64                               1               194  \n",
              "4               0.10                               1                 0  "
            ],
            "text/html": [
              "\n",
              "  <div id=\"df-5171e790-103c-4409-8583-e4a0878e3e30\">\n",
              "    <div class=\"colab-df-container\">\n",
              "      <div>\n",
              "<style scoped>\n",
              "    .dataframe tbody tr th:only-of-type {\n",
              "        vertical-align: middle;\n",
              "    }\n",
              "\n",
              "    .dataframe tbody tr th {\n",
              "        vertical-align: top;\n",
              "    }\n",
              "\n",
              "    .dataframe thead th {\n",
              "        text-align: right;\n",
              "    }\n",
              "</style>\n",
              "<table border=\"1\" class=\"dataframe\">\n",
              "  <thead>\n",
              "    <tr style=\"text-align: right;\">\n",
              "      <th></th>\n",
              "      <th>id</th>\n",
              "      <th>name</th>\n",
              "      <th>host_id</th>\n",
              "      <th>host_name</th>\n",
              "      <th>neighbourhood_group</th>\n",
              "      <th>neighbourhood</th>\n",
              "      <th>latitude</th>\n",
              "      <th>longitude</th>\n",
              "      <th>room_type</th>\n",
              "      <th>price</th>\n",
              "      <th>minimum_nights</th>\n",
              "      <th>number_of_reviews</th>\n",
              "      <th>last_review</th>\n",
              "      <th>reviews_per_month</th>\n",
              "      <th>calculated_host_listings_count</th>\n",
              "      <th>availability_365</th>\n",
              "    </tr>\n",
              "  </thead>\n",
              "  <tbody>\n",
              "    <tr>\n",
              "      <th>0</th>\n",
              "      <td>2539</td>\n",
              "      <td>Clean &amp; quiet apt home by the park</td>\n",
              "      <td>2787</td>\n",
              "      <td>John</td>\n",
              "      <td>Brooklyn</td>\n",
              "      <td>Kensington</td>\n",
              "      <td>40.64749</td>\n",
              "      <td>-73.97237</td>\n",
              "      <td>Private room</td>\n",
              "      <td>149</td>\n",
              "      <td>1</td>\n",
              "      <td>9</td>\n",
              "      <td>2018-10-19</td>\n",
              "      <td>0.21</td>\n",
              "      <td>6</td>\n",
              "      <td>365</td>\n",
              "    </tr>\n",
              "    <tr>\n",
              "      <th>1</th>\n",
              "      <td>2595</td>\n",
              "      <td>Skylit Midtown Castle</td>\n",
              "      <td>2845</td>\n",
              "      <td>Jennifer</td>\n",
              "      <td>Manhattan</td>\n",
              "      <td>Midtown</td>\n",
              "      <td>40.75362</td>\n",
              "      <td>-73.98377</td>\n",
              "      <td>Entire home/apt</td>\n",
              "      <td>225</td>\n",
              "      <td>1</td>\n",
              "      <td>45</td>\n",
              "      <td>2019-05-21</td>\n",
              "      <td>0.38</td>\n",
              "      <td>2</td>\n",
              "      <td>355</td>\n",
              "    </tr>\n",
              "    <tr>\n",
              "      <th>2</th>\n",
              "      <td>3647</td>\n",
              "      <td>THE VILLAGE OF HARLEM....NEW YORK !</td>\n",
              "      <td>4632</td>\n",
              "      <td>Elisabeth</td>\n",
              "      <td>Manhattan</td>\n",
              "      <td>Harlem</td>\n",
              "      <td>40.80902</td>\n",
              "      <td>-73.94190</td>\n",
              "      <td>Private room</td>\n",
              "      <td>150</td>\n",
              "      <td>3</td>\n",
              "      <td>0</td>\n",
              "      <td>NaN</td>\n",
              "      <td>NaN</td>\n",
              "      <td>1</td>\n",
              "      <td>365</td>\n",
              "    </tr>\n",
              "    <tr>\n",
              "      <th>3</th>\n",
              "      <td>3831</td>\n",
              "      <td>Cozy Entire Floor of Brownstone</td>\n",
              "      <td>4869</td>\n",
              "      <td>LisaRoxanne</td>\n",
              "      <td>Brooklyn</td>\n",
              "      <td>Clinton Hill</td>\n",
              "      <td>40.68514</td>\n",
              "      <td>-73.95976</td>\n",
              "      <td>Entire home/apt</td>\n",
              "      <td>89</td>\n",
              "      <td>1</td>\n",
              "      <td>270</td>\n",
              "      <td>2019-07-05</td>\n",
              "      <td>4.64</td>\n",
              "      <td>1</td>\n",
              "      <td>194</td>\n",
              "    </tr>\n",
              "    <tr>\n",
              "      <th>4</th>\n",
              "      <td>5022</td>\n",
              "      <td>Entire Apt: Spacious Studio/Loft by central park</td>\n",
              "      <td>7192</td>\n",
              "      <td>Laura</td>\n",
              "      <td>Manhattan</td>\n",
              "      <td>East Harlem</td>\n",
              "      <td>40.79851</td>\n",
              "      <td>-73.94399</td>\n",
              "      <td>Entire home/apt</td>\n",
              "      <td>80</td>\n",
              "      <td>10</td>\n",
              "      <td>9</td>\n",
              "      <td>2018-11-19</td>\n",
              "      <td>0.10</td>\n",
              "      <td>1</td>\n",
              "      <td>0</td>\n",
              "    </tr>\n",
              "  </tbody>\n",
              "</table>\n",
              "</div>\n",
              "      <button class=\"colab-df-convert\" onclick=\"convertToInteractive('df-5171e790-103c-4409-8583-e4a0878e3e30')\"\n",
              "              title=\"Convert this dataframe to an interactive table.\"\n",
              "              style=\"display:none;\">\n",
              "        \n",
              "  <svg xmlns=\"http://www.w3.org/2000/svg\" height=\"24px\"viewBox=\"0 0 24 24\"\n",
              "       width=\"24px\">\n",
              "    <path d=\"M0 0h24v24H0V0z\" fill=\"none\"/>\n",
              "    <path d=\"M18.56 5.44l.94 2.06.94-2.06 2.06-.94-2.06-.94-.94-2.06-.94 2.06-2.06.94zm-11 1L8.5 8.5l.94-2.06 2.06-.94-2.06-.94L8.5 2.5l-.94 2.06-2.06.94zm10 10l.94 2.06.94-2.06 2.06-.94-2.06-.94-.94-2.06-.94 2.06-2.06.94z\"/><path d=\"M17.41 7.96l-1.37-1.37c-.4-.4-.92-.59-1.43-.59-.52 0-1.04.2-1.43.59L10.3 9.45l-7.72 7.72c-.78.78-.78 2.05 0 2.83L4 21.41c.39.39.9.59 1.41.59.51 0 1.02-.2 1.41-.59l7.78-7.78 2.81-2.81c.8-.78.8-2.07 0-2.86zM5.41 20L4 18.59l7.72-7.72 1.47 1.35L5.41 20z\"/>\n",
              "  </svg>\n",
              "      </button>\n",
              "      \n",
              "  <style>\n",
              "    .colab-df-container {\n",
              "      display:flex;\n",
              "      flex-wrap:wrap;\n",
              "      gap: 12px;\n",
              "    }\n",
              "\n",
              "    .colab-df-convert {\n",
              "      background-color: #E8F0FE;\n",
              "      border: none;\n",
              "      border-radius: 50%;\n",
              "      cursor: pointer;\n",
              "      display: none;\n",
              "      fill: #1967D2;\n",
              "      height: 32px;\n",
              "      padding: 0 0 0 0;\n",
              "      width: 32px;\n",
              "    }\n",
              "\n",
              "    .colab-df-convert:hover {\n",
              "      background-color: #E2EBFA;\n",
              "      box-shadow: 0px 1px 2px rgba(60, 64, 67, 0.3), 0px 1px 3px 1px rgba(60, 64, 67, 0.15);\n",
              "      fill: #174EA6;\n",
              "    }\n",
              "\n",
              "    [theme=dark] .colab-df-convert {\n",
              "      background-color: #3B4455;\n",
              "      fill: #D2E3FC;\n",
              "    }\n",
              "\n",
              "    [theme=dark] .colab-df-convert:hover {\n",
              "      background-color: #434B5C;\n",
              "      box-shadow: 0px 1px 3px 1px rgba(0, 0, 0, 0.15);\n",
              "      filter: drop-shadow(0px 1px 2px rgba(0, 0, 0, 0.3));\n",
              "      fill: #FFFFFF;\n",
              "    }\n",
              "  </style>\n",
              "\n",
              "      <script>\n",
              "        const buttonEl =\n",
              "          document.querySelector('#df-5171e790-103c-4409-8583-e4a0878e3e30 button.colab-df-convert');\n",
              "        buttonEl.style.display =\n",
              "          google.colab.kernel.accessAllowed ? 'block' : 'none';\n",
              "\n",
              "        async function convertToInteractive(key) {\n",
              "          const element = document.querySelector('#df-5171e790-103c-4409-8583-e4a0878e3e30');\n",
              "          const dataTable =\n",
              "            await google.colab.kernel.invokeFunction('convertToInteractive',\n",
              "                                                     [key], {});\n",
              "          if (!dataTable) return;\n",
              "\n",
              "          const docLinkHtml = 'Like what you see? Visit the ' +\n",
              "            '<a target=\"_blank\" href=https://colab.research.google.com/notebooks/data_table.ipynb>data table notebook</a>'\n",
              "            + ' to learn more about interactive tables.';\n",
              "          element.innerHTML = '';\n",
              "          dataTable['output_type'] = 'display_data';\n",
              "          await google.colab.output.renderOutput(dataTable, element);\n",
              "          const docLink = document.createElement('div');\n",
              "          docLink.innerHTML = docLinkHtml;\n",
              "          element.appendChild(docLink);\n",
              "        }\n",
              "      </script>\n",
              "    </div>\n",
              "  </div>\n",
              "  "
            ]
          },
          "metadata": {},
          "execution_count": 7
        }
      ]
    },
    {
      "cell_type": "code",
      "source": [
        "#Checking the column level count of null or NA values\n",
        "df_in.isnull().sum()"
      ],
      "metadata": {
        "colab": {
          "base_uri": "https://localhost:8080/"
        },
        "id": "6l8h_XzsDteK",
        "outputId": "587fb0ac-8c7c-44c1-d6f4-5258553f6ca2"
      },
      "execution_count": 8,
      "outputs": [
        {
          "output_type": "execute_result",
          "data": {
            "text/plain": [
              "id                                    0\n",
              "name                                 16\n",
              "host_id                               0\n",
              "host_name                            21\n",
              "neighbourhood_group                   0\n",
              "neighbourhood                         0\n",
              "latitude                              0\n",
              "longitude                             0\n",
              "room_type                             0\n",
              "price                                 0\n",
              "minimum_nights                        0\n",
              "number_of_reviews                     0\n",
              "last_review                       10052\n",
              "reviews_per_month                 10052\n",
              "calculated_host_listings_count        0\n",
              "availability_365                      0\n",
              "dtype: int64"
            ]
          },
          "metadata": {},
          "execution_count": 8
        }
      ]
    },
    {
      "cell_type": "code",
      "source": [
        "#For some categorical/numerical variables, printing the unique values\n",
        "cols = ['neighbourhood_group','neighbourhood','minimum_nights','room_type','calculated_host_listings_count']\n",
        "\n",
        "for y in cols:\n",
        "  uni = df_in[y].unique()\n",
        "  print(f\"{y}:{uni}\")"
      ],
      "metadata": {
        "colab": {
          "base_uri": "https://localhost:8080/"
        },
        "id": "gFpwTlDOCft_",
        "outputId": "eb4c03db-1504-4182-ba67-0a032ab252fb"
      },
      "execution_count": 9,
      "outputs": [
        {
          "output_type": "stream",
          "name": "stdout",
          "text": [
            "neighbourhood_group:['Brooklyn' 'Manhattan' 'Queens' 'Staten Island' 'Bronx']\n",
            "neighbourhood:['Kensington' 'Midtown' 'Harlem' 'Clinton Hill' 'East Harlem'\n",
            " 'Murray Hill' 'Bedford-Stuyvesant' \"Hell's Kitchen\" 'Upper West Side'\n",
            " 'Chinatown' 'South Slope' 'West Village' 'Williamsburg' 'Fort Greene'\n",
            " 'Chelsea' 'Crown Heights' 'Park Slope' 'Windsor Terrace' 'Inwood'\n",
            " 'East Village' 'Greenpoint' 'Bushwick' 'Flatbush' 'Lower East Side'\n",
            " 'Prospect-Lefferts Gardens' 'Long Island City' 'Kips Bay' 'SoHo'\n",
            " 'Upper East Side' 'Prospect Heights' 'Washington Heights' 'Woodside'\n",
            " 'Brooklyn Heights' 'Carroll Gardens' 'Gowanus' 'Flatlands' 'Cobble Hill'\n",
            " 'Flushing' 'Boerum Hill' 'Sunnyside' 'DUMBO' 'St. George' 'Highbridge'\n",
            " 'Financial District' 'Ridgewood' 'Morningside Heights' 'Jamaica'\n",
            " 'Middle Village' 'NoHo' 'Ditmars Steinway' 'Flatiron District'\n",
            " 'Roosevelt Island' 'Greenwich Village' 'Little Italy' 'East Flatbush'\n",
            " 'Tompkinsville' 'Astoria' 'Clason Point' 'Eastchester' 'Kingsbridge'\n",
            " 'Two Bridges' 'Queens Village' 'Rockaway Beach' 'Forest Hills' 'Nolita'\n",
            " 'Woodlawn' 'University Heights' 'Gravesend' 'Gramercy' 'Allerton'\n",
            " 'East New York' 'Theater District' 'Concourse Village' 'Sheepshead Bay'\n",
            " 'Emerson Hill' 'Fort Hamilton' 'Bensonhurst' 'Tribeca' 'Shore Acres'\n",
            " 'Sunset Park' 'Concourse' 'Elmhurst' 'Brighton Beach' 'Jackson Heights'\n",
            " 'Cypress Hills' 'St. Albans' 'Arrochar' 'Rego Park' 'Wakefield' 'Clifton'\n",
            " 'Bay Ridge' 'Graniteville' 'Spuyten Duyvil' 'Stapleton' 'Briarwood'\n",
            " 'Ozone Park' 'Columbia St' 'Vinegar Hill' 'Mott Haven' 'Longwood'\n",
            " 'Canarsie' 'Battery Park City' 'Civic Center' 'East Elmhurst'\n",
            " 'New Springville' 'Morris Heights' 'Arverne' 'Cambria Heights'\n",
            " 'Tottenville' 'Mariners Harbor' 'Concord' 'Borough Park' 'Bayside'\n",
            " 'Downtown Brooklyn' 'Port Morris' 'Fieldston' 'Kew Gardens' 'Midwood'\n",
            " 'College Point' 'Mount Eden' 'City Island' 'Glendale' 'Port Richmond'\n",
            " 'Red Hook' 'Richmond Hill' 'Bellerose' 'Maspeth' 'Williamsbridge'\n",
            " 'Soundview' 'Woodhaven' 'Woodrow' 'Co-op City' 'Stuyvesant Town'\n",
            " 'Parkchester' 'North Riverdale' 'Dyker Heights' 'Bronxdale' 'Sea Gate'\n",
            " 'Riverdale' 'Kew Gardens Hills' 'Bay Terrace' 'Norwood'\n",
            " 'Claremont Village' 'Whitestone' 'Fordham' 'Bayswater' 'Navy Yard'\n",
            " 'Brownsville' 'Eltingville' 'Fresh Meadows' 'Mount Hope'\n",
            " 'Lighthouse Hill' 'Springfield Gardens' 'Howard Beach' 'Belle Harbor'\n",
            " 'Jamaica Estates' 'Van Nest' 'Morris Park' 'West Brighton' 'Far Rockaway'\n",
            " 'South Ozone Park' 'Tremont' 'Corona' 'Great Kills' 'Manhattan Beach'\n",
            " 'Marble Hill' 'Dongan Hills' 'Castleton Corners' 'East Morrisania'\n",
            " 'Hunts Point' 'Neponsit' 'Pelham Bay' 'Randall Manor' 'Throgs Neck'\n",
            " 'Todt Hill' 'West Farms' 'Silver Lake' 'Morrisania' 'Laurelton'\n",
            " 'Grymes Hill' 'Holliswood' 'Pelham Gardens' 'Belmont' 'Rosedale'\n",
            " 'Edgemere' 'New Brighton' 'Midland Beach' 'Baychester' 'Melrose'\n",
            " 'Bergen Beach' 'Richmondtown' 'Howland Hook' 'Schuylerville'\n",
            " 'Coney Island' 'New Dorp Beach' \"Prince's Bay\" 'South Beach' 'Bath Beach'\n",
            " 'Jamaica Hills' 'Oakwood' 'Castle Hill' 'Hollis' 'Douglaston' 'Huguenot'\n",
            " 'Olinville' 'Edenwald' 'Grant City' 'Westerleigh'\n",
            " 'Bay Terrace, Staten Island' 'Westchester Square' 'Little Neck'\n",
            " 'Fort Wadsworth' 'Rosebank' 'Unionport' 'Mill Basin' 'Arden Heights'\n",
            " \"Bull's Head\" 'New Dorp' 'Rossville' 'Breezy Point' 'Willowbrook']\n",
            "minimum_nights:[   1    3   10   45    2    5    4   90    7   14   60   29   30  180\n",
            "    9   31    6   15    8   26   28  200   50   17   21   11   25   13\n",
            "   35   27   18   20   40   44   65   55  120  365  122   19  240   88\n",
            "  115  150  370   16   80  181  265  300   59  185  360   56   12   70\n",
            "   39   24   32 1000  110  270   22   75  250   62   23 1250  364   74\n",
            "  198  100  500   43   91  480   53   99  160   47  999  186  366   68\n",
            "   93   87  183  299  175   98  133  354   42   33   37  225  400  105\n",
            "  184  153  134  222   58  210  275  182  114   85   36]\n",
            "room_type:['Private room' 'Entire home/apt' 'Shared room']\n",
            "calculated_host_listings_count:[  6   2   1   4   3   5   7  13  28  11   8   9  52  18  15  19  10  39\n",
            "  26  29  12  21  96  14  34  43 121  37  49  31  91  16  87  33  23  50\n",
            "  20  25 232  17  47 103  65  30  27 327  32]\n"
          ]
        }
      ]
    },
    {
      "cell_type": "code",
      "source": [
        "#For every column in the dataframe, printing the total rows & distinct count of elements in them\n",
        "for x in df_in.columns:\n",
        "  cnt = df_in[x].count()\n",
        "  uni = df_in[x].nunique()\n",
        "  print(f\"{x} : {cnt}/{uni}\")"
      ],
      "metadata": {
        "colab": {
          "base_uri": "https://localhost:8080/"
        },
        "id": "kKzGDFKG8UD9",
        "outputId": "e688f289-3a62-4f5f-8be2-d02fe800ce70"
      },
      "execution_count": 10,
      "outputs": [
        {
          "output_type": "stream",
          "name": "stdout",
          "text": [
            "id : 48895/48895\n",
            "name : 48879/47905\n",
            "host_id : 48895/37457\n",
            "host_name : 48874/11452\n",
            "neighbourhood_group : 48895/5\n",
            "neighbourhood : 48895/221\n",
            "latitude : 48895/19048\n",
            "longitude : 48895/14718\n",
            "room_type : 48895/3\n",
            "price : 48895/674\n",
            "minimum_nights : 48895/109\n",
            "number_of_reviews : 48895/394\n",
            "last_review : 38843/1764\n",
            "reviews_per_month : 38843/937\n",
            "calculated_host_listings_count : 48895/47\n",
            "availability_365 : 48895/366\n"
          ]
        }
      ]
    },
    {
      "cell_type": "code",
      "source": [
        "#Printing the dataframe details as info list for understanding\n",
        "df_in.info()"
      ],
      "metadata": {
        "id": "lXAXxOJt3LuW",
        "outputId": "a31b55ff-ae94-4e2a-b9ce-01f26dcebaf0",
        "colab": {
          "base_uri": "https://localhost:8080/"
        }
      },
      "execution_count": 11,
      "outputs": [
        {
          "output_type": "stream",
          "name": "stdout",
          "text": [
            "<class 'pandas.core.frame.DataFrame'>\n",
            "RangeIndex: 48895 entries, 0 to 48894\n",
            "Data columns (total 16 columns):\n",
            " #   Column                          Non-Null Count  Dtype  \n",
            "---  ------                          --------------  -----  \n",
            " 0   id                              48895 non-null  int64  \n",
            " 1   name                            48879 non-null  object \n",
            " 2   host_id                         48895 non-null  int64  \n",
            " 3   host_name                       48874 non-null  object \n",
            " 4   neighbourhood_group             48895 non-null  object \n",
            " 5   neighbourhood                   48895 non-null  object \n",
            " 6   latitude                        48895 non-null  float64\n",
            " 7   longitude                       48895 non-null  float64\n",
            " 8   room_type                       48895 non-null  object \n",
            " 9   price                           48895 non-null  int64  \n",
            " 10  minimum_nights                  48895 non-null  int64  \n",
            " 11  number_of_reviews               48895 non-null  int64  \n",
            " 12  last_review                     38843 non-null  object \n",
            " 13  reviews_per_month               38843 non-null  float64\n",
            " 14  calculated_host_listings_count  48895 non-null  int64  \n",
            " 15  availability_365                48895 non-null  int64  \n",
            "dtypes: float64(3), int64(7), object(6)\n",
            "memory usage: 6.0+ MB\n"
          ]
        }
      ]
    },
    {
      "cell_type": "markdown",
      "source": [
        "#Categorical Variables Distribution"
      ],
      "metadata": {
        "id": "0FV3eEGWovP8"
      }
    },
    {
      "cell_type": "code",
      "source": [
        "#Plotting a distribution of the data across different neighbourhood values\n",
        "\n",
        "plot = sns.catplot(x='neighbourhood_group', kind='count' ,data=df_in)\n",
        "plot.fig.suptitle('Distribution of Properties across NY neighbourhood')\n",
        "plot.set(xlabel = 'Neighbourhood Group')\n",
        "\n",
        "ax = plot.facet_axis(0,0)\n",
        "for p in ax.patches:\n",
        "    ax.annotate(format(p.get_height(), '.0f'), \n",
        "                (p.get_x() + p.get_width() / 2., p.get_height()), \n",
        "                ha = 'center', va = 'center', \n",
        "                xytext = (0, 9), \n",
        "                textcoords = 'offset points')\n",
        "\n",
        "\n",
        "plot.fig.set_size_inches(12,6)\n",
        "\n",
        "plt.show()"
      ],
      "metadata": {
        "colab": {
          "base_uri": "https://localhost:8080/",
          "height": 434
        },
        "id": "RODmo3aeo6c7",
        "outputId": "34026922-5db8-4a8b-c66a-4b8d0f08a19a"
      },
      "execution_count": 12,
      "outputs": [
        {
          "output_type": "display_data",
          "data": {
            "text/plain": [
              "<Figure size 864x432 with 1 Axes>"
            ],
            "image/png": "[encoded data removed]"
          },
          "metadata": {
            "needs_background": "light"
          }
        }
      ]
    },
    {
      "cell_type": "code",
      "source": [
        "#Plotting a distribution of the data across different Room Type values\n",
        "\n",
        "plot = sns.catplot(x='room_type', kind='count' ,data=df_in)\n",
        "plot.fig.suptitle('Distribution of Properties across Room Type')\n",
        "plot.set(xlabel = 'Room Type')\n",
        "\n",
        "ax = plot.facet_axis(0,0)\n",
        "for p in ax.patches:\n",
        "    ax.annotate(format(p.get_height(), '.0f'), \n",
        "                (p.get_x() + p.get_width() / 2., p.get_height()), \n",
        "                ha = 'center', va = 'center', \n",
        "                xytext = (0, 9), \n",
        "                textcoords = 'offset points')\n",
        "\n",
        "\n",
        "plot.fig.set_size_inches(12,6)\n",
        "\n",
        "plt.show()"
      ],
      "metadata": {
        "colab": {
          "base_uri": "https://localhost:8080/",
          "height": 435
        },
        "id": "S-k7LmZxqKKv",
        "outputId": "45e0e5ca-f55a-43ed-d685-6554d83c9951"
      },
      "execution_count": 13,
      "outputs": [
        {
          "output_type": "display_data",
          "data": {
            "text/plain": [
              "<Figure size 864x432 with 1 Axes>"
            ],
            "image/png": "[encoded data removed]"
          },
          "metadata": {
            "needs_background": "light"
          }
        }
      ]
    },
    {
      "cell_type": "markdown",
      "source": [
        "#Numerical Variables' Distribution"
      ],
      "metadata": {
        "id": "14NKC1DCqTyr"
      }
    },
    {
      "cell_type": "code",
      "source": [
        "#Similar to the categorical variables, plotting the numerical variables using a distribution plot along with their mean values (dotted red line)\n",
        "\n",
        "fig, axs = plt.subplots(3, 2, figsize=(10, 10))\n",
        "\n",
        "cols = ['price', 'minimum_nights', 'number_of_reviews', 'reviews_per_month', 'calculated_host_listings_count', 'availability_365']\n",
        "\n",
        "for idx, col in enumerate(cols):\n",
        "    row = idx // 2\n",
        "    col1 = idx % 2\n",
        "    sns.kdeplot(ax=axs[row, col1], data=df_in, x=col, shade=True)\n",
        "    axs[row, col1].set_xlabel(col)\n",
        "    axs[row, col1].set_ylabel('Frequency')\n",
        "    \n",
        "    axs[row, col1].axvline(x=df_in[col].mean(), color='red', linestyle='dashed', linewidth=1)\n",
        "    \n",
        "fig.suptitle('Frequency Distribution Matrix of Airbnb Data')\n",
        "\n",
        "plt.tight_layout()\n",
        "plt.show()\n"
      ],
      "metadata": {
        "id": "OjpRvTs2-UIH",
        "outputId": "e63f4a3d-99f0-42eb-950e-a97da2270dc2",
        "colab": {
          "base_uri": "https://localhost:8080/",
          "height": 726
        }
      },
      "execution_count": 14,
      "outputs": [
        {
          "output_type": "display_data",
          "data": {
            "text/plain": [
              "<Figure size 720x720 with 6 Axes>"
            ],
            "image/png": "[encoded data removed]"
          },
          "metadata": {
            "needs_background": "light"
          }
        }
      ]
    },
    {
      "cell_type": "code",
      "source": [
        "#Numerical variables described to see the min, max and average values\n",
        "\n",
        "df_in[['price','minimum_nights','number_of_reviews','reviews_per_month','calculated_host_listings_count','availability_365']].describe()"
      ],
      "metadata": {
        "colab": {
          "base_uri": "https://localhost:8080/",
          "height": 297
        },
        "id": "DvpUgc9z_Wrn",
        "outputId": "1959e4c0-f80e-4cb1-af6f-c143f361bc07"
      },
      "execution_count": 16,
      "outputs": [
        {
          "output_type": "execute_result",
          "data": {
            "text/plain": [
              "              price  minimum_nights  number_of_reviews  reviews_per_month  \\\n",
              "count  48895.000000    48895.000000       48895.000000       38843.000000   \n",
              "mean     152.720687        7.029962          23.274466           1.373221   \n",
              "std      240.154170       20.510550          44.550582           1.680442   \n",
              "min        0.000000        1.000000           0.000000           0.010000   \n",
              "25%       69.000000        1.000000           1.000000           0.190000   \n",
              "50%      106.000000        3.000000           5.000000           0.720000   \n",
              "75%      175.000000        5.000000          24.000000           2.020000   \n",
              "max    10000.000000     1250.000000         629.000000          58.500000   \n",
              "\n",
              "       calculated_host_listings_count  availability_365  \n",
              "count                    48895.000000      48895.000000  \n",
              "mean                         7.143982        112.781327  \n",
              "std                         32.952519        131.622289  \n",
              "min                          1.000000          0.000000  \n",
              "25%                          1.000000          0.000000  \n",
              "50%                          1.000000         45.000000  \n",
              "75%                          2.000000        227.000000  \n",
              "max                        327.000000        365.000000  "
            ],
            "text/html": [
              "\n",
              "  <div id=\"df-273d6836-9f77-472a-a1a7-dae20c4567e8\">\n",
              "    <div class=\"colab-df-container\">\n",
              "      <div>\n",
              "<style scoped>\n",
              "    .dataframe tbody tr th:only-of-type {\n",
              "        vertical-align: middle;\n",
              "    }\n",
              "\n",
              "    .dataframe tbody tr th {\n",
              "        vertical-align: top;\n",
              "    }\n",
              "\n",
              "    .dataframe thead th {\n",
              "        text-align: right;\n",
              "    }\n",
              "</style>\n",
              "<table border=\"1\" class=\"dataframe\">\n",
              "  <thead>\n",
              "    <tr style=\"text-align: right;\">\n",
              "      <th></th>\n",
              "      <th>price</th>\n",
              "      <th>minimum_nights</th>\n",
              "      <th>number_of_reviews</th>\n",
              "      <th>reviews_per_month</th>\n",
              "      <th>calculated_host_listings_count</th>\n",
              "      <th>availability_365</th>\n",
              "    </tr>\n",
              "  </thead>\n",
              "  <tbody>\n",
              "    <tr>\n",
              "      <th>count</th>\n",
              "      <td>48895.000000</td>\n",
              "      <td>48895.000000</td>\n",
              "      <td>48895.000000</td>\n",
              "      <td>38843.000000</td>\n",
              "      <td>48895.000000</td>\n",
              "      <td>48895.000000</td>\n",
              "    </tr>\n",
              "    <tr>\n",
              "      <th>mean</th>\n",
              "      <td>152.720687</td>\n",
              "      <td>7.029962</td>\n",
              "      <td>23.274466</td>\n",
              "      <td>1.373221</td>\n",
              "      <td>7.143982</td>\n",
              "      <td>112.781327</td>\n",
              "    </tr>\n",
              "    <tr>\n",
              "      <th>std</th>\n",
              "      <td>240.154170</td>\n",
              "      <td>20.510550</td>\n",
              "      <td>44.550582</td>\n",
              "      <td>1.680442</td>\n",
              "      <td>32.952519</td>\n",
              "      <td>131.622289</td>\n",
              "    </tr>\n",
              "    <tr>\n",
              "      <th>min</th>\n",
              "      <td>0.000000</td>\n",
              "      <td>1.000000</td>\n",
              "      <td>0.000000</td>\n",
              "      <td>0.010000</td>\n",
              "      <td>1.000000</td>\n",
              "      <td>0.000000</td>\n",
              "    </tr>\n",
              "    <tr>\n",
              "      <th>25%</th>\n",
              "      <td>69.000000</td>\n",
              "      <td>1.000000</td>\n",
              "      <td>1.000000</td>\n",
              "      <td>0.190000</td>\n",
              "      <td>1.000000</td>\n",
              "      <td>0.000000</td>\n",
              "    </tr>\n",
              "    <tr>\n",
              "      <th>50%</th>\n",
              "      <td>106.000000</td>\n",
              "      <td>3.000000</td>\n",
              "      <td>5.000000</td>\n",
              "      <td>0.720000</td>\n",
              "      <td>1.000000</td>\n",
              "      <td>45.000000</td>\n",
              "    </tr>\n",
              "    <tr>\n",
              "      <th>75%</th>\n",
              "      <td>175.000000</td>\n",
              "      <td>5.000000</td>\n",
              "      <td>24.000000</td>\n",
              "      <td>2.020000</td>\n",
              "      <td>2.000000</td>\n",
              "      <td>227.000000</td>\n",
              "    </tr>\n",
              "    <tr>\n",
              "      <th>max</th>\n",
              "      <td>10000.000000</td>\n",
              "      <td>1250.000000</td>\n",
              "      <td>629.000000</td>\n",
              "      <td>58.500000</td>\n",
              "      <td>327.000000</td>\n",
              "      <td>365.000000</td>\n",
              "    </tr>\n",
              "  </tbody>\n",
              "</table>\n",
              "</div>\n",
              "      <button class=\"colab-df-convert\" onclick=\"convertToInteractive('df-273d6836-9f77-472a-a1a7-dae20c4567e8')\"\n",
              "              title=\"Convert this dataframe to an interactive table.\"\n",
              "              style=\"display:none;\">\n",
              "        \n",
              "  <svg xmlns=\"http://www.w3.org/2000/svg\" height=\"24px\"viewBox=\"0 0 24 24\"\n",
              "       width=\"24px\">\n",
              "    <path d=\"M0 0h24v24H0V0z\" fill=\"none\"/>\n",
              "    <path d=\"M18.56 5.44l.94 2.06.94-2.06 2.06-.94-2.06-.94-.94-2.06-.94 2.06-2.06.94zm-11 1L8.5 8.5l.94-2.06 2.06-.94-2.06-.94L8.5 2.5l-.94 2.06-2.06.94zm10 10l.94 2.06.94-2.06 2.06-.94-2.06-.94-.94-2.06-.94 2.06-2.06.94z\"/><path d=\"M17.41 7.96l-1.37-1.37c-.4-.4-.92-.59-1.43-.59-.52 0-1.04.2-1.43.59L10.3 9.45l-7.72 7.72c-.78.78-.78 2.05 0 2.83L4 21.41c.39.39.9.59 1.41.59.51 0 1.02-.2 1.41-.59l7.78-7.78 2.81-2.81c.8-.78.8-2.07 0-2.86zM5.41 20L4 18.59l7.72-7.72 1.47 1.35L5.41 20z\"/>\n",
              "  </svg>\n",
              "      </button>\n",
              "      \n",
              "  <style>\n",
              "    .colab-df-container {\n",
              "      display:flex;\n",
              "      flex-wrap:wrap;\n",
              "      gap: 12px;\n",
              "    }\n",
              "\n",
              "    .colab-df-convert {\n",
              "      background-color: #E8F0FE;\n",
              "      border: none;\n",
              "      border-radius: 50%;\n",
              "      cursor: pointer;\n",
              "      display: none;\n",
              "      fill: #1967D2;\n",
              "      height: 32px;\n",
              "      padding: 0 0 0 0;\n",
              "      width: 32px;\n",
              "    }\n",
              "\n",
              "    .colab-df-convert:hover {\n",
              "      background-color: #E2EBFA;\n",
              "      box-shadow: 0px 1px 2px rgba(60, 64, 67, 0.3), 0px 1px 3px 1px rgba(60, 64, 67, 0.15);\n",
              "      fill: #174EA6;\n",
              "    }\n",
              "\n",
              "    [theme=dark] .colab-df-convert {\n",
              "      background-color: #3B4455;\n",
              "      fill: #D2E3FC;\n",
              "    }\n",
              "\n",
              "    [theme=dark] .colab-df-convert:hover {\n",
              "      background-color: #434B5C;\n",
              "      box-shadow: 0px 1px 3px 1px rgba(0, 0, 0, 0.15);\n",
              "      filter: drop-shadow(0px 1px 2px rgba(0, 0, 0, 0.3));\n",
              "      fill: #FFFFFF;\n",
              "    }\n",
              "  </style>\n",
              "\n",
              "      <script>\n",
              "        const buttonEl =\n",
              "          document.querySelector('#df-273d6836-9f77-472a-a1a7-dae20c4567e8 button.colab-df-convert');\n",
              "        buttonEl.style.display =\n",
              "          google.colab.kernel.accessAllowed ? 'block' : 'none';\n",
              "\n",
              "        async function convertToInteractive(key) {\n",
              "          const element = document.querySelector('#df-273d6836-9f77-472a-a1a7-dae20c4567e8');\n",
              "          const dataTable =\n",
              "            await google.colab.kernel.invokeFunction('convertToInteractive',\n",
              "                                                     [key], {});\n",
              "          if (!dataTable) return;\n",
              "\n",
              "          const docLinkHtml = 'Like what you see? Visit the ' +\n",
              "            '<a target=\"_blank\" href=https://colab.research.google.com/notebooks/data_table.ipynb>data table notebook</a>'\n",
              "            + ' to learn more about interactive tables.';\n",
              "          element.innerHTML = '';\n",
              "          dataTable['output_type'] = 'display_data';\n",
              "          await google.colab.output.renderOutput(dataTable, element);\n",
              "          const docLink = document.createElement('div');\n",
              "          docLink.innerHTML = docLinkHtml;\n",
              "          element.appendChild(docLink);\n",
              "        }\n",
              "      </script>\n",
              "    </div>\n",
              "  </div>\n",
              "  "
            ]
          },
          "metadata": {},
          "execution_count": 16
        }
      ]
    },
    {
      "cell_type": "code",
      "source": [
        "#Checking for rows that has no price - only 11 rows with no price\n",
        "\n",
        "(df_in.price == 0).astype(int).sum()"
      ],
      "metadata": {
        "colab": {
          "base_uri": "https://localhost:8080/"
        },
        "id": "03GwP2WVZvi_",
        "outputId": "9d3ed01b-afc5-470f-84a6-746fc1dd13be"
      },
      "execution_count": 18,
      "outputs": [
        {
          "output_type": "execute_result",
          "data": {
            "text/plain": [
              "11"
            ]
          },
          "metadata": {},
          "execution_count": 18
        }
      ]
    },
    {
      "cell_type": "code",
      "source": [
        "#To tackle the skewness in the price variable, transformation being plotted to see if the data looks more normally distributed\n",
        "\n",
        "fig, axes = plt.subplots(1,2, figsize=(21,6))\n",
        "sns.kdeplot(np.sqrt(df_in['price']), ax =axes[0], shade = 'True')\n",
        "axes[0].axvline(x=(np.sqrt(df_in['price'])).mean(), color='red', linestyle='dashed', linewidth=1)\n",
        "axes[0].set_xlabel('Square Root Transformation')\n",
        "\n",
        "sns.kdeplot(np.log1p(df_in['price']), ax = axes[1], shade = 'True')\n",
        "axes[1].axvline(x=(np.log1p(df_in['price'])).mean(), color='red', linestyle='dashed', linewidth=1)\n",
        "axes[1].set_xlabel('Log+1 Transformation')\n",
        "\n",
        "fig.suptitle('Frequency Distribution of transformation with sqrt and log1p functions on Price')"
      ],
      "metadata": {
        "colab": {
          "base_uri": "https://localhost:8080/",
          "height": 448
        },
        "id": "rs_XAYntYIeE",
        "outputId": "bea950a4-9f94-4e4c-b7c7-015ff9759a18"
      },
      "execution_count": 19,
      "outputs": [
        {
          "output_type": "execute_result",
          "data": {
            "text/plain": [
              "Text(0.5, 0.98, 'Frequency Distribution of transformation with sqrt and log1p functions on Price')"
            ]
          },
          "metadata": {},
          "execution_count": 19
        },
        {
          "output_type": "display_data",
          "data": {
            "text/plain": [
              "<Figure size 1512x432 with 2 Axes>"
            ],
            "image/png": "[encoded data removed]"
          },
          "metadata": {
            "needs_background": "light"
          }
        }
      ]
    },
    {
      "cell_type": "code",
      "source": [
        "#To tackle the skewness in the minimum_nights variable, transformation being plotted to see if the data looks more normally distributed\n",
        "\n",
        "fig, axes = plt.subplots(1,2, figsize=(21,6))\n",
        "sns.kdeplot(np.sqrt(df_in['minimum_nights']), ax =axes[0], shade = True)\n",
        "axes[0].axvline(x=(np.sqrt(df_in['minimum_nights'])).mean(), color='red', linestyle='dashed', linewidth=1)\n",
        "axes[0].set_xlabel('Square Root Transformation')\n",
        "\n",
        "sns.kdeplot(np.log1p(df_in['minimum_nights']), ax = axes[1], shade = True)\n",
        "axes[1].axvline(x=(np.log1p(df_in['minimum_nights'])).mean(), color='red', linestyle='dashed', linewidth=1)\n",
        "axes[1].set_xlabel('Log Root Transformation')\n",
        "\n",
        "fig.suptitle('Frequency Distribution of transformation with log1p function on minimum_nights')"
      ],
      "metadata": {
        "colab": {
          "base_uri": "https://localhost:8080/",
          "height": 448
        },
        "id": "mFtn5FWbaWoi",
        "outputId": "51a85717-e6bc-4dba-acdc-395738784ce3"
      },
      "execution_count": 20,
      "outputs": [
        {
          "output_type": "execute_result",
          "data": {
            "text/plain": [
              "Text(0.5, 0.98, 'Frequency Distribution of transformation with log1p function on minimum_nights')"
            ]
          },
          "metadata": {},
          "execution_count": 20
        },
        {
          "output_type": "display_data",
          "data": {
            "text/plain": [
              "<Figure size 1512x432 with 2 Axes>"
            ],
            "image/png": "[encoded data removed]"
          },
          "metadata": {
            "needs_background": "light"
          }
        }
      ]
    },
    {
      "cell_type": "code",
      "source": [
        "#Distribution plot of reviews_per_month that shows that there are a lot of properties with little or no reviews\n",
        "\n",
        "plot = sns.kdeplot((df_in['reviews_per_month']), shade = True)\n",
        "\n",
        "plot.set(title = 'Frequency distribution of the reviews_per_month metric')\n",
        "\n",
        "plot.set(xlabel = 'Reviews per month')\n",
        "\n",
        "plt.show()"
      ],
      "metadata": {
        "colab": {
          "base_uri": "https://localhost:8080/",
          "height": 295
        },
        "id": "AYJC8xDJW276",
        "outputId": "60b405b0-d79a-4a9e-c97a-341f1456a053"
      },
      "execution_count": 21,
      "outputs": [
        {
          "output_type": "display_data",
          "data": {
            "text/plain": [
              "<Figure size 432x288 with 1 Axes>"
            ],
            "image/png": "[encoded data removed]"
          },
          "metadata": {
            "needs_background": "light"
          }
        }
      ]
    },
    {
      "cell_type": "code",
      "source": [
        "#filling the NA values in reviews_per_month as zero\n",
        "\n",
        "df_in['reviews_per_month'] = df_in['reviews_per_month'].fillna(0)"
      ],
      "metadata": {
        "id": "9bzm7bYbVjTU"
      },
      "execution_count": 23,
      "outputs": []
    },
    {
      "cell_type": "code",
      "source": [
        "#Converting the last_review column in dataset as datetime format\n",
        "\n",
        "df_in['last_review'] = pd.to_datetime(df_in['last_review'])"
      ],
      "metadata": {
        "id": "y5FyOi8eWMqb"
      },
      "execution_count": 25,
      "outputs": []
    },
    {
      "cell_type": "code",
      "source": [
        "#converting the date column into number of days from a particular minimum date to make the variable more continuous\n",
        "\n",
        "old = min(df_in['last_review'])\n",
        "df_in['last_review'] = df_in['last_review'].fillna(old)\n",
        "df_in['days_since_review'] = df_in['last_review'].apply(lambda x: x.toordinal() - old.toordinal())"
      ],
      "metadata": {
        "id": "xjEQoCCmW7XN"
      },
      "execution_count": 26,
      "outputs": []
    },
    {
      "cell_type": "code",
      "source": [
        "df_in.price.describe()"
      ],
      "metadata": {
        "colab": {
          "base_uri": "https://localhost:8080/"
        },
        "id": "ragaKE8eYkK_",
        "outputId": "9b6a09d5-677e-43d6-bd4a-5d94583f6a66"
      },
      "execution_count": 27,
      "outputs": [
        {
          "output_type": "execute_result",
          "data": {
            "text/plain": [
              "count    48895.000000\n",
              "mean       152.720687\n",
              "std        240.154170\n",
              "min          0.000000\n",
              "25%         69.000000\n",
              "50%        106.000000\n",
              "75%        175.000000\n",
              "max      10000.000000\n",
              "Name: price, dtype: float64"
            ]
          },
          "metadata": {},
          "execution_count": 27
        }
      ]
    },
    {
      "cell_type": "code",
      "source": [
        "df_in.minimum_nights.describe()"
      ],
      "metadata": {
        "colab": {
          "base_uri": "https://localhost:8080/"
        },
        "id": "3Bg35M40aStP",
        "outputId": "9c71a390-7e64-4053-8681-b05a376c25a7"
      },
      "execution_count": 28,
      "outputs": [
        {
          "output_type": "execute_result",
          "data": {
            "text/plain": [
              "count    48895.000000\n",
              "mean         7.029962\n",
              "std         20.510550\n",
              "min          1.000000\n",
              "25%          1.000000\n",
              "50%          3.000000\n",
              "75%          5.000000\n",
              "max       1250.000000\n",
              "Name: minimum_nights, dtype: float64"
            ]
          },
          "metadata": {},
          "execution_count": 28
        }
      ]
    },
    {
      "cell_type": "code",
      "source": [
        "'''Based on our transformation comparison chart, we are using the log1p transformation for the price & minimum_nights variables \n",
        "as log1p transformation takes care of small x values instead of returning NA when log transformation is used'''\n",
        "\n",
        "df_in['price'] = np.log1p(df_in['price'])"
      ],
      "metadata": {
        "id": "5bgFLy5X1BK4"
      },
      "execution_count": 29,
      "outputs": []
    },
    {
      "cell_type": "code",
      "source": [
        "df_in['minimum_nights_log'] = np.log1p(df_in['minimum_nights'])"
      ],
      "metadata": {
        "id": "XzwyV-H7WbGR"
      },
      "execution_count": 30,
      "outputs": []
    },
    {
      "cell_type": "code",
      "source": [
        "df_in.reviews_per_month.describe()"
      ],
      "metadata": {
        "colab": {
          "base_uri": "https://localhost:8080/"
        },
        "id": "PFzpvjtPWwcF",
        "outputId": "5ff817be-23c3-48db-eb90-0d718c03c7f2"
      },
      "execution_count": 31,
      "outputs": [
        {
          "output_type": "execute_result",
          "data": {
            "text/plain": [
              "count    48895.000000\n",
              "mean         1.090910\n",
              "std          1.597283\n",
              "min          0.000000\n",
              "25%          0.040000\n",
              "50%          0.370000\n",
              "75%          1.580000\n",
              "max         58.500000\n",
              "Name: reviews_per_month, dtype: float64"
            ]
          },
          "metadata": {},
          "execution_count": 31
        }
      ]
    },
    {
      "cell_type": "code",
      "source": [
        "#Filtering for the dataframe to include only some subset of the reviews_per_month rows & availability data\n",
        "\n",
        "df_in['reviews_per_month'] = df_in[df_in['reviews_per_month'] < 15]['reviews_per_month']"
      ],
      "metadata": {
        "id": "demOelkRXH0G"
      },
      "execution_count": 33,
      "outputs": []
    },
    {
      "cell_type": "code",
      "source": [
        "#Filtering for the dataframe to include only some subset of the reviews_per_month rows & availability data\n",
        "\n",
        "df_in['year_avail'] = df_in['availability_365']>365\n",
        "\n",
        "df_in['no_reviews'] = df_in['reviews_per_month']==0"
      ],
      "metadata": {
        "id": "Ld0TdRvzXQhv"
      },
      "execution_count": 34,
      "outputs": []
    },
    {
      "cell_type": "code",
      "source": [
        "df_in.columns"
      ],
      "metadata": {
        "colab": {
          "base_uri": "https://localhost:8080/"
        },
        "id": "L83IVnYaZXam",
        "outputId": "363215aa-371c-4935-afe6-663a82e13e89"
      },
      "execution_count": 35,
      "outputs": [
        {
          "output_type": "execute_result",
          "data": {
            "text/plain": [
              "Index(['id', 'name', 'host_id', 'host_name', 'neighbourhood_group',\n",
              "       'neighbourhood', 'latitude', 'longitude', 'room_type', 'price',\n",
              "       'minimum_nights', 'number_of_reviews', 'last_review',\n",
              "       'reviews_per_month', 'calculated_host_listings_count',\n",
              "       'availability_365', 'days_since_review', 'minimum_nights_log',\n",
              "       'year_avail', 'no_reviews'],\n",
              "      dtype='object')"
            ]
          },
          "metadata": {},
          "execution_count": 35
        }
      ]
    },
    {
      "cell_type": "code",
      "source": [
        "#dropping some unwanted columns before moving to the model implementation steps\n",
        "\n",
        "df_out = df_in.drop(columns=['name', 'host_name','last_review','minimum_nights'])"
      ],
      "metadata": {
        "id": "lzqRLMQfijxH"
      },
      "execution_count": 39,
      "outputs": []
    },
    {
      "cell_type": "code",
      "source": [
        "df_out.columns"
      ],
      "metadata": {
        "colab": {
          "base_uri": "https://localhost:8080/"
        },
        "id": "GDXj-zvCe101",
        "outputId": "612f6257-5935-404c-d385-e88034d06b04"
      },
      "execution_count": 40,
      "outputs": [
        {
          "output_type": "execute_result",
          "data": {
            "text/plain": [
              "Index(['id', 'host_id', 'neighbourhood_group', 'neighbourhood', 'latitude',\n",
              "       'longitude', 'room_type', 'price', 'number_of_reviews',\n",
              "       'reviews_per_month', 'calculated_host_listings_count',\n",
              "       'availability_365', 'days_since_review', 'minimum_nights_log',\n",
              "       'year_avail', 'no_reviews'],\n",
              "      dtype='object')"
            ]
          },
          "metadata": {},
          "execution_count": 40
        }
      ]
    },
    {
      "cell_type": "code",
      "source": [
        "df_out['reviews_per_month'] = df_out['reviews_per_month'].fillna(0)"
      ],
      "metadata": {
        "id": "Mnlkx73NuknI"
      },
      "execution_count": 41,
      "outputs": []
    },
    {
      "cell_type": "code",
      "source": [
        "#Correlation matrix across all the variables to identify if there are columns that are strongly correlated\n",
        "#In this dataframe we observe that there are not noticeable correlation among the columns\n",
        "\n",
        "corrmatrix = df_out.corr()\n",
        "f, ax = plt.subplots(figsize=(15,12))\n",
        "sns.heatmap(corrmatrix, vmax=0.8, square=True)\n",
        "sns.set(font_scale=0.8)"
      ],
      "metadata": {
        "colab": {
          "base_uri": "https://localhost:8080/",
          "height": 829
        },
        "id": "FUzKYOsJY6B5",
        "outputId": "228c0143-6002-42d3-bd23-8279df963b88"
      },
      "execution_count": 44,
      "outputs": [
        {
          "output_type": "display_data",
          "data": {
            "text/plain": [
              "<Figure size 1080x864 with 2 Axes>"
            ],
            "image/png": "[encoded data removed]"
          },
          "metadata": {}
        }
      ]
    },
    {
      "cell_type": "code",
      "source": [
        "df_out.isnull().sum()"
      ],
      "metadata": {
        "colab": {
          "base_uri": "https://localhost:8080/"
        },
        "id": "rL4FdcZWuntA",
        "outputId": "b8404f01-5aa7-4eb4-81cc-542c7001ebdb"
      },
      "execution_count": 45,
      "outputs": [
        {
          "output_type": "execute_result",
          "data": {
            "text/plain": [
              "id                                0\n",
              "host_id                           0\n",
              "neighbourhood_group               0\n",
              "neighbourhood                     0\n",
              "latitude                          0\n",
              "longitude                         0\n",
              "room_type                         0\n",
              "price                             0\n",
              "number_of_reviews                 0\n",
              "reviews_per_month                 0\n",
              "calculated_host_listings_count    0\n",
              "availability_365                  0\n",
              "days_since_review                 0\n",
              "minimum_nights_log                0\n",
              "year_avail                        0\n",
              "no_reviews                        0\n",
              "dtype: int64"
            ]
          },
          "metadata": {},
          "execution_count": 45
        }
      ]
    },
    {
      "cell_type": "markdown",
      "source": [
        "#Feature Engineering"
      ],
      "metadata": {
        "id": "bwP5Xqugqh8b"
      }
    },
    {
      "cell_type": "code",
      "source": [
        "#Select only non-numeric variables to one-hot encoding process\n",
        "\n",
        "categorical_features = df_out.select_dtypes(include=['object'])"
      ],
      "metadata": {
        "id": "rblpD1zip-Rv"
      },
      "execution_count": 46,
      "outputs": []
    },
    {
      "cell_type": "code",
      "source": [
        "#One-hot encoding using the pandas get_dummies function for all the categorical variables\n",
        "\n",
        "categorical_features_one_hot = pd.get_dummies(categorical_features)\n",
        "categorical_features_one_hot.head()"
      ],
      "metadata": {
        "colab": {
          "base_uri": "https://localhost:8080/",
          "height": 314
        },
        "id": "vcAn_YDTp-MM",
        "outputId": "1468ad11-f165-49b2-d68f-9d73fffb7bdc"
      },
      "execution_count": 47,
      "outputs": [
        {
          "output_type": "execute_result",
          "data": {
            "text/plain": [
              "   neighbourhood_group_Bronx  neighbourhood_group_Brooklyn  \\\n",
              "0                          0                             1   \n",
              "1                          0                             0   \n",
              "2                          0                             0   \n",
              "3                          0                             1   \n",
              "4                          0                             0   \n",
              "\n",
              "   neighbourhood_group_Manhattan  neighbourhood_group_Queens  \\\n",
              "0                              0                           0   \n",
              "1                              1                           0   \n",
              "2                              1                           0   \n",
              "3                              0                           0   \n",
              "4                              1                           0   \n",
              "\n",
              "   neighbourhood_group_Staten Island  neighbourhood_Allerton  \\\n",
              "0                                  0                       0   \n",
              "1                                  0                       0   \n",
              "2                                  0                       0   \n",
              "3                                  0                       0   \n",
              "4                                  0                       0   \n",
              "\n",
              "   neighbourhood_Arden Heights  neighbourhood_Arrochar  neighbourhood_Arverne  \\\n",
              "0                            0                       0                      0   \n",
              "1                            0                       0                      0   \n",
              "2                            0                       0                      0   \n",
              "3                            0                       0                      0   \n",
              "4                            0                       0                      0   \n",
              "\n",
              "   neighbourhood_Astoria  ...  neighbourhood_Williamsburg  \\\n",
              "0                      0  ...                           0   \n",
              "1                      0  ...                           0   \n",
              "2                      0  ...                           0   \n",
              "3                      0  ...                           0   \n",
              "4                      0  ...                           0   \n",
              "\n",
              "   neighbourhood_Willowbrook  neighbourhood_Windsor Terrace  \\\n",
              "0                          0                              0   \n",
              "1                          0                              0   \n",
              "2                          0                              0   \n",
              "3                          0                              0   \n",
              "4                          0                              0   \n",
              "\n",
              "   neighbourhood_Woodhaven  neighbourhood_Woodlawn  neighbourhood_Woodrow  \\\n",
              "0                        0                       0                      0   \n",
              "1                        0                       0                      0   \n",
              "2                        0                       0                      0   \n",
              "3                        0                       0                      0   \n",
              "4                        0                       0                      0   \n",
              "\n",
              "   neighbourhood_Woodside  room_type_Entire home/apt  room_type_Private room  \\\n",
              "0                       0                          0                       1   \n",
              "1                       0                          1                       0   \n",
              "2                       0                          0                       1   \n",
              "3                       0                          1                       0   \n",
              "4                       0                          1                       0   \n",
              "\n",
              "   room_type_Shared room  \n",
              "0                      0  \n",
              "1                      0  \n",
              "2                      0  \n",
              "3                      0  \n",
              "4                      0  \n",
              "\n",
              "[5 rows x 229 columns]"
            ],
            "text/html": [
              "\n",
              "  <div id=\"df-59e9c8d3-b05c-4929-a732-36e786061c76\">\n",
              "    <div class=\"colab-df-container\">\n",
              "      <div>\n",
              "<style scoped>\n",
              "    .dataframe tbody tr th:only-of-type {\n",
              "        vertical-align: middle;\n",
              "    }\n",
              "\n",
              "    .dataframe tbody tr th {\n",
              "        vertical-align: top;\n",
              "    }\n",
              "\n",
              "    .dataframe thead th {\n",
              "        text-align: right;\n",
              "    }\n",
              "</style>\n",
              "<table border=\"1\" class=\"dataframe\">\n",
              "  <thead>\n",
              "    <tr style=\"text-align: right;\">\n",
              "      <th></th>\n",
              "      <th>neighbourhood_group_Bronx</th>\n",
              "      <th>neighbourhood_group_Brooklyn</th>\n",
              "      <th>neighbourhood_group_Manhattan</th>\n",
              "      <th>neighbourhood_group_Queens</th>\n",
              "      <th>neighbourhood_group_Staten Island</th>\n",
              "      <th>neighbourhood_Allerton</th>\n",
              "      <th>neighbourhood_Arden Heights</th>\n",
              "      <th>neighbourhood_Arrochar</th>\n",
              "      <th>neighbourhood_Arverne</th>\n",
              "      <th>neighbourhood_Astoria</th>\n",
              "      <th>...</th>\n",
              "      <th>neighbourhood_Williamsburg</th>\n",
              "      <th>neighbourhood_Willowbrook</th>\n",
              "      <th>neighbourhood_Windsor Terrace</th>\n",
              "      <th>neighbourhood_Woodhaven</th>\n",
              "      <th>neighbourhood_Woodlawn</th>\n",
              "      <th>neighbourhood_Woodrow</th>\n",
              "      <th>neighbourhood_Woodside</th>\n",
              "      <th>room_type_Entire home/apt</th>\n",
              "      <th>room_type_Private room</th>\n",
              "      <th>room_type_Shared room</th>\n",
              "    </tr>\n",
              "  </thead>\n",
              "  <tbody>\n",
              "    <tr>\n",
              "      <th>0</th>\n",
              "      <td>0</td>\n",
              "      <td>1</td>\n",
              "      <td>0</td>\n",
              "      <td>0</td>\n",
              "      <td>0</td>\n",
              "      <td>0</td>\n",
              "      <td>0</td>\n",
              "      <td>0</td>\n",
              "      <td>0</td>\n",
              "      <td>0</td>\n",
              "      <td>...</td>\n",
              "      <td>0</td>\n",
              "      <td>0</td>\n",
              "      <td>0</td>\n",
              "      <td>0</td>\n",
              "      <td>0</td>\n",
              "      <td>0</td>\n",
              "      <td>0</td>\n",
              "      <td>0</td>\n",
              "      <td>1</td>\n",
              "      <td>0</td>\n",
              "    </tr>\n",
              "    <tr>\n",
              "      <th>1</th>\n",
              "      <td>0</td>\n",
              "      <td>0</td>\n",
              "      <td>1</td>\n",
              "      <td>0</td>\n",
              "      <td>0</td>\n",
              "      <td>0</td>\n",
              "      <td>0</td>\n",
              "      <td>0</td>\n",
              "      <td>0</td>\n",
              "      <td>0</td>\n",
              "      <td>...</td>\n",
              "      <td>0</td>\n",
              "      <td>0</td>\n",
              "      <td>0</td>\n",
              "      <td>0</td>\n",
              "      <td>0</td>\n",
              "      <td>0</td>\n",
              "      <td>0</td>\n",
              "      <td>1</td>\n",
              "      <td>0</td>\n",
              "      <td>0</td>\n",
              "    </tr>\n",
              "    <tr>\n",
              "      <th>2</th>\n",
              "      <td>0</td>\n",
              "      <td>0</td>\n",
              "      <td>1</td>\n",
              "      <td>0</td>\n",
              "      <td>0</td>\n",
              "      <td>0</td>\n",
              "      <td>0</td>\n",
              "      <td>0</td>\n",
              "      <td>0</td>\n",
              "      <td>0</td>\n",
              "      <td>...</td>\n",
              "      <td>0</td>\n",
              "      <td>0</td>\n",
              "      <td>0</td>\n",
              "      <td>0</td>\n",
              "      <td>0</td>\n",
              "      <td>0</td>\n",
              "      <td>0</td>\n",
              "      <td>0</td>\n",
              "      <td>1</td>\n",
              "      <td>0</td>\n",
              "    </tr>\n",
              "    <tr>\n",
              "      <th>3</th>\n",
              "      <td>0</td>\n",
              "      <td>1</td>\n",
              "      <td>0</td>\n",
              "      <td>0</td>\n",
              "      <td>0</td>\n",
              "      <td>0</td>\n",
              "      <td>0</td>\n",
              "      <td>0</td>\n",
              "      <td>0</td>\n",
              "      <td>0</td>\n",
              "      <td>...</td>\n",
              "      <td>0</td>\n",
              "      <td>0</td>\n",
              "      <td>0</td>\n",
              "      <td>0</td>\n",
              "      <td>0</td>\n",
              "      <td>0</td>\n",
              "      <td>0</td>\n",
              "      <td>1</td>\n",
              "      <td>0</td>\n",
              "      <td>0</td>\n",
              "    </tr>\n",
              "    <tr>\n",
              "      <th>4</th>\n",
              "      <td>0</td>\n",
              "      <td>0</td>\n",
              "      <td>1</td>\n",
              "      <td>0</td>\n",
              "      <td>0</td>\n",
              "      <td>0</td>\n",
              "      <td>0</td>\n",
              "      <td>0</td>\n",
              "      <td>0</td>\n",
              "      <td>0</td>\n",
              "      <td>...</td>\n",
              "      <td>0</td>\n",
              "      <td>0</td>\n",
              "      <td>0</td>\n",
              "      <td>0</td>\n",
              "      <td>0</td>\n",
              "      <td>0</td>\n",
              "      <td>0</td>\n",
              "      <td>1</td>\n",
              "      <td>0</td>\n",
              "      <td>0</td>\n",
              "    </tr>\n",
              "  </tbody>\n",
              "</table>\n",
              "<p>5 rows × 229 columns</p>\n",
              "</div>\n",
              "      <button class=\"colab-df-convert\" onclick=\"convertToInteractive('df-59e9c8d3-b05c-4929-a732-36e786061c76')\"\n",
              "              title=\"Convert this dataframe to an interactive table.\"\n",
              "              style=\"display:none;\">\n",
              "        \n",
              "  <svg xmlns=\"http://www.w3.org/2000/svg\" height=\"24px\"viewBox=\"0 0 24 24\"\n",
              "       width=\"24px\">\n",
              "    <path d=\"M0 0h24v24H0V0z\" fill=\"none\"/>\n",
              "    <path d=\"M18.56 5.44l.94 2.06.94-2.06 2.06-.94-2.06-.94-.94-2.06-.94 2.06-2.06.94zm-11 1L8.5 8.5l.94-2.06 2.06-.94-2.06-.94L8.5 2.5l-.94 2.06-2.06.94zm10 10l.94 2.06.94-2.06 2.06-.94-2.06-.94-.94-2.06-.94 2.06-2.06.94z\"/><path d=\"M17.41 7.96l-1.37-1.37c-.4-.4-.92-.59-1.43-.59-.52 0-1.04.2-1.43.59L10.3 9.45l-7.72 7.72c-.78.78-.78 2.05 0 2.83L4 21.41c.39.39.9.59 1.41.59.51 0 1.02-.2 1.41-.59l7.78-7.78 2.81-2.81c.8-.78.8-2.07 0-2.86zM5.41 20L4 18.59l7.72-7.72 1.47 1.35L5.41 20z\"/>\n",
              "  </svg>\n",
              "      </button>\n",
              "      \n",
              "  <style>\n",
              "    .colab-df-container {\n",
              "      display:flex;\n",
              "      flex-wrap:wrap;\n",
              "      gap: 12px;\n",
              "    }\n",
              "\n",
              "    .colab-df-convert {\n",
              "      background-color: #E8F0FE;\n",
              "      border: none;\n",
              "      border-radius: 50%;\n",
              "      cursor: pointer;\n",
              "      display: none;\n",
              "      fill: #1967D2;\n",
              "      height: 32px;\n",
              "      padding: 0 0 0 0;\n",
              "      width: 32px;\n",
              "    }\n",
              "\n",
              "    .colab-df-convert:hover {\n",
              "      background-color: #E2EBFA;\n",
              "      box-shadow: 0px 1px 2px rgba(60, 64, 67, 0.3), 0px 1px 3px 1px rgba(60, 64, 67, 0.15);\n",
              "      fill: #174EA6;\n",
              "    }\n",
              "\n",
              "    [theme=dark] .colab-df-convert {\n",
              "      background-color: #3B4455;\n",
              "      fill: #D2E3FC;\n",
              "    }\n",
              "\n",
              "    [theme=dark] .colab-df-convert:hover {\n",
              "      background-color: #434B5C;\n",
              "      box-shadow: 0px 1px 3px 1px rgba(0, 0, 0, 0.15);\n",
              "      filter: drop-shadow(0px 1px 2px rgba(0, 0, 0, 0.3));\n",
              "      fill: #FFFFFF;\n",
              "    }\n",
              "  </style>\n",
              "\n",
              "      <script>\n",
              "        const buttonEl =\n",
              "          document.querySelector('#df-59e9c8d3-b05c-4929-a732-36e786061c76 button.colab-df-convert');\n",
              "        buttonEl.style.display =\n",
              "          google.colab.kernel.accessAllowed ? 'block' : 'none';\n",
              "\n",
              "        async function convertToInteractive(key) {\n",
              "          const element = document.querySelector('#df-59e9c8d3-b05c-4929-a732-36e786061c76');\n",
              "          const dataTable =\n",
              "            await google.colab.kernel.invokeFunction('convertToInteractive',\n",
              "                                                     [key], {});\n",
              "          if (!dataTable) return;\n",
              "\n",
              "          const docLinkHtml = 'Like what you see? Visit the ' +\n",
              "            '<a target=\"_blank\" href=https://colab.research.google.com/notebooks/data_table.ipynb>data table notebook</a>'\n",
              "            + ' to learn more about interactive tables.';\n",
              "          element.innerHTML = '';\n",
              "          dataTable['output_type'] = 'display_data';\n",
              "          await google.colab.output.renderOutput(dataTable, element);\n",
              "          const docLink = document.createElement('div');\n",
              "          docLink.innerHTML = docLinkHtml;\n",
              "          element.appendChild(docLink);\n",
              "        }\n",
              "      </script>\n",
              "    </div>\n",
              "  </div>\n",
              "  "
            ]
          },
          "metadata": {},
          "execution_count": 47
        }
      ]
    },
    {
      "cell_type": "code",
      "source": [
        "#Identifying the numerical features that can be used directly for the regression task\n",
        "#Storing the price variable in a separate dataframe to use as y variable in prediction\n",
        "\n",
        "numerical_features =  df_out.select_dtypes(exclude=['object'])\n",
        "price_value = numerical_features.price\n",
        "numerical_features = numerical_features.drop(['price'], axis=1)"
      ],
      "metadata": {
        "id": "Gz4-WPCGqQuO"
      },
      "execution_count": 49,
      "outputs": []
    },
    {
      "cell_type": "code",
      "source": [
        "#Final dataframe with the concatenation of categorical & numerical values is defined\n",
        "\n",
        "final_df = pd.concat([numerical_features, categorical_features_one_hot], axis=1)"
      ],
      "metadata": {
        "id": "3fBVDY6iquHf"
      },
      "execution_count": 50,
      "outputs": []
    },
    {
      "cell_type": "code",
      "source": [
        "final_df.head(10)"
      ],
      "metadata": {
        "colab": {
          "base_uri": "https://localhost:8080/",
          "height": 469
        },
        "id": "A6FlNbX2qzyo",
        "outputId": "e0786431-7580-4a93-f375-366ca23fd81e"
      },
      "execution_count": 51,
      "outputs": [
        {
          "output_type": "execute_result",
          "data": {
            "text/plain": [
              "     id  host_id  latitude  longitude  number_of_reviews  reviews_per_month  \\\n",
              "0  2539     2787  40.64749  -73.97237                  9               0.21   \n",
              "1  2595     2845  40.75362  -73.98377                 45               0.38   \n",
              "2  3647     4632  40.80902  -73.94190                  0               0.00   \n",
              "3  3831     4869  40.68514  -73.95976                270               4.64   \n",
              "4  5022     7192  40.79851  -73.94399                  9               0.10   \n",
              "5  5099     7322  40.74767  -73.97500                 74               0.59   \n",
              "6  5121     7356  40.68688  -73.95596                 49               0.40   \n",
              "7  5178     8967  40.76489  -73.98493                430               3.47   \n",
              "8  5203     7490  40.80178  -73.96723                118               0.99   \n",
              "9  5238     7549  40.71344  -73.99037                160               1.33   \n",
              "\n",
              "   calculated_host_listings_count  availability_365  days_since_review  \\\n",
              "0                               6               365               2762   \n",
              "1                               2               355               2976   \n",
              "2                               1               365                  0   \n",
              "3                               1               194               3021   \n",
              "4                               1                 0               2793   \n",
              "5                               1               129               3008   \n",
              "6                               1                 0               2383   \n",
              "7                               1               220               3010   \n",
              "8                               1                 0               2307   \n",
              "9                               4               188               2995   \n",
              "\n",
              "   minimum_nights_log  ...  neighbourhood_Williamsburg  \\\n",
              "0            0.693147  ...                           0   \n",
              "1            0.693147  ...                           0   \n",
              "2            1.386294  ...                           0   \n",
              "3            0.693147  ...                           0   \n",
              "4            2.397895  ...                           0   \n",
              "5            1.386294  ...                           0   \n",
              "6            3.828641  ...                           0   \n",
              "7            1.098612  ...                           0   \n",
              "8            1.098612  ...                           0   \n",
              "9            0.693147  ...                           0   \n",
              "\n",
              "   neighbourhood_Willowbrook  neighbourhood_Windsor Terrace  \\\n",
              "0                          0                              0   \n",
              "1                          0                              0   \n",
              "2                          0                              0   \n",
              "3                          0                              0   \n",
              "4                          0                              0   \n",
              "5                          0                              0   \n",
              "6                          0                              0   \n",
              "7                          0                              0   \n",
              "8                          0                              0   \n",
              "9                          0                              0   \n",
              "\n",
              "   neighbourhood_Woodhaven  neighbourhood_Woodlawn  neighbourhood_Woodrow  \\\n",
              "0                        0                       0                      0   \n",
              "1                        0                       0                      0   \n",
              "2                        0                       0                      0   \n",
              "3                        0                       0                      0   \n",
              "4                        0                       0                      0   \n",
              "5                        0                       0                      0   \n",
              "6                        0                       0                      0   \n",
              "7                        0                       0                      0   \n",
              "8                        0                       0                      0   \n",
              "9                        0                       0                      0   \n",
              "\n",
              "   neighbourhood_Woodside  room_type_Entire home/apt  room_type_Private room  \\\n",
              "0                       0                          0                       1   \n",
              "1                       0                          1                       0   \n",
              "2                       0                          0                       1   \n",
              "3                       0                          1                       0   \n",
              "4                       0                          1                       0   \n",
              "5                       0                          1                       0   \n",
              "6                       0                          0                       1   \n",
              "7                       0                          0                       1   \n",
              "8                       0                          0                       1   \n",
              "9                       0                          1                       0   \n",
              "\n",
              "   room_type_Shared room  \n",
              "0                      0  \n",
              "1                      0  \n",
              "2                      0  \n",
              "3                      0  \n",
              "4                      0  \n",
              "5                      0  \n",
              "6                      0  \n",
              "7                      0  \n",
              "8                      0  \n",
              "9                      0  \n",
              "\n",
              "[10 rows x 241 columns]"
            ],
            "text/html": [
              "\n",
              "  <div id=\"df-054f35fa-92d0-4a4a-9d79-10884728f7d9\">\n",
              "    <div class=\"colab-df-container\">\n",
              "      <div>\n",
              "<style scoped>\n",
              "    .dataframe tbody tr th:only-of-type {\n",
              "        vertical-align: middle;\n",
              "    }\n",
              "\n",
              "    .dataframe tbody tr th {\n",
              "        vertical-align: top;\n",
              "    }\n",
              "\n",
              "    .dataframe thead th {\n",
              "        text-align: right;\n",
              "    }\n",
              "</style>\n",
              "<table border=\"1\" class=\"dataframe\">\n",
              "  <thead>\n",
              "    <tr style=\"text-align: right;\">\n",
              "      <th></th>\n",
              "      <th>id</th>\n",
              "      <th>host_id</th>\n",
              "      <th>latitude</th>\n",
              "      <th>longitude</th>\n",
              "      <th>number_of_reviews</th>\n",
              "      <th>reviews_per_month</th>\n",
              "      <th>calculated_host_listings_count</th>\n",
              "      <th>availability_365</th>\n",
              "      <th>days_since_review</th>\n",
              "      <th>minimum_nights_log</th>\n",
              "      <th>...</th>\n",
              "      <th>neighbourhood_Williamsburg</th>\n",
              "      <th>neighbourhood_Willowbrook</th>\n",
              "      <th>neighbourhood_Windsor Terrace</th>\n",
              "      <th>neighbourhood_Woodhaven</th>\n",
              "      <th>neighbourhood_Woodlawn</th>\n",
              "      <th>neighbourhood_Woodrow</th>\n",
              "      <th>neighbourhood_Woodside</th>\n",
              "      <th>room_type_Entire home/apt</th>\n",
              "      <th>room_type_Private room</th>\n",
              "      <th>room_type_Shared room</th>\n",
              "    </tr>\n",
              "  </thead>\n",
              "  <tbody>\n",
              "    <tr>\n",
              "      <th>0</th>\n",
              "      <td>2539</td>\n",
              "      <td>2787</td>\n",
              "      <td>40.64749</td>\n",
              "      <td>-73.97237</td>\n",
              "      <td>9</td>\n",
              "      <td>0.21</td>\n",
              "      <td>6</td>\n",
              "      <td>365</td>\n",
              "      <td>2762</td>\n",
              "      <td>0.693147</td>\n",
              "      <td>...</td>\n",
              "      <td>0</td>\n",
              "      <td>0</td>\n",
              "      <td>0</td>\n",
              "      <td>0</td>\n",
              "      <td>0</td>\n",
              "      <td>0</td>\n",
              "      <td>0</td>\n",
              "      <td>0</td>\n",
              "      <td>1</td>\n",
              "      <td>0</td>\n",
              "    </tr>\n",
              "    <tr>\n",
              "      <th>1</th>\n",
              "      <td>2595</td>\n",
              "      <td>2845</td>\n",
              "      <td>40.75362</td>\n",
              "      <td>-73.98377</td>\n",
              "      <td>45</td>\n",
              "      <td>0.38</td>\n",
              "      <td>2</td>\n",
              "      <td>355</td>\n",
              "      <td>2976</td>\n",
              "      <td>0.693147</td>\n",
              "      <td>...</td>\n",
              "      <td>0</td>\n",
              "      <td>0</td>\n",
              "      <td>0</td>\n",
              "      <td>0</td>\n",
              "      <td>0</td>\n",
              "      <td>0</td>\n",
              "      <td>0</td>\n",
              "      <td>1</td>\n",
              "      <td>0</td>\n",
              "      <td>0</td>\n",
              "    </tr>\n",
              "    <tr>\n",
              "      <th>2</th>\n",
              "      <td>3647</td>\n",
              "      <td>4632</td>\n",
              "      <td>40.80902</td>\n",
              "      <td>-73.94190</td>\n",
              "      <td>0</td>\n",
              "      <td>0.00</td>\n",
              "      <td>1</td>\n",
              "      <td>365</td>\n",
              "      <td>0</td>\n",
              "      <td>1.386294</td>\n",
              "      <td>...</td>\n",
              "      <td>0</td>\n",
              "      <td>0</td>\n",
              "      <td>0</td>\n",
              "      <td>0</td>\n",
              "      <td>0</td>\n",
              "      <td>0</td>\n",
              "      <td>0</td>\n",
              "      <td>0</td>\n",
              "      <td>1</td>\n",
              "      <td>0</td>\n",
              "    </tr>\n",
              "    <tr>\n",
              "      <th>3</th>\n",
              "      <td>3831</td>\n",
              "      <td>4869</td>\n",
              "      <td>40.68514</td>\n",
              "      <td>-73.95976</td>\n",
              "      <td>270</td>\n",
              "      <td>4.64</td>\n",
              "      <td>1</td>\n",
              "      <td>194</td>\n",
              "      <td>3021</td>\n",
              "      <td>0.693147</td>\n",
              "      <td>...</td>\n",
              "      <td>0</td>\n",
              "      <td>0</td>\n",
              "      <td>0</td>\n",
              "      <td>0</td>\n",
              "      <td>0</td>\n",
              "      <td>0</td>\n",
              "      <td>0</td>\n",
              "      <td>1</td>\n",
              "      <td>0</td>\n",
              "      <td>0</td>\n",
              "    </tr>\n",
              "    <tr>\n",
              "      <th>4</th>\n",
              "      <td>5022</td>\n",
              "      <td>7192</td>\n",
              "      <td>40.79851</td>\n",
              "      <td>-73.94399</td>\n",
              "      <td>9</td>\n",
              "      <td>0.10</td>\n",
              "      <td>1</td>\n",
              "      <td>0</td>\n",
              "      <td>2793</td>\n",
              "      <td>2.397895</td>\n",
              "      <td>...</td>\n",
              "      <td>0</td>\n",
              "      <td>0</td>\n",
              "      <td>0</td>\n",
              "      <td>0</td>\n",
              "      <td>0</td>\n",
              "      <td>0</td>\n",
              "      <td>0</td>\n",
              "      <td>1</td>\n",
              "      <td>0</td>\n",
              "      <td>0</td>\n",
              "    </tr>\n",
              "    <tr>\n",
              "      <th>5</th>\n",
              "      <td>5099</td>\n",
              "      <td>7322</td>\n",
              "      <td>40.74767</td>\n",
              "      <td>-73.97500</td>\n",
              "      <td>74</td>\n",
              "      <td>0.59</td>\n",
              "      <td>1</td>\n",
              "      <td>129</td>\n",
              "      <td>3008</td>\n",
              "      <td>1.386294</td>\n",
              "      <td>...</td>\n",
              "      <td>0</td>\n",
              "      <td>0</td>\n",
              "      <td>0</td>\n",
              "      <td>0</td>\n",
              "      <td>0</td>\n",
              "      <td>0</td>\n",
              "      <td>0</td>\n",
              "      <td>1</td>\n",
              "      <td>0</td>\n",
              "      <td>0</td>\n",
              "    </tr>\n",
              "    <tr>\n",
              "      <th>6</th>\n",
              "      <td>5121</td>\n",
              "      <td>7356</td>\n",
              "      <td>40.68688</td>\n",
              "      <td>-73.95596</td>\n",
              "      <td>49</td>\n",
              "      <td>0.40</td>\n",
              "      <td>1</td>\n",
              "      <td>0</td>\n",
              "      <td>2383</td>\n",
              "      <td>3.828641</td>\n",
              "      <td>...</td>\n",
              "      <td>0</td>\n",
              "      <td>0</td>\n",
              "      <td>0</td>\n",
              "      <td>0</td>\n",
              "      <td>0</td>\n",
              "      <td>0</td>\n",
              "      <td>0</td>\n",
              "      <td>0</td>\n",
              "      <td>1</td>\n",
              "      <td>0</td>\n",
              "    </tr>\n",
              "    <tr>\n",
              "      <th>7</th>\n",
              "      <td>5178</td>\n",
              "      <td>8967</td>\n",
              "      <td>40.76489</td>\n",
              "      <td>-73.98493</td>\n",
              "      <td>430</td>\n",
              "      <td>3.47</td>\n",
              "      <td>1</td>\n",
              "      <td>220</td>\n",
              "      <td>3010</td>\n",
              "      <td>1.098612</td>\n",
              "      <td>...</td>\n",
              "      <td>0</td>\n",
              "      <td>0</td>\n",
              "      <td>0</td>\n",
              "      <td>0</td>\n",
              "      <td>0</td>\n",
              "      <td>0</td>\n",
              "      <td>0</td>\n",
              "      <td>0</td>\n",
              "      <td>1</td>\n",
              "      <td>0</td>\n",
              "    </tr>\n",
              "    <tr>\n",
              "      <th>8</th>\n",
              "      <td>5203</td>\n",
              "      <td>7490</td>\n",
              "      <td>40.80178</td>\n",
              "      <td>-73.96723</td>\n",
              "      <td>118</td>\n",
              "      <td>0.99</td>\n",
              "      <td>1</td>\n",
              "      <td>0</td>\n",
              "      <td>2307</td>\n",
              "      <td>1.098612</td>\n",
              "      <td>...</td>\n",
              "      <td>0</td>\n",
              "      <td>0</td>\n",
              "      <td>0</td>\n",
              "      <td>0</td>\n",
              "      <td>0</td>\n",
              "      <td>0</td>\n",
              "      <td>0</td>\n",
              "      <td>0</td>\n",
              "      <td>1</td>\n",
              "      <td>0</td>\n",
              "    </tr>\n",
              "    <tr>\n",
              "      <th>9</th>\n",
              "      <td>5238</td>\n",
              "      <td>7549</td>\n",
              "      <td>40.71344</td>\n",
              "      <td>-73.99037</td>\n",
              "      <td>160</td>\n",
              "      <td>1.33</td>\n",
              "      <td>4</td>\n",
              "      <td>188</td>\n",
              "      <td>2995</td>\n",
              "      <td>0.693147</td>\n",
              "      <td>...</td>\n",
              "      <td>0</td>\n",
              "      <td>0</td>\n",
              "      <td>0</td>\n",
              "      <td>0</td>\n",
              "      <td>0</td>\n",
              "      <td>0</td>\n",
              "      <td>0</td>\n",
              "      <td>1</td>\n",
              "      <td>0</td>\n",
              "      <td>0</td>\n",
              "    </tr>\n",
              "  </tbody>\n",
              "</table>\n",
              "<p>10 rows × 241 columns</p>\n",
              "</div>\n",
              "      <button class=\"colab-df-convert\" onclick=\"convertToInteractive('df-054f35fa-92d0-4a4a-9d79-10884728f7d9')\"\n",
              "              title=\"Convert this dataframe to an interactive table.\"\n",
              "              style=\"display:none;\">\n",
              "        \n",
              "  <svg xmlns=\"http://www.w3.org/2000/svg\" height=\"24px\"viewBox=\"0 0 24 24\"\n",
              "       width=\"24px\">\n",
              "    <path d=\"M0 0h24v24H0V0z\" fill=\"none\"/>\n",
              "    <path d=\"M18.56 5.44l.94 2.06.94-2.06 2.06-.94-2.06-.94-.94-2.06-.94 2.06-2.06.94zm-11 1L8.5 8.5l.94-2.06 2.06-.94-2.06-.94L8.5 2.5l-.94 2.06-2.06.94zm10 10l.94 2.06.94-2.06 2.06-.94-2.06-.94-.94-2.06-.94 2.06-2.06.94z\"/><path d=\"M17.41 7.96l-1.37-1.37c-.4-.4-.92-.59-1.43-.59-.52 0-1.04.2-1.43.59L10.3 9.45l-7.72 7.72c-.78.78-.78 2.05 0 2.83L4 21.41c.39.39.9.59 1.41.59.51 0 1.02-.2 1.41-.59l7.78-7.78 2.81-2.81c.8-.78.8-2.07 0-2.86zM5.41 20L4 18.59l7.72-7.72 1.47 1.35L5.41 20z\"/>\n",
              "  </svg>\n",
              "      </button>\n",
              "      \n",
              "  <style>\n",
              "    .colab-df-container {\n",
              "      display:flex;\n",
              "      flex-wrap:wrap;\n",
              "      gap: 12px;\n",
              "    }\n",
              "\n",
              "    .colab-df-convert {\n",
              "      background-color: #E8F0FE;\n",
              "      border: none;\n",
              "      border-radius: 50%;\n",
              "      cursor: pointer;\n",
              "      display: none;\n",
              "      fill: #1967D2;\n",
              "      height: 32px;\n",
              "      padding: 0 0 0 0;\n",
              "      width: 32px;\n",
              "    }\n",
              "\n",
              "    .colab-df-convert:hover {\n",
              "      background-color: #E2EBFA;\n",
              "      box-shadow: 0px 1px 2px rgba(60, 64, 67, 0.3), 0px 1px 3px 1px rgba(60, 64, 67, 0.15);\n",
              "      fill: #174EA6;\n",
              "    }\n",
              "\n",
              "    [theme=dark] .colab-df-convert {\n",
              "      background-color: #3B4455;\n",
              "      fill: #D2E3FC;\n",
              "    }\n",
              "\n",
              "    [theme=dark] .colab-df-convert:hover {\n",
              "      background-color: #434B5C;\n",
              "      box-shadow: 0px 1px 3px 1px rgba(0, 0, 0, 0.15);\n",
              "      filter: drop-shadow(0px 1px 2px rgba(0, 0, 0, 0.3));\n",
              "      fill: #FFFFFF;\n",
              "    }\n",
              "  </style>\n",
              "\n",
              "      <script>\n",
              "        const buttonEl =\n",
              "          document.querySelector('#df-054f35fa-92d0-4a4a-9d79-10884728f7d9 button.colab-df-convert');\n",
              "        buttonEl.style.display =\n",
              "          google.colab.kernel.accessAllowed ? 'block' : 'none';\n",
              "\n",
              "        async function convertToInteractive(key) {\n",
              "          const element = document.querySelector('#df-054f35fa-92d0-4a4a-9d79-10884728f7d9');\n",
              "          const dataTable =\n",
              "            await google.colab.kernel.invokeFunction('convertToInteractive',\n",
              "                                                     [key], {});\n",
              "          if (!dataTable) return;\n",
              "\n",
              "          const docLinkHtml = 'Like what you see? Visit the ' +\n",
              "            '<a target=\"_blank\" href=https://colab.research.google.com/notebooks/data_table.ipynb>data table notebook</a>'\n",
              "            + ' to learn more about interactive tables.';\n",
              "          element.innerHTML = '';\n",
              "          dataTable['output_type'] = 'display_data';\n",
              "          await google.colab.output.renderOutput(dataTable, element);\n",
              "          const docLink = document.createElement('div');\n",
              "          docLink.innerHTML = docLinkHtml;\n",
              "          element.appendChild(docLink);\n",
              "        }\n",
              "      </script>\n",
              "    </div>\n",
              "  </div>\n",
              "  "
            ]
          },
          "metadata": {},
          "execution_count": 51
        }
      ]
    },
    {
      "cell_type": "code",
      "source": [
        "#Using the train_test_split of the sklearn package, we are splitting the dataframe & the price variable into test & training samples\n",
        "\n",
        "X_train, X_test, y_train, y_test = train_test_split(final_df, price_value, test_size=0.2, random_state=42)"
      ],
      "metadata": {
        "id": "ci0nvHLfqQox"
      },
      "execution_count": 52,
      "outputs": []
    },
    {
      "cell_type": "code",
      "source": [
        "#Printing the shape of the test & train samples for our understanding\n",
        "\n",
        "print('Dimensions of the training feature matrix: {}'.format(X_train.shape))\n",
        "print('Dimensions of the training target vector: {}'.format(y_train.shape))\n",
        "print('Dimensions of the test feature matrix: {}'.format(X_test.shape))\n",
        "print('Dimensions of the test target vector: {}'.format(y_test.shape))"
      ],
      "metadata": {
        "colab": {
          "base_uri": "https://localhost:8080/"
        },
        "id": "RrL3fvQGp-Ha",
        "outputId": "008152c2-d2aa-4eb3-a27c-5dfd76104297"
      },
      "execution_count": 53,
      "outputs": [
        {
          "output_type": "stream",
          "name": "stdout",
          "text": [
            "Dimensions of the training feature matrix: (39116, 241)\n",
            "Dimensions of the training target vector: (39116,)\n",
            "Dimensions of the test feature matrix: (9779, 241)\n",
            "Dimensions of the test target vector: (9779,)\n"
          ]
        }
      ]
    },
    {
      "cell_type": "markdown",
      "source": [
        "#Model Implementation"
      ],
      "metadata": {
        "id": "jP3WBlNVqmAy"
      }
    },
    {
      "cell_type": "markdown",
      "source": [
        "#RandomForestRegressor Model"
      ],
      "metadata": {
        "id": "jOek14bRKl_i"
      }
    },
    {
      "cell_type": "markdown",
      "source": [
        "##Skip directly to run the model from Drive location"
      ],
      "metadata": {
        "id": "4Vi5l4V7U6Jm"
      }
    },
    {
      "cell_type": "code",
      "source": [
        "#Defining the RandomForestRegressor as a function with some default parameters & printing the prediction results based on the fitting with test data\n",
        "#r2_score & mean_squared_error functions are used as evaluation metrics for this regression task\n",
        "\n",
        "def RandomForest(n_estimators = 100, max_depth = 5, max_features = 'sqrt', min_samples_split = 2, min_samples_leaf = 1,\n",
        "                 max_leaf_nodes = None,bootstrap = True,oob_score = True):\n",
        "    \n",
        "    rf_model = RandomForestRegressor(n_estimators=n_estimators,\n",
        "                                      max_depth=max_depth,\n",
        "                                      max_features=max_features,\n",
        "                                     min_samples_split = min_samples_split,\n",
        "                                     min_samples_leaf = min_samples_leaf,\n",
        "                                     max_leaf_nodes = max_leaf_nodes,\n",
        "                                     bootstrap = bootstrap,\n",
        "                                     oob_score = oob_score,                                     \n",
        "                                      random_state=42)\n",
        "\n",
        "    rf_model.fit(X_train, y_train)\n",
        "    y_pred = rf_model.predict(X_test)\n",
        "\n",
        "    print('r2 score: ' + str(r2_score(y_test, y_pred)))\n",
        "    print('rmse (units): ' + str(mean_squared_error(np.expm1(y_test), np.expm1(y_pred), squared=False)) + '\\n')"
      ],
      "metadata": {
        "id": "fpvKFIq5rc0F"
      },
      "execution_count": 54,
      "outputs": []
    },
    {
      "cell_type": "code",
      "source": [
        "#Based on a RandomForestRegressor model, the gridsearch function is defined for tuning the hyperparameters\n",
        "#n_jobs = 4 determines the number of jobs that gridsearch can run in parallel thereby reducing processing time\n",
        "#cv = 3 determining the 4-fold cross-validation as part of the training & validation within the training dataset\n",
        "\n",
        "def RandomForest_tuning(n_estimators = 100, max_depth = 5, max_features = 'sqrt', min_samples_split = 2, min_samples_leaf = 1,\n",
        "                        max_leaf_nodes = None,bootstrap = True,oob_score = True,\n",
        "                        param_test={'n_estimators': [50, 100, 150, 200]}):\n",
        "    \n",
        "    rf_model = RandomForestRegressor(n_estimators=n_estimators,\n",
        "                                      max_depth=max_depth,\n",
        "                                      max_features=max_features,\n",
        "                                     min_samples_split = min_samples_split,\n",
        "                                     min_samples_leaf = min_samples_leaf,\n",
        "                                     max_leaf_nodes = max_leaf_nodes,\n",
        "                                     bootstrap = bootstrap,\n",
        "                                     oob_score = oob_score,                                     \n",
        "                                      random_state=42)\n",
        "    \n",
        "    gsearch = GridSearchCV(estimator=rf_model, \n",
        "                           param_grid=param_test, \n",
        "                           scoring='neg_mean_squared_error',\n",
        "                           n_jobs=4, \n",
        "                           cv=3)\n",
        "\n",
        "    gsearch.fit(X_train, y_train)\n",
        "    return gsearch\n"
      ],
      "metadata": {
        "id": "QM0qL5burcxS"
      },
      "execution_count": 55,
      "outputs": []
    },
    {
      "cell_type": "code",
      "source": [
        "#Baseline RandomForestRegressor\n",
        "\n",
        "RandomForest()"
      ],
      "metadata": {
        "colab": {
          "base_uri": "https://localhost:8080/"
        },
        "id": "ctyy5P24rcuo",
        "outputId": "f47292a9-2b90-4b31-a52d-74c848d6765f"
      },
      "execution_count": null,
      "outputs": [
        {
          "output_type": "stream",
          "name": "stdout",
          "text": [
            "r2 score: 0.38946795223440234\n",
            "rmse (units): 204.01518863087483\n",
            "\n"
          ]
        }
      ]
    },
    {
      "cell_type": "code",
      "source": [
        "#Step 1 Tuning n_estimators parameters\n",
        "parameters_test = {\n",
        "    'n_estimators': [500, 1000, 1500, 2000]\n",
        "} \n",
        "\n",
        "gsearch1_rf = RandomForest_tuning(param_test=parameters_test)\n",
        "best_n_est = gsearch1_rf.best_params_['n_estimators']\n",
        "print(f\"{gsearch1_rf.best_params_} Best Score: {gsearch1_rf.best_score_}\")\n",
        "\n",
        "# Evaluation\n",
        "RandomForest(n_estimators = best_n_est)\n"
      ],
      "metadata": {
        "colab": {
          "base_uri": "https://localhost:8080/"
        },
        "id": "erYpOcKDtb0J",
        "outputId": "2cda5b4f-4de8-40c5-d511-91aa874141a5"
      },
      "execution_count": null,
      "outputs": [
        {
          "output_type": "stream",
          "name": "stdout",
          "text": [
            "{'n_estimators': 500} Best Score: -0.29295852288579327\n",
            "r2 score: 0.4037170065171939\n",
            "rmse (units): 203.73956621253498\n",
            "\n"
          ]
        }
      ]
    },
    {
      "cell_type": "code",
      "source": [
        "best_n_est = 1500"
      ],
      "metadata": {
        "id": "NIsVxZ_ZBwlW"
      },
      "execution_count": null,
      "outputs": []
    },
    {
      "cell_type": "code",
      "source": [
        "#Step 2 Tuning max_depth parameters\n",
        "parameters_test = {\n",
        "    'max_depth': [3,5,7, 10]\n",
        "} \n",
        "\n",
        "gsearch2_rf = RandomForest_tuning(n_estimators = 1500,param_test=parameters_test)\n",
        "best_depth = gsearch2_rf.best_params_['max_depth']\n",
        "print(f\"{gsearch2_rf.best_params_} Best Score: {gsearch2_rf.best_score_}\")\n",
        "\n",
        "# Evaluation\n",
        "RandomForest(n_estimators = best_n_est, max_depth = best_depth)"
      ],
      "metadata": {
        "colab": {
          "base_uri": "https://localhost:8080/"
        },
        "id": "zFdwi7l8uOxw",
        "outputId": "21213206-ddf4-4652-bcb9-fc1a36d88abb"
      },
      "execution_count": null,
      "outputs": [
        {
          "output_type": "stream",
          "name": "stdout",
          "text": [
            "{'max_depth': 10} Best Score: -0.2368273673868511\n",
            "r2 score: 0.5276688202765514\n",
            "rmse (units): 198.77810289351459\n",
            "\n"
          ]
        }
      ]
    },
    {
      "cell_type": "code",
      "source": [
        "#Step 3 Tuning max_features parameters\n",
        "parameters_test = {\n",
        "    'max_features': ['sqrt', 'log2']\n",
        "} \n",
        "\n",
        "gsearch3_rf = RandomForest_tuning(n_estimators = 1500,param_test=parameters_test)\n",
        "best_features = gsearch3_rf.best_params_['max_features']\n",
        "print(f\"{gsearch3_rf.best_params_} Best Score: {gsearch3_rf.best_score_}\")\n",
        "\n",
        "# Evaluation\n",
        "RandomForest(n_estimators = best_n_est, max_depth = best_depth, max_features = best_features)"
      ],
      "metadata": {
        "colab": {
          "base_uri": "https://localhost:8080/"
        },
        "id": "Y_EngQIqvBTV",
        "outputId": "2b5dcfeb-ae72-40da-9048-d1c56f5ebac7"
      },
      "execution_count": null,
      "outputs": [
        {
          "output_type": "stream",
          "name": "stdout",
          "text": [
            "{'max_features': 'sqrt'} Best Score: -0.2926804728306393\n",
            "r2 score: 0.5055095828059684\n",
            "rmse (units): 199.76833894099718\n",
            "\n"
          ]
        }
      ]
    },
    {
      "cell_type": "code",
      "source": [
        "#Step 4 Tuning min_samples_split parameters\n",
        "parameters_test = {\n",
        "    'min_samples_split': [2, 5, 10]\n",
        "} \n",
        "\n",
        "gsearch4_rf = RandomForest_tuning(n_estimators = 1500,param_test=parameters_test)\n",
        "best_min_split = gsearch4_rf.best_params_['min_samples_split']\n",
        "print(f\"{gsearch4_rf.best_params_} Best Score: {gsearch4_rf.best_score_}\")\n",
        "\n",
        "# Evaluation\n",
        "RandomForest(n_estimators = best_n_est, max_depth = best_depth, max_features = best_features, min_samples_split = best_min_split)"
      ],
      "metadata": {
        "colab": {
          "base_uri": "https://localhost:8080/"
        },
        "id": "qg23LKaSvR0o",
        "outputId": "f58cb909-f0fa-4656-db38-d7862eb4427e"
      },
      "execution_count": null,
      "outputs": [
        {
          "output_type": "stream",
          "name": "stdout",
          "text": [
            "{'min_samples_split': 5} Best Score: -0.2913715230603582\n",
            "r2 score: 0.5090099982284558\n",
            "rmse (units): 199.57790024715158\n",
            "\n"
          ]
        }
      ]
    },
    {
      "cell_type": "code",
      "source": [
        "#Step 5 Tuning min_samples_leaf parameters\n",
        "parameters_test = {\n",
        "    'min_samples_leaf': [1, 2, 4]\n",
        "} \n",
        "\n",
        "gsearch5_rf = RandomForest_tuning(n_estimators = 1500,param_test=parameters_test)\n",
        "best_min_leaf = gsearch5_rf.best_params_['min_samples_leaf']\n",
        "print(f\"{gsearch5_rf.best_params_} Best Score: {gsearch5_rf.best_score_}\")\n",
        "\n",
        "# Evaluation\n",
        "RandomForest(n_estimators = best_n_est, max_depth = best_depth, max_features = best_features, min_samples_split = best_min_split,\n",
        "             min_samples_leaf = best_min_leaf)"
      ],
      "metadata": {
        "colab": {
          "base_uri": "https://localhost:8080/"
        },
        "id": "P62yLRhayFss",
        "outputId": "d1c77b89-dbc0-4ac1-cf26-50520b2f5042"
      },
      "execution_count": null,
      "outputs": [
        {
          "output_type": "stream",
          "name": "stdout",
          "text": [
            "{'min_samples_leaf': 2} Best Score: -0.29177905844455143\n",
            "r2 score: 0.5106711417654367\n",
            "rmse (units): 199.53165383040925\n",
            "\n"
          ]
        }
      ]
    },
    {
      "cell_type": "code",
      "source": [
        "#Step 6 Tuning max_leaf_nodes parameters\n",
        "parameters_test = {\n",
        "    'max_leaf_nodes': [None, 5, 10]\n",
        "} \n",
        "\n",
        "gsearch6_rf = RandomForest_tuning(n_estimators = 1500,param_test=parameters_test)\n",
        "best_max_leaf = gsearch6_rf.best_params_['max_leaf_nodes']\n",
        "print(f\"{gsearch6_rf.best_params_} Best Score: {gsearch6_rf.best_score_}\")\n",
        "\n",
        "# Evaluation\n",
        "RandomForest(n_estimators = best_n_est, max_depth = best_depth, max_features = best_features, min_samples_split = best_min_split,\n",
        "             min_samples_leaf = best_min_leaf, max_leaf_nodes = best_max_leaf)"
      ],
      "metadata": {
        "colab": {
          "base_uri": "https://localhost:8080/"
        },
        "id": "ZqCCRSRmyUDn",
        "outputId": "383e5e2b-3162-485d-d08d-be236e95a86f"
      },
      "execution_count": null,
      "outputs": [
        {
          "output_type": "stream",
          "name": "stdout",
          "text": [
            "{'max_leaf_nodes': None} Best Score: -0.2926804728306393\n",
            "r2 score: 0.5106711417654367\n",
            "rmse (units): 199.53165383040925\n",
            "\n"
          ]
        }
      ]
    },
    {
      "cell_type": "code",
      "source": [
        "#Step 8 Tuning oob parameters\n",
        "parameters_test = {\n",
        "    'oob_score': [True, False]\n",
        "} \n",
        "\n",
        "gsearch8_rf = RandomForest_tuning(n_estimators = 1500,param_test=parameters_test)\n",
        "best_oob = gsearch8_rf.best_params_['oob_score']\n",
        "print(f\"{gsearch8_rf.best_params_} Best Score: {gsearch8_rf.best_score_}\")\n",
        "\n",
        "# Evaluation\n",
        "RandomForest(n_estimators = best_n_est, max_depth = best_depth, max_features = best_features, min_samples_split = best_min_split,\n",
        "             min_samples_leaf = best_min_leaf, max_leaf_nodes = best_max_leaf, bootstrap = True, oob_score = best_oob)"
      ],
      "metadata": {
        "colab": {
          "base_uri": "https://localhost:8080/"
        },
        "id": "KQPmxv4czD5b",
        "outputId": "4a322ed4-3fc0-4f48-c86c-213e0231976f"
      },
      "execution_count": null,
      "outputs": [
        {
          "output_type": "stream",
          "name": "stdout",
          "text": [
            "{'oob_score': True} Best Score: -0.2926804728306393\n",
            "r2 score: 0.5106711417654367\n",
            "rmse (units): 199.53165383040925\n",
            "\n"
          ]
        }
      ]
    },
    {
      "cell_type": "code",
      "source": [
        "#Running the RandomForestRegressor model with the identified best hyperparameters from the GridSearchCV operation\n",
        "\n",
        "rf_model_best = RandomForestRegressor(n_estimators=1500,\n",
        "                                  max_depth=30,\n",
        "                                  max_features='sqrt',\n",
        "                                  min_samples_split = 5,\n",
        "                                  min_samples_leaf = 1,\n",
        "                                  max_leaf_nodes = None,\n",
        "                                  bootstrap = True,\n",
        "                                  oob_score = False,                                     \n",
        "                                  random_state=42)\n",
        "\n",
        "rf_model_best.fit(X_train, y_train)"
      ],
      "metadata": {
        "colab": {
          "base_uri": "https://localhost:8080/",
          "height": 91
        },
        "id": "PKgLgUqDTchV",
        "outputId": "2e8c3315-1c66-40a4-d758-c9ac0f565809"
      },
      "execution_count": null,
      "outputs": [
        {
          "output_type": "execute_result",
          "data": {
            "text/plain": [
              "RandomForestRegressor(max_depth=30, max_features='sqrt', min_samples_split=5,\n",
              "                      n_estimators=1500, random_state=42)"
            ],
            "text/html": [
              "<style>#sk-container-id-1 {color: black;background-color: white;}#sk-container-id-1 pre{padding: 0;}#sk-container-id-1 div.sk-toggleable {background-color: white;}#sk-container-id-1 label.sk-toggleable__label {cursor: pointer;display: block;width: 100%;margin-bottom: 0;padding: 0.3em;box-sizing: border-box;text-align: center;}#sk-container-id-1 label.sk-toggleable__label-arrow:before {content: \"▸\";float: left;margin-right: 0.25em;color: #696969;}#sk-container-id-1 label.sk-toggleable__label-arrow:hover:before {color: black;}#sk-container-id-1 div.sk-estimator:hover label.sk-toggleable__label-arrow:before {color: black;}#sk-container-id-1 div.sk-toggleable__content {max-height: 0;max-width: 0;overflow: hidden;text-align: left;background-color: #f0f8ff;}#sk-container-id-1 div.sk-toggleable__content pre {margin: 0.2em;color: black;border-radius: 0.25em;background-color: #f0f8ff;}#sk-container-id-1 input.sk-toggleable__control:checked~div.sk-toggleable__content {max-height: 200px;max-width: 100%;overflow: auto;}#sk-container-id-1 input.sk-toggleable__control:checked~label.sk-toggleable__label-arrow:before {content: \"▾\";}#sk-container-id-1 div.sk-estimator input.sk-toggleable__control:checked~label.sk-toggleable__label {background-color: #d4ebff;}#sk-container-id-1 div.sk-label input.sk-toggleable__control:checked~label.sk-toggleable__label {background-color: #d4ebff;}#sk-container-id-1 input.sk-hidden--visually {border: 0;clip: rect(1px 1px 1px 1px);clip: rect(1px, 1px, 1px, 1px);height: 1px;margin: -1px;overflow: hidden;padding: 0;position: absolute;width: 1px;}#sk-container-id-1 div.sk-estimator {font-family: monospace;background-color: #f0f8ff;border: 1px dotted black;border-radius: 0.25em;box-sizing: border-box;margin-bottom: 0.5em;}#sk-container-id-1 div.sk-estimator:hover {background-color: #d4ebff;}#sk-container-id-1 div.sk-parallel-item::after {content: \"\";width: 100%;border-bottom: 1px solid gray;flex-grow: 1;}#sk-container-id-1 div.sk-label:hover label.sk-toggleable__label {background-color: #d4ebff;}#sk-container-id-1 div.sk-serial::before {content: \"\";position: absolute;border-left: 1px solid gray;box-sizing: border-box;top: 0;bottom: 0;left: 50%;z-index: 0;}#sk-container-id-1 div.sk-serial {display: flex;flex-direction: column;align-items: center;background-color: white;padding-right: 0.2em;padding-left: 0.2em;position: relative;}#sk-container-id-1 div.sk-item {position: relative;z-index: 1;}#sk-container-id-1 div.sk-parallel {display: flex;align-items: stretch;justify-content: center;background-color: white;position: relative;}#sk-container-id-1 div.sk-item::before, #sk-container-id-1 div.sk-parallel-item::before {content: \"\";position: absolute;border-left: 1px solid gray;box-sizing: border-box;top: 0;bottom: 0;left: 50%;z-index: -1;}#sk-container-id-1 div.sk-parallel-item {display: flex;flex-direction: column;z-index: 1;position: relative;background-color: white;}#sk-container-id-1 div.sk-parallel-item:first-child::after {align-self: flex-end;width: 50%;}#sk-container-id-1 div.sk-parallel-item:last-child::after {align-self: flex-start;width: 50%;}#sk-container-id-1 div.sk-parallel-item:only-child::after {width: 0;}#sk-container-id-1 div.sk-dashed-wrapped {border: 1px dashed gray;margin: 0 0.4em 0.5em 0.4em;box-sizing: border-box;padding-bottom: 0.4em;background-color: white;}#sk-container-id-1 div.sk-label label {font-family: monospace;font-weight: bold;display: inline-block;line-height: 1.2em;}#sk-container-id-1 div.sk-label-container {text-align: center;}#sk-container-id-1 div.sk-container {/* jupyter's `normalize.less` sets `[hidden] { display: none; }` but bootstrap.min.css set `[hidden] { display: none !important; }` so we also need the `!important` here to be able to override the default hidden behavior on the sphinx rendered scikit-learn.org. See: https://github.com/scikit-learn/scikit-learn/issues/21755 */display: inline-block !important;position: relative;}#sk-container-id-1 div.sk-text-repr-fallback {display: none;}</style><div id=\"sk-container-id-1\" class=\"sk-top-container\"><div class=\"sk-text-repr-fallback\"><pre>RandomForestRegressor(max_depth=30, max_features=&#x27;sqrt&#x27;, min_samples_split=5,\n",
              "                      n_estimators=1500, random_state=42)</pre><b>In a Jupyter environment, please rerun this cell to show the HTML representation or trust the notebook. <br />On GitHub, the HTML representation is unable to render, please try loading this page with nbviewer.org.</b></div><div class=\"sk-container\" hidden><div class=\"sk-item\"><div class=\"sk-estimator sk-toggleable\"><input class=\"sk-toggleable__control sk-hidden--visually\" id=\"sk-estimator-id-1\" type=\"checkbox\" checked><label for=\"sk-estimator-id-1\" class=\"sk-toggleable__label sk-toggleable__label-arrow\">RandomForestRegressor</label><div class=\"sk-toggleable__content\"><pre>RandomForestRegressor(max_depth=30, max_features=&#x27;sqrt&#x27;, min_samples_split=5,\n",
              "                      n_estimators=1500, random_state=42)</pre></div></div></div></div></div>"
            ]
          },
          "metadata": {},
          "execution_count": 39
        }
      ]
    },
    {
      "cell_type": "code",
      "source": [
        "save_loc = '/content/drive/MyDrive/Ensemble_Project/rf_model_bestparams_20230318.joblib'"
      ],
      "metadata": {
        "id": "QhI76zLCTvT2"
      },
      "execution_count": null,
      "outputs": []
    },
    {
      "cell_type": "code",
      "source": [
        "# Save the trained model to a file\n",
        "dump(rf_model_best, save_loc)"
      ],
      "metadata": {
        "colab": {
          "base_uri": "https://localhost:8080/"
        },
        "id": "ysCa7p68TtLr",
        "outputId": "566f00fd-38c7-477a-e0bb-5236844174d1"
      },
      "execution_count": null,
      "outputs": [
        {
          "output_type": "execute_result",
          "data": {
            "text/plain": [
              "['/content/drive/MyDrive/Ensemble_Project/rf_model_bestparams_20230318.joblib']"
            ]
          },
          "metadata": {},
          "execution_count": 43
        }
      ]
    },
    {
      "cell_type": "markdown",
      "source": [
        "##Run this step directly with the tuned hyperparameters"
      ],
      "metadata": {
        "id": "0JZBm_z84IML"
      }
    },
    {
      "cell_type": "code",
      "source": [
        "save_loc = '/content/drive/MyDrive/Ensemble_Project/rf_model_bestparams_20230318.joblib'"
      ],
      "metadata": {
        "id": "ZYP6Gz8kTgNr"
      },
      "execution_count": null,
      "outputs": []
    },
    {
      "cell_type": "code",
      "source": [
        "# Load the saved model from file\n",
        "loaded_model_rf = load(save_loc)"
      ],
      "metadata": {
        "id": "J9c5QvtiUPFb"
      },
      "execution_count": null,
      "outputs": []
    },
    {
      "cell_type": "code",
      "source": [
        "#Making predictions on the test data from the model that has been loaded from a pretrained model\n",
        "\n",
        "y_pred = loaded_model_rf.predict(X_test)\n",
        "\n",
        "print('r2 score: ' + str(r2_score(y_test, y_pred)))\n",
        "print('rmse (units): ' + str(mean_squared_error(np.expm1(y_test), np.expm1(y_pred), squared=False)) + '\\n')"
      ],
      "metadata": {
        "colab": {
          "base_uri": "https://localhost:8080/"
        },
        "id": "cFJDq5ggzusl",
        "outputId": "6194689b-ba44-4486-d532-1f0c4876f3b9"
      },
      "execution_count": null,
      "outputs": [
        {
          "output_type": "stream",
          "name": "stdout",
          "text": [
            "r2 score: 0.6282915904851702\n",
            "rmse (units): 189.655751546895\n",
            "\n"
          ]
        }
      ]
    },
    {
      "cell_type": "markdown",
      "source": [
        "#XGBoost Regressor "
      ],
      "metadata": {
        "id": "4rAaiZQ-orr7"
      }
    },
    {
      "cell_type": "markdown",
      "source": [
        "##skip directly to run the XGBoost model saved in Drive"
      ],
      "metadata": {
        "id": "lgH2lPb7lkHI"
      }
    },
    {
      "cell_type": "code",
      "source": [
        "#Defining the XGBoostRegressor as a function with some default parameters & printing the prediction results based on the fitting with test data\n",
        "#r2_score & mean_squared_error functions are used as evaluation metrics for this regression task\n",
        "\n",
        "def XGBoost(LR = 0.01, n_estimators = 100, max_depth = 5, reg_alpha = 0, subsample = 1):\n",
        "   \n",
        "    xgb_model = XGBRegressor(learning_rate=LR,\n",
        "                             n_estimators=n_estimators,\n",
        "                             max_depth=max_depth,\n",
        "                             reg_alpha=reg_alpha,\n",
        "                             subsample=subsample,\n",
        "                             random_state=42,\n",
        "                             objective= 'reg:squarederror')\n",
        "\n",
        "    xgb_model.fit(X_train, y_train, verbose=False)\n",
        "    y_pred = xgb_model.predict(X_test)\n",
        "\n",
        "    print('r2 score: ' + str(r2_score(y_test, y_pred)))\n",
        "    print('rmse (units): ' + str(mean_squared_error(np.expm1(y_test), np.expm1(y_pred), squared=False)) + '\\n')\n"
      ],
      "metadata": {
        "id": "3TxgzfsGpppR"
      },
      "execution_count": null,
      "outputs": []
    },
    {
      "cell_type": "code",
      "source": [
        "#Based on a XGBRegressor model, the gridsearch function is defined for tuning the hyperparameters\n",
        "#n_jobs = 4 determines the number of jobs that gridsearch can run in parallel thereby reducing processing time\n",
        "#cv = 3 determining the 4-fold cross-validation as part of the training & validation within the training dataset\n",
        "\n",
        "def XGBoost_tuning(LR = 0.1, n_estimators = 100, max_depth = 5, reg_alpha = 0, subsample = 1, \n",
        "                   param_test = {'learning_rate':[i/100.0 for i in range(5,20,2)]}):\n",
        "    \n",
        "    xgb_model = XGBRegressor(learning_rate=LR,\n",
        "                             n_estimators=n_estimators,\n",
        "                             max_depth=max_depth,\n",
        "                             reg_alpha=reg_alpha,\n",
        "                             subsample=subsample,\n",
        "                             random_state=42,\n",
        "                             objective= 'reg:squarederror')\n",
        "\n",
        "    gsearch = GridSearchCV(estimator=xgb_model, \n",
        "                           param_grid=param_test, \n",
        "                           scoring='neg_mean_squared_error',\n",
        "                           n_jobs=4, \n",
        "                           cv=3)\n",
        "\n",
        "    gsearch.fit(X_train, y_train, verbose = False)\n",
        "    return gsearch"
      ],
      "metadata": {
        "id": "YeHwaireprzn"
      },
      "execution_count": null,
      "outputs": []
    },
    {
      "cell_type": "code",
      "source": [
        "LearningRate = 0.1\n",
        "iterations = 1000"
      ],
      "metadata": {
        "id": "WcGKQjVxqAMf"
      },
      "execution_count": null,
      "outputs": []
    },
    {
      "cell_type": "code",
      "source": [
        "#baseline XGboostregressor\n",
        "XGBoost(LR = LearningRate, n_estimators = iterations)"
      ],
      "metadata": {
        "colab": {
          "base_uri": "https://localhost:8080/"
        },
        "id": "uDJ_IHVdqA1Z",
        "outputId": "2810feee-0f3c-4e76-eb95-d7bd02dcae6f"
      },
      "execution_count": null,
      "outputs": [
        {
          "output_type": "stream",
          "name": "stdout",
          "text": [
            "r2 score: 0.6312345539596449\n",
            "rmse (units): 181.6322469155302\n",
            "\n"
          ]
        }
      ]
    },
    {
      "cell_type": "code",
      "source": [
        "# STEP 2 - Tuning LR\n",
        "\n",
        "parameters_test = {\n",
        "    'learning_rate': [0.001, 0.01, 0.1]\n",
        "} \n",
        "\n",
        "gsearch2_xg = XGBoost_tuning (n_estimators = iterations, param_test=parameters_test)\n",
        "best_lr = gsearch2_xg.best_params_['learning_rate']\n",
        "print(f\"{gsearch2_xg.best_params_} Best Score: {gsearch2_xg.best_score_}\")\n",
        "\n",
        "# Evaluation\n",
        "XGBoost(LR = best_lr, n_estimators = iterations)"
      ],
      "metadata": {
        "colab": {
          "base_uri": "https://localhost:8080/"
        },
        "id": "BPiBBVHTqSY0",
        "outputId": "7415276e-e8e0-4656-ecdb-9c3351fd1a2f"
      },
      "execution_count": null,
      "outputs": [
        {
          "output_type": "stream",
          "name": "stdout",
          "text": [
            "{'learning_rate': 0.1} Best Score: -0.19161392885108422\n",
            "r2 score: 0.6312345539596449\n",
            "rmse (units): 181.6322469155302\n",
            "\n"
          ]
        }
      ]
    },
    {
      "cell_type": "code",
      "source": [
        "# STEP 3 - Tuning number of estimators\n",
        "\n",
        "parameters_test = {\n",
        "    'n_estimators': [100, 500, 1000]\n",
        "} \n",
        "\n",
        "gsearch3_xg = XGBoost_tuning (LR = best_lr, param_test=parameters_test)\n",
        "best_est = gsearch3_xg.best_params_['n_estimators']\n",
        "print(f\"{gsearch3_xg.best_params_} Best Score: {gsearch3_xg.best_score_}\")\n",
        "\n",
        "# Evaluation\n",
        "XGBoost(LR = best_lr, n_estimators = best_est)"
      ],
      "metadata": {
        "colab": {
          "base_uri": "https://localhost:8080/"
        },
        "id": "71FQYd5ytdY2",
        "outputId": "0086b64d-fe42-460b-f50f-cccaf45786b9"
      },
      "execution_count": null,
      "outputs": [
        {
          "output_type": "stream",
          "name": "stdout",
          "text": [
            "{'n_estimators': 500} Best Score: -0.19121141978804604\n"
          ]
        }
      ]
    },
    {
      "cell_type": "code",
      "source": [
        "best_lr  = 0.1\n",
        "best_est = 500"
      ],
      "metadata": {
        "id": "hyq1Zp7uHcrO"
      },
      "execution_count": null,
      "outputs": []
    },
    {
      "cell_type": "code",
      "source": [
        "# STEP 4 - Tuning Max_Depth\n",
        "\n",
        "parameters_test = {\n",
        "    'max_depth': [3, 5, 7]\n",
        "} \n",
        "\n",
        "gsearch4_xg = XGBoost_tuning (LR = best_lr, n_estimators = best_est, param_test=parameters_test)\n",
        "best_depth = gsearch4_xg.best_params_['max_depth']\n",
        "print(f\"{gsearch4_xg.best_params_} Best Score: {gsearch4_xg.best_score_}\")\n",
        "\n",
        "# Evaluation\n",
        "XGBoost(LR = best_lr, n_estimators = best_est, max_depth = best_depth)"
      ],
      "metadata": {
        "colab": {
          "base_uri": "https://localhost:8080/"
        },
        "id": "w_0bzitluCYv",
        "outputId": "4cbeba55-20ea-49a5-c4f8-943f75e904cc"
      },
      "execution_count": null,
      "outputs": [
        {
          "output_type": "stream",
          "name": "stdout",
          "text": [
            "{'max_depth': 7} Best Score: -0.19014960724520244\n",
            "r2 score: 0.6376699487427047\n",
            "rmse (units): 180.59877263181784\n",
            "\n"
          ]
        }
      ]
    },
    {
      "cell_type": "code",
      "source": [
        "# STEP 5 - Tuning subsample\n",
        "\n",
        "parameters_test = {\n",
        "    'subsample': [0.5, 0.75, 1]\n",
        "} \n",
        "\n",
        "gsearch5_xg = XGBoost_tuning (LR = best_lr, n_estimators = best_est, param_test=parameters_test)\n",
        "best_sub = gsearch5_xg.best_params_['subsample']\n",
        "print(f\"{gsearch5_xg.best_params_} Best Score: {gsearch5_xg.best_score_}\")\n",
        "\n",
        "# Evaluation\n",
        "XGBoost(LR = best_lr, n_estimators = best_est, max_depth = best_depth, subsample = best_sub)"
      ],
      "metadata": {
        "colab": {
          "base_uri": "https://localhost:8080/"
        },
        "id": "wCatzyVYuagi",
        "outputId": "a32a122f-5da8-49e0-c38a-6741532a2dc2"
      },
      "execution_count": null,
      "outputs": [
        {
          "output_type": "stream",
          "name": "stdout",
          "text": [
            "{'subsample': 0.75} Best Score: -0.19032707780722533\n",
            "r2 score: 0.6401128024473707\n",
            "rmse (units): 181.04760771604407\n",
            "\n"
          ]
        }
      ]
    },
    {
      "cell_type": "code",
      "source": [
        "# STEP 6 - Tuning reg alpha\n",
        "\n",
        "parameters_test = {\n",
        "    'reg_alpha': [0, 0.1, 0.5]\n",
        "} \n",
        "\n",
        "gsearch6_xg = XGBoost_tuning (LR = best_lr, n_estimators = best_est, param_test=parameters_test)\n",
        "best_alpha = gsearch6_xg.best_params_['reg_alpha']\n",
        "print(f\"{gsearch6_xg.best_params_} Best Score: {gsearch6_xg.best_score_}\")\n",
        "\n",
        "# Evaluation\n",
        "XGBoost(LR = best_lr, n_estimators = best_est, max_depth = best_depth, subsample = best_sub, reg_alpha = best_alpha)"
      ],
      "metadata": {
        "colab": {
          "base_uri": "https://localhost:8080/"
        },
        "id": "EDW1u13Fut47",
        "outputId": "75a48c7e-fd8b-4118-c256-208c60d9a6e0"
      },
      "execution_count": null,
      "outputs": [
        {
          "output_type": "stream",
          "name": "stdout",
          "text": [
            "{'reg_alpha': 0.5} Best Score: -0.1897969373671422\n",
            "r2 score: 0.6396263493413368\n",
            "rmse (units): 182.06011093321067\n",
            "\n"
          ]
        }
      ]
    },
    {
      "cell_type": "code",
      "source": [
        "xgb_model_best = XGBRegressor(learning_rate=0.1,\n",
        "                          n_estimators=500,\n",
        "                          max_depth=7,\n",
        "                          reg_alpha=0.5,\n",
        "                          subsample=0.75,\n",
        "                          random_state=42,\n",
        "                          objective= 'reg:squarederror')\n",
        "\n",
        "xgb_model_best.fit(X_train, y_train, verbose=False)"
      ],
      "metadata": {
        "colab": {
          "base_uri": "https://localhost:8080/",
          "height": 51
        },
        "id": "xdejbMlZutxx",
        "outputId": "5c32cb15-02b9-4632-dcfb-deddb4406bef"
      },
      "execution_count": null,
      "outputs": [
        {
          "output_type": "execute_result",
          "data": {
            "text/plain": [
              "XGBRegressor(base_score=None, booster=None, callbacks=None,\n",
              "             colsample_bylevel=None, colsample_bynode=None,\n",
              "             colsample_bytree=None, early_stopping_rounds=None,\n",
              "             enable_categorical=False, eval_metric=None, feature_types=None,\n",
              "             gamma=None, gpu_id=None, grow_policy=None, importance_type=None,\n",
              "             interaction_constraints=None, learning_rate=0.1, max_bin=None,\n",
              "             max_cat_threshold=None, max_cat_to_onehot=None,\n",
              "             max_delta_step=None, max_depth=7, max_leaves=None,\n",
              "             min_child_weight=None, missing=nan, monotone_constraints=None,\n",
              "             n_estimators=500, n_jobs=None, num_parallel_tree=None,\n",
              "             predictor=None, random_state=42, ...)"
            ],
            "text/html": [
              "<style>#sk-container-id-1 {color: black;background-color: white;}#sk-container-id-1 pre{padding: 0;}#sk-container-id-1 div.sk-toggleable {background-color: white;}#sk-container-id-1 label.sk-toggleable__label {cursor: pointer;display: block;width: 100%;margin-bottom: 0;padding: 0.3em;box-sizing: border-box;text-align: center;}#sk-container-id-1 label.sk-toggleable__label-arrow:before {content: \"▸\";float: left;margin-right: 0.25em;color: #696969;}#sk-container-id-1 label.sk-toggleable__label-arrow:hover:before {color: black;}#sk-container-id-1 div.sk-estimator:hover label.sk-toggleable__label-arrow:before {color: black;}#sk-container-id-1 div.sk-toggleable__content {max-height: 0;max-width: 0;overflow: hidden;text-align: left;background-color: #f0f8ff;}#sk-container-id-1 div.sk-toggleable__content pre {margin: 0.2em;color: black;border-radius: 0.25em;background-color: #f0f8ff;}#sk-container-id-1 input.sk-toggleable__control:checked~div.sk-toggleable__content {max-height: 200px;max-width: 100%;overflow: auto;}#sk-container-id-1 input.sk-toggleable__control:checked~label.sk-toggleable__label-arrow:before {content: \"▾\";}#sk-container-id-1 div.sk-estimator input.sk-toggleable__control:checked~label.sk-toggleable__label {background-color: #d4ebff;}#sk-container-id-1 div.sk-label input.sk-toggleable__control:checked~label.sk-toggleable__label {background-color: #d4ebff;}#sk-container-id-1 input.sk-hidden--visually {border: 0;clip: rect(1px 1px 1px 1px);clip: rect(1px, 1px, 1px, 1px);height: 1px;margin: -1px;overflow: hidden;padding: 0;position: absolute;width: 1px;}#sk-container-id-1 div.sk-estimator {font-family: monospace;background-color: #f0f8ff;border: 1px dotted black;border-radius: 0.25em;box-sizing: border-box;margin-bottom: 0.5em;}#sk-container-id-1 div.sk-estimator:hover {background-color: #d4ebff;}#sk-container-id-1 div.sk-parallel-item::after {content: \"\";width: 100%;border-bottom: 1px solid gray;flex-grow: 1;}#sk-container-id-1 div.sk-label:hover label.sk-toggleable__label {background-color: #d4ebff;}#sk-container-id-1 div.sk-serial::before {content: \"\";position: absolute;border-left: 1px solid gray;box-sizing: border-box;top: 0;bottom: 0;left: 50%;z-index: 0;}#sk-container-id-1 div.sk-serial {display: flex;flex-direction: column;align-items: center;background-color: white;padding-right: 0.2em;padding-left: 0.2em;position: relative;}#sk-container-id-1 div.sk-item {position: relative;z-index: 1;}#sk-container-id-1 div.sk-parallel {display: flex;align-items: stretch;justify-content: center;background-color: white;position: relative;}#sk-container-id-1 div.sk-item::before, #sk-container-id-1 div.sk-parallel-item::before {content: \"\";position: absolute;border-left: 1px solid gray;box-sizing: border-box;top: 0;bottom: 0;left: 50%;z-index: -1;}#sk-container-id-1 div.sk-parallel-item {display: flex;flex-direction: column;z-index: 1;position: relative;background-color: white;}#sk-container-id-1 div.sk-parallel-item:first-child::after {align-self: flex-end;width: 50%;}#sk-container-id-1 div.sk-parallel-item:last-child::after {align-self: flex-start;width: 50%;}#sk-container-id-1 div.sk-parallel-item:only-child::after {width: 0;}#sk-container-id-1 div.sk-dashed-wrapped {border: 1px dashed gray;margin: 0 0.4em 0.5em 0.4em;box-sizing: border-box;padding-bottom: 0.4em;background-color: white;}#sk-container-id-1 div.sk-label label {font-family: monospace;font-weight: bold;display: inline-block;line-height: 1.2em;}#sk-container-id-1 div.sk-label-container {text-align: center;}#sk-container-id-1 div.sk-container {/* jupyter's `normalize.less` sets `[hidden] { display: none; }` but bootstrap.min.css set `[hidden] { display: none !important; }` so we also need the `!important` here to be able to override the default hidden behavior on the sphinx rendered scikit-learn.org. See: https://github.com/scikit-learn/scikit-learn/issues/21755 */display: inline-block !important;position: relative;}#sk-container-id-1 div.sk-text-repr-fallback {display: none;}</style><div id=\"sk-container-id-1\" class=\"sk-top-container\"><div class=\"sk-text-repr-fallback\"><pre>XGBRegressor(base_score=None, booster=None, callbacks=None,\n",
              "             colsample_bylevel=None, colsample_bynode=None,\n",
              "             colsample_bytree=None, early_stopping_rounds=None,\n",
              "             enable_categorical=False, eval_metric=None, feature_types=None,\n",
              "             gamma=None, gpu_id=None, grow_policy=None, importance_type=None,\n",
              "             interaction_constraints=None, learning_rate=0.1, max_bin=None,\n",
              "             max_cat_threshold=None, max_cat_to_onehot=None,\n",
              "             max_delta_step=None, max_depth=7, max_leaves=None,\n",
              "             min_child_weight=None, missing=nan, monotone_constraints=None,\n",
              "             n_estimators=500, n_jobs=None, num_parallel_tree=None,\n",
              "             predictor=None, random_state=42, ...)</pre><b>In a Jupyter environment, please rerun this cell to show the HTML representation or trust the notebook. <br />On GitHub, the HTML representation is unable to render, please try loading this page with nbviewer.org.</b></div><div class=\"sk-container\" hidden><div class=\"sk-item\"><div class=\"sk-estimator sk-toggleable\"><input class=\"sk-toggleable__control sk-hidden--visually\" id=\"sk-estimator-id-1\" type=\"checkbox\" checked><label for=\"sk-estimator-id-1\" class=\"sk-toggleable__label sk-toggleable__label-arrow\">XGBRegressor</label><div class=\"sk-toggleable__content\"><pre>XGBRegressor(base_score=None, booster=None, callbacks=None,\n",
              "             colsample_bylevel=None, colsample_bynode=None,\n",
              "             colsample_bytree=None, early_stopping_rounds=None,\n",
              "             enable_categorical=False, eval_metric=None, feature_types=None,\n",
              "             gamma=None, gpu_id=None, grow_policy=None, importance_type=None,\n",
              "             interaction_constraints=None, learning_rate=0.1, max_bin=None,\n",
              "             max_cat_threshold=None, max_cat_to_onehot=None,\n",
              "             max_delta_step=None, max_depth=7, max_leaves=None,\n",
              "             min_child_weight=None, missing=nan, monotone_constraints=None,\n",
              "             n_estimators=500, n_jobs=None, num_parallel_tree=None,\n",
              "             predictor=None, random_state=42, ...)</pre></div></div></div></div></div>"
            ]
          },
          "metadata": {},
          "execution_count": 30
        }
      ]
    },
    {
      "cell_type": "code",
      "source": [
        "with open(save_loc, 'wb') as file:\n",
        "    pickle.dump(xgb_model_best, file)"
      ],
      "metadata": {
        "id": "s2KsBiuvZBKT"
      },
      "execution_count": null,
      "outputs": []
    },
    {
      "cell_type": "markdown",
      "source": [
        "##run this step to use model from Drive"
      ],
      "metadata": {
        "id": "8v-pFeM2ly9H"
      }
    },
    {
      "cell_type": "code",
      "source": [
        "save_loc = '/content/drive/MyDrive/Ensemble_Project/xgboostmodel_bestparameters_20230317.pkl'"
      ],
      "metadata": {
        "id": "guUI7gUXX2mj"
      },
      "execution_count": null,
      "outputs": []
    },
    {
      "cell_type": "code",
      "source": [
        "#Loading the pretrained XGBRegressor model for this dataset from drive location\n",
        "\n",
        "with open(save_loc, 'rb') as file:\n",
        "    loaded_model_xgb = pickle.load(file)"
      ],
      "metadata": {
        "id": "ldNO0LYPZShw"
      },
      "execution_count": null,
      "outputs": []
    },
    {
      "cell_type": "code",
      "source": [
        "#Prediction made on the test dataset using the pretrained model & accuracy of the model is identified\n",
        "\n",
        "y_pred = loaded_model_xgb.predict(X_test)\n",
        "\n",
        "print('r2 score: ' + str(r2_score(y_test, y_pred)))\n",
        "print('rmse (units): ' + str(mean_squared_error(np.expm1(y_test), np.expm1(y_pred), squared=False)) + '\\n')"
      ],
      "metadata": {
        "colab": {
          "base_uri": "https://localhost:8080/"
        },
        "id": "zyWjOa_3qDEZ",
        "outputId": "e4afe025-2683-48e1-ad3a-3e30afd2918d"
      },
      "execution_count": null,
      "outputs": [
        {
          "output_type": "stream",
          "name": "stdout",
          "text": [
            "r2 score: 0.6396263493413368\n",
            "rmse (units): 182.06011093321067\n",
            "\n"
          ]
        }
      ]
    },
    {
      "cell_type": "markdown",
      "source": [
        "##catboost preprocessing steps"
      ],
      "metadata": {
        "id": "IXdwr1q7M-i0"
      }
    },
    {
      "cell_type": "code",
      "source": [
        "#Storing the x and y variables for the regression task into 2 different dataframes\n",
        "\n",
        "df_x = df_out.drop(columns=['price'], axis = 1)\n",
        "df_y = df_out['price']"
      ],
      "metadata": {
        "id": "LQUl7XGoNKox"
      },
      "execution_count": 57,
      "outputs": []
    },
    {
      "cell_type": "code",
      "source": [
        "#Sampling of the X and Y variables for the test & training part using train_test_split function\n",
        "\n",
        "X_train_cat, X_test_cat, y_train_cat, y_test_cat = train_test_split(df_x, df_y, test_size=0.2, random_state=42)"
      ],
      "metadata": {
        "id": "McLYLxsMNGd2"
      },
      "execution_count": 59,
      "outputs": []
    },
    {
      "cell_type": "code",
      "source": [
        "#To train the catboost model, the input test & training data is converted to pool format by specifically calling out categorical variables too\n",
        "\n",
        "train_pool = Pool(X_train_cat, y_train_cat, cat_features = ['neighbourhood_group', 'neighbourhood','room_type'])\n",
        "test_pool = Pool(X_test_cat, y_test_cat, cat_features = ['neighbourhood_group', 'neighbourhood','room_type'])"
      ],
      "metadata": {
        "id": "Vs1D4dx3v6oP"
      },
      "execution_count": 60,
      "outputs": []
    },
    {
      "cell_type": "markdown",
      "source": [
        "###skip directly to use the model saved in Drive"
      ],
      "metadata": {
        "id": "bxPY_Fq9gw2C"
      }
    },
    {
      "cell_type": "code",
      "source": [
        "#Defining the CatBoostRegressor as a function with some default parameters & printing the prediction results based on the fitting with test data\n",
        "#r2_score & mean_squared_error functions are used as evaluation metrics for this regression task\n",
        "\n",
        "def CatBoost(LR = 0.01, itr = 1000, dep = 5, l2_val = 0.1, subs = 1, bt = 0.1):\n",
        "   \n",
        "    cb_model = CatBoostRegressor(learning_rate=LR,\n",
        "                                 iterations=itr,\n",
        "                                 depth =dep,\n",
        "                                 l2_leaf_reg=l2_val,\n",
        "                                 subsample=subs,\n",
        "                                 bagging_temperature = bt,\n",
        "                                 random_state=42,\n",
        "                                 loss_function= 'RMSE')\n",
        "\n",
        "    cb_model.fit(train_pool, verbose=False)\n",
        "    y_pred = cb_model.predict(test_pool)\n",
        "\n",
        "    print('r2 score: ' + str(r2_score(y_test, y_pred)))\n",
        "    print('rmse (units): ' + str(mean_squared_error(np.expm1(y_test), np.expm1(y_pred), squared=False)) + '\\n')"
      ],
      "metadata": {
        "id": "3lM1nNqjtYoq"
      },
      "execution_count": 61,
      "outputs": []
    },
    {
      "cell_type": "code",
      "source": [
        "#Based on a CatBoostRegressor model, the gridsearch function is defined for tuning the hyperparameters\n",
        "#n_jobs = 4 determines the number of jobs that gridsearch can run in parallel thereby reducing processing time\n",
        "#cv = 3 determining the 4-fold cross-validation as part of the training & validation within the training dataset\n",
        "\n",
        "def CatBoost_tuning (LR = 0.1, itr = 1000, dep = 5, l2_val = 0.1, subs = 1, bt = 0.1, \n",
        "                     param_test = {'learning_rate':[i/100.0 for i in range(5,20,2)]} ):\n",
        "    \n",
        "    gsearch = GridSearchCV(estimator = CatBoostRegressor(learning_rate=LR,\n",
        "                                                         iterations=itr,\n",
        "                                                         depth =dep,\n",
        "                                                         l2_leaf_reg=l2_val,\n",
        "                                                         subsample=subs,\n",
        "                                                         bagging_temperature = bt,\n",
        "                                                         random_state=42,\n",
        "                                                         loss_function= 'RMSE'), \n",
        "                            param_grid = param_test, \n",
        "                            scoring='neg_mean_squared_error',\n",
        "                            n_jobs=4, \n",
        "                            cv=3)\n",
        "\n",
        "    gsearch.fit(X_train, y_train, verbose = False)\n",
        "    return gsearch\n"
      ],
      "metadata": {
        "id": "cVM3WhQzvepU"
      },
      "execution_count": 62,
      "outputs": []
    },
    {
      "cell_type": "code",
      "source": [
        "LearningRate = 0.1\n",
        "iterations = 1000"
      ],
      "metadata": {
        "id": "47--ABnBwmde"
      },
      "execution_count": null,
      "outputs": []
    },
    {
      "cell_type": "code",
      "source": [
        "#baseline Catboost\n",
        "CatBoost(LR = LearningRate, itr = iterations)"
      ],
      "metadata": {
        "id": "z4wRsF-OwaX_",
        "outputId": "cc7ab346-b8fa-4338-a50f-0f1844df0cd3",
        "colab": {
          "base_uri": "https://localhost:8080/"
        }
      },
      "execution_count": null,
      "outputs": [
        {
          "output_type": "stream",
          "name": "stdout",
          "text": [
            "r2 score: 0.6381536705935184\n",
            "rmse (units): 181.11701131932242\n",
            "\n"
          ]
        }
      ]
    },
    {
      "cell_type": "code",
      "source": [
        "# STEP 2 - Tuning Depth parameter\n",
        "\n",
        "parameters_test = {\n",
        "    'depth':[3,5,7,9]\n",
        "}\n",
        "\n",
        "gsearch2_cb = CatBoost_tuning (LR = LearningRate, itr = iterations, param_test=parameters_test)\n",
        "best_depth = gsearch2_cb.best_params_['depth']\n",
        "print(f\"{gsearch2_cb.best_params_} Best Score: {gsearch2_cb.best_score_}\")\n",
        "\n",
        "# Evaluation\n",
        "CatBoost(LR = LearningRate, itr = iterations, dep = best_depth)"
      ],
      "metadata": {
        "id": "AxDO5hYKyS_P",
        "outputId": "571928e1-4685-40b8-db7d-e6fd3dfa3a71",
        "colab": {
          "base_uri": "https://localhost:8080/"
        }
      },
      "execution_count": null,
      "outputs": [
        {
          "output_type": "stream",
          "name": "stdout",
          "text": [
            "{'depth': 7} Best Score: -0.18826006063105785\n",
            "r2 score: 0.6431288227399761\n",
            "rmse (units): 179.36732661474687\n",
            "\n"
          ]
        }
      ]
    },
    {
      "cell_type": "code",
      "source": [
        "# STEP 3 - Tuning L2 Regularization parameter\n",
        "\n",
        "parameters_test = {\n",
        "    'l2_leaf_reg': [0.01, 0.1, 0.5, 1, 2, 5]\n",
        "}\n",
        "\n",
        "gsearch3_cb = CatBoost_tuning (LR = LearningRate, itr = iterations, param_test=parameters_test)\n",
        "best_l2 = gsearch3_cb.best_params_['l2_leaf_reg']\n",
        "print(f\"{gsearch3_cb.best_params_} Best Score: {gsearch3_cb.best_score_}\")\n",
        "\n",
        "# Evaluation\n",
        "CatBoost(LR = LearningRate, itr = iterations, dep = best_depth, l2_val = best_l2)"
      ],
      "metadata": {
        "id": "Ccy86Xylz_mb",
        "outputId": "ffd0c7e6-c761-47be-ce47-621e6542ff0b",
        "colab": {
          "base_uri": "https://localhost:8080/"
        }
      },
      "execution_count": null,
      "outputs": [
        {
          "output_type": "stream",
          "name": "stdout",
          "text": [
            "{'l2_leaf_reg': 2} Best Score: -0.1890203053837631\n",
            "r2 score: 0.6433264383389801\n",
            "rmse (units): 180.4910180066357\n",
            "\n"
          ]
        }
      ]
    },
    {
      "cell_type": "code",
      "source": [
        "# STEP 4 - Tuning subsamples parameter\n",
        "\n",
        "parameters_test = {\n",
        "    'subsample': [0.5, 0.6, 0.7, 0.8, 0.9, 1]\n",
        "}\n",
        "\n",
        "gsearch4_cb = CatBoost_tuning (LR = LearningRate, itr = iterations, param_test=parameters_test)\n",
        "best_sub = gsearch4_cb.best_params_['subsample']\n",
        "print(f\"{gsearch4_cb.best_params_} Best Score: {gsearch4_cb.best_score_}\")\n",
        "\n",
        "# Evaluation\n",
        "CatBoost(LR = LearningRate, itr = iterations, dep = best_depth, l2_val = best_l2, subs = best_sub)"
      ],
      "metadata": {
        "id": "BkbApDk_1Oy7",
        "outputId": "102afde1-db79-4080-845c-093b517857a9",
        "colab": {
          "base_uri": "https://localhost:8080/"
        }
      },
      "execution_count": null,
      "outputs": [
        {
          "output_type": "stream",
          "name": "stdout",
          "text": [
            "{'subsample': 0.8} Best Score: -0.1899458633050087\n",
            "r2 score: 0.6442433317289746\n",
            "rmse (units): 182.73123950273987\n",
            "\n"
          ]
        }
      ]
    },
    {
      "cell_type": "code",
      "source": [
        "# STEP 5 - Tuning Bagging Temperature parameter\n",
        "\n",
        "parameters_test = {\n",
        "    'bagging_temperature': [0, 0.1, 0.5, 1, 2]\n",
        "}\n",
        "\n",
        "gsearch5_cb = CatBoost_tuning (LR = LearningRate, itr = iterations, param_test=parameters_test)\n",
        "best_bt = gsearch5_cb.best_params_['bagging_temperature']\n",
        "print(f\"{gsearch5_cb.best_params_} Best Score: {gsearch5_cb.best_score_}\")\n",
        "\n",
        "# Evaluation\n",
        "CatBoost(LR = LearningRate, itr = iterations, dep = best_depth, l2_val = best_l2, subs = best_sub, bt = best_bt)"
      ],
      "metadata": {
        "id": "70xBxjT72FMg",
        "outputId": "ef28778a-c82a-4e1c-cb09-8bb447c7cb14",
        "colab": {
          "base_uri": "https://localhost:8080/"
        }
      },
      "execution_count": null,
      "outputs": [
        {
          "output_type": "stream",
          "name": "stdout",
          "text": [
            "{'bagging_temperature': 0} Best Score: -0.19049072659340863\n",
            "r2 score: 0.6442433317289746\n",
            "rmse (units): 182.73123950273987\n",
            "\n"
          ]
        }
      ]
    },
    {
      "cell_type": "code",
      "source": [
        "# STEP 6 - Tuning iterations\n",
        "\n",
        "parameters_test = {\n",
        "    'iterations': [500, 1000, 1500, 2000]\n",
        "}\n",
        "\n",
        "gsearch6_cb = CatBoost_tuning (LR = LearningRate, param_test=parameters_test)\n",
        "best_itr = gsearch6_cb.best_params_['iterations']\n",
        "print(f\"{gsearch6_cb.best_params_} Best Score: {gsearch6_cb.best_score_}\")\n",
        "\n",
        "# Evaluation\n",
        "CatBoost(LR = LearningRate, itr = best_itr, dep = best_depth, l2_val = best_l2, subs = best_sub, bt = best_bt)"
      ],
      "metadata": {
        "id": "_p-B2B3E2w-O",
        "outputId": "902004e2-5e5c-47c6-cea3-6f6e81c9efa7",
        "colab": {
          "base_uri": "https://localhost:8080/"
        }
      },
      "execution_count": null,
      "outputs": [
        {
          "output_type": "stream",
          "name": "stdout",
          "text": [
            "{'iterations': 1500} Best Score: -0.19041914197830642\n",
            "r2 score: 0.6449879799195477\n",
            "rmse (units): 181.94821195561406\n",
            "\n"
          ]
        }
      ]
    },
    {
      "cell_type": "code",
      "source": [
        "# STEP 7 - Tuning LR\n",
        "\n",
        "parameters_test = {\n",
        "    'learning_rate': [0.001, 0.01, 0.05, 0.1, 0.15, 0.2]\n",
        "}\n",
        "\n",
        "gsearch7_cb = CatBoost_tuning (LR = LearningRate, param_test=parameters_test)\n",
        "best_lr = gsearch7_cb.best_params_['learning_rate']\n",
        "print(f\"{gsearch7_cb.best_params_} Best Score: {gsearch7_cb.best_score_}\")\n",
        "\n",
        "# Evaluation\n",
        "CatBoost(LR = best_lr, itr = best_itr, dep = best_depth, l2_val = best_l2, subs = best_sub, bt = best_bt)"
      ],
      "metadata": {
        "id": "rxd6Cz0B3GCp",
        "outputId": "5beed20d-bf6f-4be6-f0a6-d952ac6e6899",
        "colab": {
          "base_uri": "https://localhost:8080/"
        }
      },
      "execution_count": null,
      "outputs": [
        {
          "output_type": "stream",
          "name": "stdout",
          "text": [
            "{'learning_rate': 0.1} Best Score: -0.19049072659340863\n",
            "r2 score: 0.6449879799195477\n",
            "rmse (units): 181.94821195561406\n",
            "\n"
          ]
        }
      ]
    },
    {
      "cell_type": "markdown",
      "source": [
        "###best Catboost based on the parameters obtained"
      ],
      "metadata": {
        "id": "j8WoEaYl3gJ6"
      }
    },
    {
      "cell_type": "code",
      "source": [
        "best_cb_model = CatBoostRegressor(learning_rate=0.1,\n",
        "                              iterations= 1500,\n",
        "                              depth =7,\n",
        "                              l2_leaf_reg=2,\n",
        "                              subsample=0.8,\n",
        "                              bagging_temperature = 0,\n",
        "                              random_state=42,\n",
        "                              loss_function= 'RMSE')\n",
        "\n",
        "best_cb_model.fit(train_pool, verbose=False)\n",
        "\n",
        "save_loc = '/content/drive/MyDrive/Ensemble_Project/catboostmodel_bestparams_20230317.cbm'\n",
        "\n",
        "best_cb_model.save_model(save_loc)"
      ],
      "metadata": {
        "id": "ouZrjrX23fpP"
      },
      "execution_count": null,
      "outputs": []
    },
    {
      "cell_type": "markdown",
      "source": [
        "###run this step to use pretrained Catboost model"
      ],
      "metadata": {
        "id": "deNmbxUPpc7v"
      }
    },
    {
      "cell_type": "code",
      "source": [
        "save_loc = '/content/drive/MyDrive/Ensemble_Project/catboostmodel_bestparams_20230317.cbm'"
      ],
      "metadata": {
        "id": "uRGYcH82hfrV"
      },
      "execution_count": null,
      "outputs": []
    },
    {
      "cell_type": "code",
      "source": [
        "#Loading the pretrained catboostregressor model into a variable and using it to make prediction on the test dataset\n",
        "\n",
        "loaded_model_cb = CatBoostRegressor()\n",
        "\n",
        "loaded_model_cb.load_model(save_loc)\n",
        "\n",
        "y_pred = loaded_model_cb.predict(test_pool)\n",
        "\n",
        "print('r2 score: ' + str(r2_score(y_test, y_pred)))\n",
        "print('rmse (units): ' + str(mean_squared_error(np.expm1(y_test), np.expm1(y_pred), squared=False)) + '\\n')"
      ],
      "metadata": {
        "id": "T7nceVRA4f41",
        "outputId": "44311420-e596-471e-bbc9-fd9e667ad0f7",
        "colab": {
          "base_uri": "https://localhost:8080/"
        }
      },
      "execution_count": null,
      "outputs": [
        {
          "output_type": "stream",
          "name": "stdout",
          "text": [
            "r2 score: 0.6449879799195477\n",
            "rmse (units): 181.94821195561406\n",
            "\n"
          ]
        }
      ]
    },
    {
      "cell_type": "markdown",
      "source": [
        "### CatBoostRegressor giving the better performance in terms of the prediction r2_score & RMSE and also being the fastest among all for training on the dataset"
      ],
      "metadata": {
        "id": "CH-iOFCUc2hD"
      }
    },
    {
      "cell_type": "markdown",
      "source": [
        "#RandomForestRegressor Feature Importance"
      ],
      "metadata": {
        "id": "micZhw4IQ1h4"
      }
    },
    {
      "cell_type": "code",
      "source": [
        "# Calculate and plot the feature importance for RandomForestRegressor\n",
        "importance_rf = loaded_model_rf.feature_importances_\n",
        "feature_names_rf = X_train.columns.tolist()\n",
        "\n",
        "feature_importance_df_rf = pd.DataFrame({'feature': feature_names_rf, 'importance': importance_rf})\n",
        "top10 = feature_importance_df_rf.nlargest(10, 'importance')\n",
        "top10 = top10.iloc[::-1]\n",
        "\n",
        "fig, ax = plt.subplots(figsize=(8, 6))\n",
        "ax.barh(top10['feature'], top10['importance'])\n",
        "ax.set_xlabel('Feature Importance')\n",
        "fig.suptitle('Top 10 Feature Importance based on RandomForestRegressor Model')\n",
        "plt.show()\n"
      ],
      "metadata": {
        "colab": {
          "base_uri": "https://localhost:8080/",
          "height": 431
        },
        "id": "WITfraSJLFpR",
        "outputId": "fa979d00-a0ee-4a1d-901e-944986466158"
      },
      "execution_count": null,
      "outputs": [
        {
          "output_type": "display_data",
          "data": {
            "text/plain": [
              "<Figure size 576x432 with 1 Axes>"
            ],
            "image/png": "[encoded data removed]"
          },
          "metadata": {
            "needs_background": "light"
          }
        }
      ]
    },
    {
      "cell_type": "markdown",
      "source": [
        "#XGBoostRegressor Feature Importance"
      ],
      "metadata": {
        "id": "Qk5RwlztKU5Z"
      }
    },
    {
      "cell_type": "code",
      "source": [
        "# Calculate and plot the feature importance for XGBoostRegressor using the get_score method\n",
        "importance_xgb = loaded_model_xgb.get_booster().get_score(importance_type='gain')\n",
        "feature_names_xgb = X_train.columns.tolist()\n",
        "\n",
        "feature_importance_df_xgb = pd.DataFrame({'feature': feature_names_xgb, 'importance': [importance_xgb.get(name, 0) for name in feature_names_xgb]})\n",
        "top10 = feature_importance_df_xgb.nlargest(10, 'importance')\n",
        "top10 = top10.iloc[::-1]\n",
        "\n",
        "fig, ax = plt.subplots(figsize=(8, 6))\n",
        "ax.barh(top10['feature'], top10['importance'])\n",
        "ax.set_xlabel('Feature Importance')\n",
        "fig.suptitle('Top 10 Feature Importance based on XGBoostRegressor Model')\n",
        "plt.show()"
      ],
      "metadata": {
        "colab": {
          "base_uri": "https://localhost:8080/",
          "height": 431
        },
        "id": "GXZgDuiXNbNt",
        "outputId": "96677923-5828-49cf-bfad-4c3d1222ee1a"
      },
      "execution_count": null,
      "outputs": [
        {
          "output_type": "display_data",
          "data": {
            "text/plain": [
              "<Figure size 576x432 with 1 Axes>"
            ],
            "image/png": "[encoded data removed]"
          },
          "metadata": {
            "needs_background": "light"
          }
        }
      ]
    },
    {
      "cell_type": "markdown",
      "source": [
        "#Catboost Feature Importance & SHAP Values"
      ],
      "metadata": {
        "id": "mw2r8XbVGoX9"
      }
    },
    {
      "cell_type": "code",
      "source": [
        "# Calculate and plot the feature importance using the get_feature_importance method for CatBoostRegressor model\n",
        "feature_importances = loaded_model_cb.get_feature_importance()\n",
        "feature_names = X_train_cat.columns.tolist()\n",
        "\n",
        "feature_importance_df = pd.DataFrame({'feature': feature_names, 'importance': feature_importances})\n",
        "feature_importance_df = feature_importance_df.sort_values('importance', ascending=True)\n",
        "\n",
        "fig, ax = plt.subplots(figsize=(8, 6))\n",
        "ax.barh(feature_importance_df['feature'], feature_importance_df['importance'])\n",
        "ax.set_xlabel('Feature Importance')\n",
        "fig.suptitle('Feature Importance based on CatBoostRegressor Model')\n",
        "plt.show()"
      ],
      "metadata": {
        "colab": {
          "base_uri": "https://localhost:8080/",
          "height": 431
        },
        "id": "v2SxKESSEfYz",
        "outputId": "2d7891ce-9e6e-469a-c859-aa9b2d2c5a64"
      },
      "execution_count": null,
      "outputs": [
        {
          "output_type": "display_data",
          "data": {
            "text/plain": [
              "<Figure size 576x432 with 1 Axes>"
            ],
            "image/png": "[encoded data removed]"
          },
          "metadata": {
            "needs_background": "light"
          }
        }
      ]
    },
    {
      "cell_type": "code",
      "source": [
        "# Calculate the SHAP values for each feature using the shap library\n",
        "explainer = shap.Explainer(loaded_model_cb)\n",
        "shap_values = explainer(X_train_cat)\n",
        "\n",
        "# Plot the SHAP summary plot\n",
        "shap.summary_plot(shap_values, X_train_cat, plot_type=\"bar\")\n",
        "plt.show()"
      ],
      "metadata": {
        "colab": {
          "base_uri": "https://localhost:8080/",
          "height": 549
        },
        "id": "8ihK_aCSObjE",
        "outputId": "3c16cfcf-936e-4018-b42b-a71e1ebe2213"
      },
      "execution_count": null,
      "outputs": [
        {
          "output_type": "display_data",
          "data": {
            "text/plain": [
              "<Figure size 576x540 with 1 Axes>"
            ],
            "image/png": "[encoded data removed]"
          },
          "metadata": {
            "needs_background": "light"
          }
        }
      ]
    }
  ]
}