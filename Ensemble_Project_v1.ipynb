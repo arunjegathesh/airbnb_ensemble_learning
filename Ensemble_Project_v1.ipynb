{
  "nbformat": 4,
  "nbformat_minor": 0,
  "metadata": {
    "colab": {
      "provenance": []
    },
    "kernelspec": {
      "name": "python3",
      "display_name": "Python 3"
    },
    "language_info": {
      "name": "python"
    },
    "accelerator": "GPU",
    "gpuClass": "standard"
  },
  "cells": [
    {
      "cell_type": "code",
      "source": [
        "!pip install catboost"
      ],
      "metadata": {
        "colab": {
          "base_uri": "https://localhost:8080/"
        },
        "id": "67RBpJ_mbQOk",
        "outputId": "50f86ac7-4080-4ba1-8774-88b0bc9204ca"
      },
      "execution_count": 2,
      "outputs": [
        {
          "output_type": "stream",
          "name": "stdout",
          "text": [
            "Looking in indexes: https://pypi.org/simple, https://us-python.pkg.dev/colab-wheels/public/simple/\n",
            "Collecting catboost\n",
            "  Downloading catboost-1.1.1-cp39-none-manylinux1_x86_64.whl (76.6 MB)\n",
            "\u001b[2K     \u001b[90m━━━━━━━━━━━━━━━━━━━━━━━━━━━━━━━━━━━━━━━━\u001b[0m \u001b[32m76.6/76.6 MB\u001b[0m \u001b[31m11.3 MB/s\u001b[0m eta \u001b[36m0:00:00\u001b[0m\n",
            "\u001b[?25hRequirement already satisfied: scipy in /usr/local/lib/python3.9/dist-packages (from catboost) (1.10.1)\n",
            "Requirement already satisfied: numpy>=1.16.0 in /usr/local/lib/python3.9/dist-packages (from catboost) (1.22.4)\n",
            "Requirement already satisfied: pandas>=0.24.0 in /usr/local/lib/python3.9/dist-packages (from catboost) (1.4.4)\n",
            "Requirement already satisfied: matplotlib in /usr/local/lib/python3.9/dist-packages (from catboost) (3.7.1)\n",
            "Requirement already satisfied: plotly in /usr/local/lib/python3.9/dist-packages (from catboost) (5.5.0)\n",
            "Requirement already satisfied: six in /usr/local/lib/python3.9/dist-packages (from catboost) (1.15.0)\n",
            "Requirement already satisfied: graphviz in /usr/local/lib/python3.9/dist-packages (from catboost) (0.10.1)\n",
            "Requirement already satisfied: python-dateutil>=2.8.1 in /usr/local/lib/python3.9/dist-packages (from pandas>=0.24.0->catboost) (2.8.2)\n",
            "Requirement already satisfied: pytz>=2020.1 in /usr/local/lib/python3.9/dist-packages (from pandas>=0.24.0->catboost) (2022.7.1)\n",
            "Requirement already satisfied: importlib-resources>=3.2.0 in /usr/local/lib/python3.9/dist-packages (from matplotlib->catboost) (5.12.0)\n",
            "Requirement already satisfied: pyparsing>=2.3.1 in /usr/local/lib/python3.9/dist-packages (from matplotlib->catboost) (3.0.9)\n",
            "Requirement already satisfied: cycler>=0.10 in /usr/local/lib/python3.9/dist-packages (from matplotlib->catboost) (0.11.0)\n",
            "Requirement already satisfied: kiwisolver>=1.0.1 in /usr/local/lib/python3.9/dist-packages (from matplotlib->catboost) (1.4.4)\n",
            "Requirement already satisfied: fonttools>=4.22.0 in /usr/local/lib/python3.9/dist-packages (from matplotlib->catboost) (4.39.0)\n",
            "Requirement already satisfied: pillow>=6.2.0 in /usr/local/lib/python3.9/dist-packages (from matplotlib->catboost) (8.4.0)\n",
            "Requirement already satisfied: contourpy>=1.0.1 in /usr/local/lib/python3.9/dist-packages (from matplotlib->catboost) (1.0.7)\n",
            "Requirement already satisfied: packaging>=20.0 in /usr/local/lib/python3.9/dist-packages (from matplotlib->catboost) (23.0)\n",
            "Requirement already satisfied: tenacity>=6.2.0 in /usr/local/lib/python3.9/dist-packages (from plotly->catboost) (8.2.2)\n",
            "Requirement already satisfied: zipp>=3.1.0 in /usr/local/lib/python3.9/dist-packages (from importlib-resources>=3.2.0->matplotlib->catboost) (3.15.0)\n",
            "Installing collected packages: catboost\n",
            "Successfully installed catboost-1.1.1\n"
          ]
        }
      ]
    },
    {
      "cell_type": "code",
      "execution_count": 37,
      "metadata": {
        "id": "xCjIltjp5YA1"
      },
      "outputs": [],
      "source": [
        "import numpy as np\n",
        "import pandas as pd\n",
        "import matplotlib.pyplot as plt\n",
        "import seaborn as sns\n",
        "from sklearn.model_selection import train_test_split\n",
        "from sklearn.model_selection import GridSearchCV\n",
        "from catboost import CatBoostRegressor, Pool\n",
        "from sklearn.preprocessing import scale, StandardScaler, RobustScaler, OneHotEncoder\n",
        "\n",
        "from sklearn.ensemble import RandomForestRegressor\n",
        "\n",
        "import warnings\n",
        "warnings.filterwarnings(\"ignore\", category=FutureWarning)"
      ]
    },
    {
      "cell_type": "code",
      "source": [
        "import numpy as np # linear algebra\n",
        "import pandas as pd # data processing, CSV file I/O (e.g. pd.read_csv)\n",
        "import matplotlib\n",
        "import matplotlib.pyplot as plt\n",
        "import seaborn as sns\n",
        "\n",
        "from plotly.offline import download_plotlyjs, init_notebook_mode, plot, iplot\n",
        "import plotly as py\n",
        "import plotly.graph_objs as go\n",
        "from plotly.subplots import make_subplots\n",
        "\n",
        "init_notebook_mode(connected=True)\n",
        "\n",
        "import collections\n",
        "import itertools\n",
        "\n",
        "import scipy.stats as stats\n",
        "from scipy.stats import norm\n",
        "from scipy.special import boxcox1p\n",
        "\n",
        "import statsmodels\n",
        "import statsmodels.api as sm\n",
        "#print(statsmodels.__version__)\n",
        "\n",
        "from sklearn.preprocessing import scale, StandardScaler, RobustScaler, OneHotEncoder\n",
        "from sklearn.pipeline import Pipeline\n",
        "from sklearn.compose import ColumnTransformer\n",
        "from sklearn.model_selection import train_test_split, cross_val_score, GridSearchCV, KFold, StratifiedKFold, RandomizedSearchCV\n",
        "from sklearn.linear_model import Ridge, RidgeCV, Lasso, LassoCV, LinearRegression, ElasticNet,  HuberRegressor\n",
        "from sklearn.metrics import mean_squared_error, r2_score\n",
        "from xgboost import XGBRegressor\n",
        "from sklearn.gaussian_process import GaussianProcessRegressor\n",
        "from sklearn.ensemble import RandomForestRegressor, GradientBoostingRegressor\n",
        "from sklearn.svm import SVR\n",
        "from sklearn.kernel_ridge import KernelRidge\n",
        "from sklearn.utils import resample\n",
        "\n",
        "from sklearn.model_selection import train_test_split, cross_val_score, GridSearchCV, KFold, StratifiedKFold, RandomizedSearchCV"
      ],
      "metadata": {
        "colab": {
          "base_uri": "https://localhost:8080/",
          "height": 17
        },
        "id": "l5bu0mmzMMjf",
        "outputId": "ccdc763d-b6f8-4104-a652-20a01dd47125"
      },
      "execution_count": 5,
      "outputs": [
        {
          "output_type": "display_data",
          "data": {
            "text/html": [
              "        <script type=\"text/javascript\">\n",
              "        window.PlotlyConfig = {MathJaxConfig: 'local'};\n",
              "        if (window.MathJax) {MathJax.Hub.Config({SVG: {font: \"STIX-Web\"}});}\n",
              "        if (typeof require !== 'undefined') {\n",
              "        require.undef(\"plotly\");\n",
              "        requirejs.config({\n",
              "            paths: {\n",
              "                'plotly': ['https://cdn.plot.ly/plotly-2.8.3.min']\n",
              "            }\n",
              "        });\n",
              "        require(['plotly'], function(Plotly) {\n",
              "            window._Plotly = Plotly;\n",
              "        });\n",
              "        }\n",
              "        </script>\n",
              "        "
            ]
          },
          "metadata": {}
        }
      ]
    },
    {
      "cell_type": "code",
      "source": [
        "from google.colab import drive\n",
        "drive.mount('/content/drive')"
      ],
      "metadata": {
        "id": "f0ZiRrM2186D",
        "outputId": "b0fca88d-804f-4625-bf01-fae0fdf65896",
        "colab": {
          "base_uri": "https://localhost:8080/"
        }
      },
      "execution_count": 6,
      "outputs": [
        {
          "output_type": "stream",
          "name": "stdout",
          "text": [
            "Mounted at /content/drive\n"
          ]
        }
      ]
    },
    {
      "cell_type": "code",
      "source": [
        "df_in = pd.read_csv('/content/drive/MyDrive/Ensemble_Project/AB_NYC_2019.csv')"
      ],
      "metadata": {
        "id": "d0nNXFCH5fvt"
      },
      "execution_count": 7,
      "outputs": []
    },
    {
      "cell_type": "code",
      "source": [
        "df_in.head()"
      ],
      "metadata": {
        "colab": {
          "base_uri": "https://localhost:8080/",
          "height": 455
        },
        "id": "dKq-fAdG5vkp",
        "outputId": "f1e8f635-a686-4365-e5ca-f649b1b23648"
      },
      "execution_count": null,
      "outputs": [
        {
          "output_type": "execute_result",
          "data": {
            "text/plain": [
              "     id                                              name  host_id  \\\n",
              "0  2539                Clean & quiet apt home by the park     2787   \n",
              "1  2595                             Skylit Midtown Castle     2845   \n",
              "2  3647               THE VILLAGE OF HARLEM....NEW YORK !     4632   \n",
              "3  3831                   Cozy Entire Floor of Brownstone     4869   \n",
              "4  5022  Entire Apt: Spacious Studio/Loft by central park     7192   \n",
              "\n",
              "     host_name neighbourhood_group neighbourhood  latitude  longitude  \\\n",
              "0         John            Brooklyn    Kensington  40.64749  -73.97237   \n",
              "1     Jennifer           Manhattan       Midtown  40.75362  -73.98377   \n",
              "2    Elisabeth           Manhattan        Harlem  40.80902  -73.94190   \n",
              "3  LisaRoxanne            Brooklyn  Clinton Hill  40.68514  -73.95976   \n",
              "4        Laura           Manhattan   East Harlem  40.79851  -73.94399   \n",
              "\n",
              "         room_type  price  minimum_nights  number_of_reviews last_review  \\\n",
              "0     Private room    149               1                  9  2018-10-19   \n",
              "1  Entire home/apt    225               1                 45  2019-05-21   \n",
              "2     Private room    150               3                  0         NaN   \n",
              "3  Entire home/apt     89               1                270  2019-07-05   \n",
              "4  Entire home/apt     80              10                  9  2018-11-19   \n",
              "\n",
              "   reviews_per_month  calculated_host_listings_count  availability_365  \n",
              "0               0.21                               6               365  \n",
              "1               0.38                               2               355  \n",
              "2                NaN                               1               365  \n",
              "3               4.64                               1               194  \n",
              "4               0.10                               1                 0  "
            ],
            "text/html": [
              "\n",
              "  <div id=\"df-25458753-f25f-40a8-8b9a-816d10e40ef9\">\n",
              "    <div class=\"colab-df-container\">\n",
              "      <div>\n",
              "<style scoped>\n",
              "    .dataframe tbody tr th:only-of-type {\n",
              "        vertical-align: middle;\n",
              "    }\n",
              "\n",
              "    .dataframe tbody tr th {\n",
              "        vertical-align: top;\n",
              "    }\n",
              "\n",
              "    .dataframe thead th {\n",
              "        text-align: right;\n",
              "    }\n",
              "</style>\n",
              "<table border=\"1\" class=\"dataframe\">\n",
              "  <thead>\n",
              "    <tr style=\"text-align: right;\">\n",
              "      <th></th>\n",
              "      <th>id</th>\n",
              "      <th>name</th>\n",
              "      <th>host_id</th>\n",
              "      <th>host_name</th>\n",
              "      <th>neighbourhood_group</th>\n",
              "      <th>neighbourhood</th>\n",
              "      <th>latitude</th>\n",
              "      <th>longitude</th>\n",
              "      <th>room_type</th>\n",
              "      <th>price</th>\n",
              "      <th>minimum_nights</th>\n",
              "      <th>number_of_reviews</th>\n",
              "      <th>last_review</th>\n",
              "      <th>reviews_per_month</th>\n",
              "      <th>calculated_host_listings_count</th>\n",
              "      <th>availability_365</th>\n",
              "    </tr>\n",
              "  </thead>\n",
              "  <tbody>\n",
              "    <tr>\n",
              "      <th>0</th>\n",
              "      <td>2539</td>\n",
              "      <td>Clean &amp; quiet apt home by the park</td>\n",
              "      <td>2787</td>\n",
              "      <td>John</td>\n",
              "      <td>Brooklyn</td>\n",
              "      <td>Kensington</td>\n",
              "      <td>40.64749</td>\n",
              "      <td>-73.97237</td>\n",
              "      <td>Private room</td>\n",
              "      <td>149</td>\n",
              "      <td>1</td>\n",
              "      <td>9</td>\n",
              "      <td>2018-10-19</td>\n",
              "      <td>0.21</td>\n",
              "      <td>6</td>\n",
              "      <td>365</td>\n",
              "    </tr>\n",
              "    <tr>\n",
              "      <th>1</th>\n",
              "      <td>2595</td>\n",
              "      <td>Skylit Midtown Castle</td>\n",
              "      <td>2845</td>\n",
              "      <td>Jennifer</td>\n",
              "      <td>Manhattan</td>\n",
              "      <td>Midtown</td>\n",
              "      <td>40.75362</td>\n",
              "      <td>-73.98377</td>\n",
              "      <td>Entire home/apt</td>\n",
              "      <td>225</td>\n",
              "      <td>1</td>\n",
              "      <td>45</td>\n",
              "      <td>2019-05-21</td>\n",
              "      <td>0.38</td>\n",
              "      <td>2</td>\n",
              "      <td>355</td>\n",
              "    </tr>\n",
              "    <tr>\n",
              "      <th>2</th>\n",
              "      <td>3647</td>\n",
              "      <td>THE VILLAGE OF HARLEM....NEW YORK !</td>\n",
              "      <td>4632</td>\n",
              "      <td>Elisabeth</td>\n",
              "      <td>Manhattan</td>\n",
              "      <td>Harlem</td>\n",
              "      <td>40.80902</td>\n",
              "      <td>-73.94190</td>\n",
              "      <td>Private room</td>\n",
              "      <td>150</td>\n",
              "      <td>3</td>\n",
              "      <td>0</td>\n",
              "      <td>NaN</td>\n",
              "      <td>NaN</td>\n",
              "      <td>1</td>\n",
              "      <td>365</td>\n",
              "    </tr>\n",
              "    <tr>\n",
              "      <th>3</th>\n",
              "      <td>3831</td>\n",
              "      <td>Cozy Entire Floor of Brownstone</td>\n",
              "      <td>4869</td>\n",
              "      <td>LisaRoxanne</td>\n",
              "      <td>Brooklyn</td>\n",
              "      <td>Clinton Hill</td>\n",
              "      <td>40.68514</td>\n",
              "      <td>-73.95976</td>\n",
              "      <td>Entire home/apt</td>\n",
              "      <td>89</td>\n",
              "      <td>1</td>\n",
              "      <td>270</td>\n",
              "      <td>2019-07-05</td>\n",
              "      <td>4.64</td>\n",
              "      <td>1</td>\n",
              "      <td>194</td>\n",
              "    </tr>\n",
              "    <tr>\n",
              "      <th>4</th>\n",
              "      <td>5022</td>\n",
              "      <td>Entire Apt: Spacious Studio/Loft by central park</td>\n",
              "      <td>7192</td>\n",
              "      <td>Laura</td>\n",
              "      <td>Manhattan</td>\n",
              "      <td>East Harlem</td>\n",
              "      <td>40.79851</td>\n",
              "      <td>-73.94399</td>\n",
              "      <td>Entire home/apt</td>\n",
              "      <td>80</td>\n",
              "      <td>10</td>\n",
              "      <td>9</td>\n",
              "      <td>2018-11-19</td>\n",
              "      <td>0.10</td>\n",
              "      <td>1</td>\n",
              "      <td>0</td>\n",
              "    </tr>\n",
              "  </tbody>\n",
              "</table>\n",
              "</div>\n",
              "      <button class=\"colab-df-convert\" onclick=\"convertToInteractive('df-25458753-f25f-40a8-8b9a-816d10e40ef9')\"\n",
              "              title=\"Convert this dataframe to an interactive table.\"\n",
              "              style=\"display:none;\">\n",
              "        \n",
              "  <svg xmlns=\"http://www.w3.org/2000/svg\" height=\"24px\"viewBox=\"0 0 24 24\"\n",
              "       width=\"24px\">\n",
              "    <path d=\"M0 0h24v24H0V0z\" fill=\"none\"/>\n",
              "    <path d=\"M18.56 5.44l.94 2.06.94-2.06 2.06-.94-2.06-.94-.94-2.06-.94 2.06-2.06.94zm-11 1L8.5 8.5l.94-2.06 2.06-.94-2.06-.94L8.5 2.5l-.94 2.06-2.06.94zm10 10l.94 2.06.94-2.06 2.06-.94-2.06-.94-.94-2.06-.94 2.06-2.06.94z\"/><path d=\"M17.41 7.96l-1.37-1.37c-.4-.4-.92-.59-1.43-.59-.52 0-1.04.2-1.43.59L10.3 9.45l-7.72 7.72c-.78.78-.78 2.05 0 2.83L4 21.41c.39.39.9.59 1.41.59.51 0 1.02-.2 1.41-.59l7.78-7.78 2.81-2.81c.8-.78.8-2.07 0-2.86zM5.41 20L4 18.59l7.72-7.72 1.47 1.35L5.41 20z\"/>\n",
              "  </svg>\n",
              "      </button>\n",
              "      \n",
              "  <style>\n",
              "    .colab-df-container {\n",
              "      display:flex;\n",
              "      flex-wrap:wrap;\n",
              "      gap: 12px;\n",
              "    }\n",
              "\n",
              "    .colab-df-convert {\n",
              "      background-color: #E8F0FE;\n",
              "      border: none;\n",
              "      border-radius: 50%;\n",
              "      cursor: pointer;\n",
              "      display: none;\n",
              "      fill: #1967D2;\n",
              "      height: 32px;\n",
              "      padding: 0 0 0 0;\n",
              "      width: 32px;\n",
              "    }\n",
              "\n",
              "    .colab-df-convert:hover {\n",
              "      background-color: #E2EBFA;\n",
              "      box-shadow: 0px 1px 2px rgba(60, 64, 67, 0.3), 0px 1px 3px 1px rgba(60, 64, 67, 0.15);\n",
              "      fill: #174EA6;\n",
              "    }\n",
              "\n",
              "    [theme=dark] .colab-df-convert {\n",
              "      background-color: #3B4455;\n",
              "      fill: #D2E3FC;\n",
              "    }\n",
              "\n",
              "    [theme=dark] .colab-df-convert:hover {\n",
              "      background-color: #434B5C;\n",
              "      box-shadow: 0px 1px 3px 1px rgba(0, 0, 0, 0.15);\n",
              "      filter: drop-shadow(0px 1px 2px rgba(0, 0, 0, 0.3));\n",
              "      fill: #FFFFFF;\n",
              "    }\n",
              "  </style>\n",
              "\n",
              "      <script>\n",
              "        const buttonEl =\n",
              "          document.querySelector('#df-25458753-f25f-40a8-8b9a-816d10e40ef9 button.colab-df-convert');\n",
              "        buttonEl.style.display =\n",
              "          google.colab.kernel.accessAllowed ? 'block' : 'none';\n",
              "\n",
              "        async function convertToInteractive(key) {\n",
              "          const element = document.querySelector('#df-25458753-f25f-40a8-8b9a-816d10e40ef9');\n",
              "          const dataTable =\n",
              "            await google.colab.kernel.invokeFunction('convertToInteractive',\n",
              "                                                     [key], {});\n",
              "          if (!dataTable) return;\n",
              "\n",
              "          const docLinkHtml = 'Like what you see? Visit the ' +\n",
              "            '<a target=\"_blank\" href=https://colab.research.google.com/notebooks/data_table.ipynb>data table notebook</a>'\n",
              "            + ' to learn more about interactive tables.';\n",
              "          element.innerHTML = '';\n",
              "          dataTable['output_type'] = 'display_data';\n",
              "          await google.colab.output.renderOutput(dataTable, element);\n",
              "          const docLink = document.createElement('div');\n",
              "          docLink.innerHTML = docLinkHtml;\n",
              "          element.appendChild(docLink);\n",
              "        }\n",
              "      </script>\n",
              "    </div>\n",
              "  </div>\n",
              "  "
            ]
          },
          "metadata": {},
          "execution_count": 6
        }
      ]
    },
    {
      "cell_type": "code",
      "source": [
        "#AJ comments -\n",
        "  #Aggregate on host_id to get multiple listings by a single host -- cross check with the calculated_host_listings column\n",
        "  #Range of the listing price is skewed with values above a certain limit -- impute or normalize them\n",
        "    #11 entries with price = 0\n",
        "  #Room type and neighbourhoods to be encoded\n",
        "  #add more parameters on demographics using the lat/long combo from public data source for NY\n",
        "  #minimum_nights column -- to be explored more"
      ],
      "metadata": {
        "id": "WC1Vdeqf6Hvy"
      },
      "execution_count": null,
      "outputs": []
    },
    {
      "cell_type": "code",
      "source": [
        "df_in.isnull().sum()"
      ],
      "metadata": {
        "colab": {
          "base_uri": "https://localhost:8080/"
        },
        "id": "6l8h_XzsDteK",
        "outputId": "6c87bfdd-eebb-452d-9d26-984fa653f4c2"
      },
      "execution_count": 8,
      "outputs": [
        {
          "output_type": "execute_result",
          "data": {
            "text/plain": [
              "id                                    0\n",
              "name                                 16\n",
              "host_id                               0\n",
              "host_name                            21\n",
              "neighbourhood_group                   0\n",
              "neighbourhood                         0\n",
              "latitude                              0\n",
              "longitude                             0\n",
              "room_type                             0\n",
              "price                                 0\n",
              "minimum_nights                        0\n",
              "number_of_reviews                     0\n",
              "last_review                       10052\n",
              "reviews_per_month                 10052\n",
              "calculated_host_listings_count        0\n",
              "availability_365                      0\n",
              "dtype: int64"
            ]
          },
          "metadata": {},
          "execution_count": 8
        }
      ]
    },
    {
      "cell_type": "code",
      "source": [
        "#host name & location name unavaiable in some instances -- does it matter? can we ignore?"
      ],
      "metadata": {
        "id": "FsoUi6LQD_7m"
      },
      "execution_count": null,
      "outputs": []
    },
    {
      "cell_type": "code",
      "source": [
        "cols = ['neighbourhood_group','neighbourhood','minimum_nights','room_type','calculated_host_listings_count']\n",
        "\n",
        "for y in cols:\n",
        "  uni = df_in[y].unique()\n",
        "  print(f\"{y}:{uni}\")\n",
        "\n",
        "#df_in.neighbourhood_group.unique()"
      ],
      "metadata": {
        "colab": {
          "base_uri": "https://localhost:8080/"
        },
        "id": "gFpwTlDOCft_",
        "outputId": "04539085-1f6e-42e5-c46b-8e80f0cc87d2"
      },
      "execution_count": 9,
      "outputs": [
        {
          "output_type": "stream",
          "name": "stdout",
          "text": [
            "neighbourhood_group:['Brooklyn' 'Manhattan' 'Queens' 'Staten Island' 'Bronx']\n",
            "neighbourhood:['Kensington' 'Midtown' 'Harlem' 'Clinton Hill' 'East Harlem'\n",
            " 'Murray Hill' 'Bedford-Stuyvesant' \"Hell's Kitchen\" 'Upper West Side'\n",
            " 'Chinatown' 'South Slope' 'West Village' 'Williamsburg' 'Fort Greene'\n",
            " 'Chelsea' 'Crown Heights' 'Park Slope' 'Windsor Terrace' 'Inwood'\n",
            " 'East Village' 'Greenpoint' 'Bushwick' 'Flatbush' 'Lower East Side'\n",
            " 'Prospect-Lefferts Gardens' 'Long Island City' 'Kips Bay' 'SoHo'\n",
            " 'Upper East Side' 'Prospect Heights' 'Washington Heights' 'Woodside'\n",
            " 'Brooklyn Heights' 'Carroll Gardens' 'Gowanus' 'Flatlands' 'Cobble Hill'\n",
            " 'Flushing' 'Boerum Hill' 'Sunnyside' 'DUMBO' 'St. George' 'Highbridge'\n",
            " 'Financial District' 'Ridgewood' 'Morningside Heights' 'Jamaica'\n",
            " 'Middle Village' 'NoHo' 'Ditmars Steinway' 'Flatiron District'\n",
            " 'Roosevelt Island' 'Greenwich Village' 'Little Italy' 'East Flatbush'\n",
            " 'Tompkinsville' 'Astoria' 'Clason Point' 'Eastchester' 'Kingsbridge'\n",
            " 'Two Bridges' 'Queens Village' 'Rockaway Beach' 'Forest Hills' 'Nolita'\n",
            " 'Woodlawn' 'University Heights' 'Gravesend' 'Gramercy' 'Allerton'\n",
            " 'East New York' 'Theater District' 'Concourse Village' 'Sheepshead Bay'\n",
            " 'Emerson Hill' 'Fort Hamilton' 'Bensonhurst' 'Tribeca' 'Shore Acres'\n",
            " 'Sunset Park' 'Concourse' 'Elmhurst' 'Brighton Beach' 'Jackson Heights'\n",
            " 'Cypress Hills' 'St. Albans' 'Arrochar' 'Rego Park' 'Wakefield' 'Clifton'\n",
            " 'Bay Ridge' 'Graniteville' 'Spuyten Duyvil' 'Stapleton' 'Briarwood'\n",
            " 'Ozone Park' 'Columbia St' 'Vinegar Hill' 'Mott Haven' 'Longwood'\n",
            " 'Canarsie' 'Battery Park City' 'Civic Center' 'East Elmhurst'\n",
            " 'New Springville' 'Morris Heights' 'Arverne' 'Cambria Heights'\n",
            " 'Tottenville' 'Mariners Harbor' 'Concord' 'Borough Park' 'Bayside'\n",
            " 'Downtown Brooklyn' 'Port Morris' 'Fieldston' 'Kew Gardens' 'Midwood'\n",
            " 'College Point' 'Mount Eden' 'City Island' 'Glendale' 'Port Richmond'\n",
            " 'Red Hook' 'Richmond Hill' 'Bellerose' 'Maspeth' 'Williamsbridge'\n",
            " 'Soundview' 'Woodhaven' 'Woodrow' 'Co-op City' 'Stuyvesant Town'\n",
            " 'Parkchester' 'North Riverdale' 'Dyker Heights' 'Bronxdale' 'Sea Gate'\n",
            " 'Riverdale' 'Kew Gardens Hills' 'Bay Terrace' 'Norwood'\n",
            " 'Claremont Village' 'Whitestone' 'Fordham' 'Bayswater' 'Navy Yard'\n",
            " 'Brownsville' 'Eltingville' 'Fresh Meadows' 'Mount Hope'\n",
            " 'Lighthouse Hill' 'Springfield Gardens' 'Howard Beach' 'Belle Harbor'\n",
            " 'Jamaica Estates' 'Van Nest' 'Morris Park' 'West Brighton' 'Far Rockaway'\n",
            " 'South Ozone Park' 'Tremont' 'Corona' 'Great Kills' 'Manhattan Beach'\n",
            " 'Marble Hill' 'Dongan Hills' 'Castleton Corners' 'East Morrisania'\n",
            " 'Hunts Point' 'Neponsit' 'Pelham Bay' 'Randall Manor' 'Throgs Neck'\n",
            " 'Todt Hill' 'West Farms' 'Silver Lake' 'Morrisania' 'Laurelton'\n",
            " 'Grymes Hill' 'Holliswood' 'Pelham Gardens' 'Belmont' 'Rosedale'\n",
            " 'Edgemere' 'New Brighton' 'Midland Beach' 'Baychester' 'Melrose'\n",
            " 'Bergen Beach' 'Richmondtown' 'Howland Hook' 'Schuylerville'\n",
            " 'Coney Island' 'New Dorp Beach' \"Prince's Bay\" 'South Beach' 'Bath Beach'\n",
            " 'Jamaica Hills' 'Oakwood' 'Castle Hill' 'Hollis' 'Douglaston' 'Huguenot'\n",
            " 'Olinville' 'Edenwald' 'Grant City' 'Westerleigh'\n",
            " 'Bay Terrace, Staten Island' 'Westchester Square' 'Little Neck'\n",
            " 'Fort Wadsworth' 'Rosebank' 'Unionport' 'Mill Basin' 'Arden Heights'\n",
            " \"Bull's Head\" 'New Dorp' 'Rossville' 'Breezy Point' 'Willowbrook']\n",
            "minimum_nights:[   1    3   10   45    2    5    4   90    7   14   60   29   30  180\n",
            "    9   31    6   15    8   26   28  200   50   17   21   11   25   13\n",
            "   35   27   18   20   40   44   65   55  120  365  122   19  240   88\n",
            "  115  150  370   16   80  181  265  300   59  185  360   56   12   70\n",
            "   39   24   32 1000  110  270   22   75  250   62   23 1250  364   74\n",
            "  198  100  500   43   91  480   53   99  160   47  999  186  366   68\n",
            "   93   87  183  299  175   98  133  354   42   33   37  225  400  105\n",
            "  184  153  134  222   58  210  275  182  114   85   36]\n",
            "room_type:['Private room' 'Entire home/apt' 'Shared room']\n",
            "calculated_host_listings_count:[  6   2   1   4   3   5   7  13  28  11   8   9  52  18  15  19  10  39\n",
            "  26  29  12  21  96  14  34  43 121  37  49  31  91  16  87  33  23  50\n",
            "  20  25 232  17  47 103  65  30  27 327  32]\n"
          ]
        }
      ]
    },
    {
      "cell_type": "code",
      "source": [
        "for x in df_in.columns:\n",
        "  cnt = df_in[x].count()\n",
        "  uni = df_in[x].nunique()\n",
        "  print(f\"{x} : {cnt}/{uni}\")"
      ],
      "metadata": {
        "colab": {
          "base_uri": "https://localhost:8080/"
        },
        "id": "kKzGDFKG8UD9",
        "outputId": "e07375b3-3ccf-403c-d0c0-adbf799910c7"
      },
      "execution_count": 10,
      "outputs": [
        {
          "output_type": "stream",
          "name": "stdout",
          "text": [
            "id : 48895/48895\n",
            "name : 48879/47905\n",
            "host_id : 48895/37457\n",
            "host_name : 48874/11452\n",
            "neighbourhood_group : 48895/5\n",
            "neighbourhood : 48895/221\n",
            "latitude : 48895/19048\n",
            "longitude : 48895/14718\n",
            "room_type : 48895/3\n",
            "price : 48895/674\n",
            "minimum_nights : 48895/109\n",
            "number_of_reviews : 48895/394\n",
            "last_review : 38843/1764\n",
            "reviews_per_month : 38843/937\n",
            "calculated_host_listings_count : 48895/47\n",
            "availability_365 : 48895/366\n"
          ]
        }
      ]
    },
    {
      "cell_type": "code",
      "source": [
        "df_in.info()"
      ],
      "metadata": {
        "id": "lXAXxOJt3LuW",
        "outputId": "657c1b2d-34bc-4aa3-d5f2-eb9de1809f6d",
        "colab": {
          "base_uri": "https://localhost:8080/"
        }
      },
      "execution_count": null,
      "outputs": [
        {
          "output_type": "stream",
          "name": "stdout",
          "text": [
            "<class 'pandas.core.frame.DataFrame'>\n",
            "RangeIndex: 48895 entries, 0 to 48894\n",
            "Data columns (total 16 columns):\n",
            " #   Column                          Non-Null Count  Dtype  \n",
            "---  ------                          --------------  -----  \n",
            " 0   id                              48895 non-null  int64  \n",
            " 1   name                            48879 non-null  object \n",
            " 2   host_id                         48895 non-null  int64  \n",
            " 3   host_name                       48874 non-null  object \n",
            " 4   neighbourhood_group             48895 non-null  object \n",
            " 5   neighbourhood                   48895 non-null  object \n",
            " 6   latitude                        48895 non-null  float64\n",
            " 7   longitude                       48895 non-null  float64\n",
            " 8   room_type                       48895 non-null  object \n",
            " 9   price                           48895 non-null  int64  \n",
            " 10  minimum_nights                  48895 non-null  int64  \n",
            " 11  number_of_reviews               48895 non-null  int64  \n",
            " 12  last_review                     38843 non-null  object \n",
            " 13  reviews_per_month               38843 non-null  float64\n",
            " 14  calculated_host_listings_count  48895 non-null  int64  \n",
            " 15  availability_365                48895 non-null  int64  \n",
            "dtypes: float64(3), int64(7), object(6)\n",
            "memory usage: 6.0+ MB\n"
          ]
        }
      ]
    },
    {
      "cell_type": "markdown",
      "source": [
        "#Categorical Variables Distribution"
      ],
      "metadata": {
        "id": "0FV3eEGWovP8"
      }
    },
    {
      "cell_type": "code",
      "source": [
        "plot = sns.catplot(x='neighbourhood_group', kind='count' ,data=df_in)\n",
        "plot.fig.suptitle('Distribution of Properties across NY neighbourhood')\n",
        "plot.set(xlabel = 'Neighbourhood Group')\n",
        "\n",
        "ax = plot.facet_axis(0,0)\n",
        "for p in ax.patches:\n",
        "    ax.annotate(format(p.get_height(), '.0f'), \n",
        "                (p.get_x() + p.get_width() / 2., p.get_height()), \n",
        "                ha = 'center', va = 'center', \n",
        "                xytext = (0, 9), \n",
        "                textcoords = 'offset points')\n",
        "\n",
        "\n",
        "plot.fig.set_size_inches(12,6)\n",
        "\n",
        "plt.show()"
      ],
      "metadata": {
        "colab": {
          "base_uri": "https://localhost:8080/",
          "height": 434
        },
        "id": "RODmo3aeo6c7",
        "outputId": "63e54e44-81fe-4a2d-d2fb-d724fc8ecd40"
      },
      "execution_count": 43,
      "outputs": [
        {
          "output_type": "display_data",
          "data": {
            "text/plain": [
              "<Figure size 864x432 with 1 Axes>"
            ],
            "image/png": "[encoded data removed]"
          },
          "metadata": {
            "needs_background": "light"
          }
        }
      ]
    },
    {
      "cell_type": "code",
      "source": [
        "plot = sns.catplot(x='room_type', kind='count' ,data=df_in)\n",
        "plot.fig.suptitle('Distribution of Properties across Room Type')\n",
        "plot.set(xlabel = 'Room Type')\n",
        "\n",
        "ax = plot.facet_axis(0,0)\n",
        "for p in ax.patches:\n",
        "    ax.annotate(format(p.get_height(), '.0f'), \n",
        "                (p.get_x() + p.get_width() / 2., p.get_height()), \n",
        "                ha = 'center', va = 'center', \n",
        "                xytext = (0, 9), \n",
        "                textcoords = 'offset points')\n",
        "\n",
        "\n",
        "plot.fig.set_size_inches(12,6)\n",
        "\n",
        "plt.show()"
      ],
      "metadata": {
        "colab": {
          "base_uri": "https://localhost:8080/",
          "height": 435
        },
        "id": "S-k7LmZxqKKv",
        "outputId": "f6bd7ff2-e9eb-418a-d363-880ee9692cb1"
      },
      "execution_count": 44,
      "outputs": [
        {
          "output_type": "display_data",
          "data": {
            "text/plain": [
              "<Figure size 864x432 with 1 Axes>"
            ],
            "image/png": "[encoded data removed]"
          },
          "metadata": {
            "needs_background": "light"
          }
        }
      ]
    },
    {
      "cell_type": "markdown",
      "source": [
        "#Numerical Variables' Distribution"
      ],
      "metadata": {
        "id": "14NKC1DCqTyr"
      }
    },
    {
      "cell_type": "code",
      "source": [
        "fig, axs = plt.subplots(3, 2, figsize=(10, 10))\n",
        "\n",
        "cols = ['price', 'minimum_nights', 'number_of_reviews', 'reviews_per_month', 'calculated_host_listings_count', 'availability_365']\n",
        "\n",
        "for idx, col in enumerate(cols):\n",
        "    row = idx // 2\n",
        "    col1 = idx % 2\n",
        "    sns.kdeplot(ax=axs[row, col1], data=df_in, x=col, shade=True)\n",
        "    axs[row, col1].set_xlabel(col)\n",
        "    axs[row, col1].set_ylabel('Frequency')\n",
        "    \n",
        "    axs[row, col1].axvline(x=df_in[col].mean(), color='red', linestyle='dashed', linewidth=1)\n",
        "    \n",
        "fig.suptitle('Frequency Distribution Matrix of Airbnb Dataframe')\n",
        "\n",
        "plt.tight_layout()\n",
        "plt.show()\n"
      ],
      "metadata": {
        "id": "OjpRvTs2-UIH",
        "outputId": "a019e569-8303-47d9-9c95-3d06e3a6e7a7",
        "colab": {
          "base_uri": "https://localhost:8080/",
          "height": 726
        }
      },
      "execution_count": 45,
      "outputs": [
        {
          "output_type": "display_data",
          "data": {
            "text/plain": [
              "<Figure size 720x720 with 6 Axes>"
            ],
            "image/png": "[encoded data removed]"
          },
          "metadata": {
            "needs_background": "light"
          }
        }
      ]
    },
    {
      "cell_type": "code",
      "source": [
        "df_in[['price','minimum_nights','number_of_reviews','reviews_per_month','calculated_host_listings_count','availability_365']].describe()"
      ],
      "metadata": {
        "colab": {
          "base_uri": "https://localhost:8080/",
          "height": 297
        },
        "id": "DvpUgc9z_Wrn",
        "outputId": "8bf6536e-2cfa-4c81-a991-ff81b76223f2"
      },
      "execution_count": 46,
      "outputs": [
        {
          "output_type": "execute_result",
          "data": {
            "text/plain": [
              "              price  minimum_nights  number_of_reviews  reviews_per_month  \\\n",
              "count  48895.000000    48895.000000       48895.000000       48895.000000   \n",
              "mean     152.720687        7.029962          23.274466           1.090910   \n",
              "std      240.154170       20.510550          44.550582           1.597283   \n",
              "min        0.000000        1.000000           0.000000           0.000000   \n",
              "25%       69.000000        1.000000           1.000000           0.040000   \n",
              "50%      106.000000        3.000000           5.000000           0.370000   \n",
              "75%      175.000000        5.000000          24.000000           1.580000   \n",
              "max    10000.000000     1250.000000         629.000000          58.500000   \n",
              "\n",
              "       calculated_host_listings_count  availability_365  \n",
              "count                    48895.000000      48895.000000  \n",
              "mean                         7.143982        112.781327  \n",
              "std                         32.952519        131.622289  \n",
              "min                          1.000000          0.000000  \n",
              "25%                          1.000000          0.000000  \n",
              "50%                          1.000000         45.000000  \n",
              "75%                          2.000000        227.000000  \n",
              "max                        327.000000        365.000000  "
            ],
            "text/html": [
              "\n",
              "  <div id=\"df-30869b9d-5462-4854-af94-56add8999df4\">\n",
              "    <div class=\"colab-df-container\">\n",
              "      <div>\n",
              "<style scoped>\n",
              "    .dataframe tbody tr th:only-of-type {\n",
              "        vertical-align: middle;\n",
              "    }\n",
              "\n",
              "    .dataframe tbody tr th {\n",
              "        vertical-align: top;\n",
              "    }\n",
              "\n",
              "    .dataframe thead th {\n",
              "        text-align: right;\n",
              "    }\n",
              "</style>\n",
              "<table border=\"1\" class=\"dataframe\">\n",
              "  <thead>\n",
              "    <tr style=\"text-align: right;\">\n",
              "      <th></th>\n",
              "      <th>price</th>\n",
              "      <th>minimum_nights</th>\n",
              "      <th>number_of_reviews</th>\n",
              "      <th>reviews_per_month</th>\n",
              "      <th>calculated_host_listings_count</th>\n",
              "      <th>availability_365</th>\n",
              "    </tr>\n",
              "  </thead>\n",
              "  <tbody>\n",
              "    <tr>\n",
              "      <th>count</th>\n",
              "      <td>48895.000000</td>\n",
              "      <td>48895.000000</td>\n",
              "      <td>48895.000000</td>\n",
              "      <td>48895.000000</td>\n",
              "      <td>48895.000000</td>\n",
              "      <td>48895.000000</td>\n",
              "    </tr>\n",
              "    <tr>\n",
              "      <th>mean</th>\n",
              "      <td>152.720687</td>\n",
              "      <td>7.029962</td>\n",
              "      <td>23.274466</td>\n",
              "      <td>1.090910</td>\n",
              "      <td>7.143982</td>\n",
              "      <td>112.781327</td>\n",
              "    </tr>\n",
              "    <tr>\n",
              "      <th>std</th>\n",
              "      <td>240.154170</td>\n",
              "      <td>20.510550</td>\n",
              "      <td>44.550582</td>\n",
              "      <td>1.597283</td>\n",
              "      <td>32.952519</td>\n",
              "      <td>131.622289</td>\n",
              "    </tr>\n",
              "    <tr>\n",
              "      <th>min</th>\n",
              "      <td>0.000000</td>\n",
              "      <td>1.000000</td>\n",
              "      <td>0.000000</td>\n",
              "      <td>0.000000</td>\n",
              "      <td>1.000000</td>\n",
              "      <td>0.000000</td>\n",
              "    </tr>\n",
              "    <tr>\n",
              "      <th>25%</th>\n",
              "      <td>69.000000</td>\n",
              "      <td>1.000000</td>\n",
              "      <td>1.000000</td>\n",
              "      <td>0.040000</td>\n",
              "      <td>1.000000</td>\n",
              "      <td>0.000000</td>\n",
              "    </tr>\n",
              "    <tr>\n",
              "      <th>50%</th>\n",
              "      <td>106.000000</td>\n",
              "      <td>3.000000</td>\n",
              "      <td>5.000000</td>\n",
              "      <td>0.370000</td>\n",
              "      <td>1.000000</td>\n",
              "      <td>45.000000</td>\n",
              "    </tr>\n",
              "    <tr>\n",
              "      <th>75%</th>\n",
              "      <td>175.000000</td>\n",
              "      <td>5.000000</td>\n",
              "      <td>24.000000</td>\n",
              "      <td>1.580000</td>\n",
              "      <td>2.000000</td>\n",
              "      <td>227.000000</td>\n",
              "    </tr>\n",
              "    <tr>\n",
              "      <th>max</th>\n",
              "      <td>10000.000000</td>\n",
              "      <td>1250.000000</td>\n",
              "      <td>629.000000</td>\n",
              "      <td>58.500000</td>\n",
              "      <td>327.000000</td>\n",
              "      <td>365.000000</td>\n",
              "    </tr>\n",
              "  </tbody>\n",
              "</table>\n",
              "</div>\n",
              "      <button class=\"colab-df-convert\" onclick=\"convertToInteractive('df-30869b9d-5462-4854-af94-56add8999df4')\"\n",
              "              title=\"Convert this dataframe to an interactive table.\"\n",
              "              style=\"display:none;\">\n",
              "        \n",
              "  <svg xmlns=\"http://www.w3.org/2000/svg\" height=\"24px\"viewBox=\"0 0 24 24\"\n",
              "       width=\"24px\">\n",
              "    <path d=\"M0 0h24v24H0V0z\" fill=\"none\"/>\n",
              "    <path d=\"M18.56 5.44l.94 2.06.94-2.06 2.06-.94-2.06-.94-.94-2.06-.94 2.06-2.06.94zm-11 1L8.5 8.5l.94-2.06 2.06-.94-2.06-.94L8.5 2.5l-.94 2.06-2.06.94zm10 10l.94 2.06.94-2.06 2.06-.94-2.06-.94-.94-2.06-.94 2.06-2.06.94z\"/><path d=\"M17.41 7.96l-1.37-1.37c-.4-.4-.92-.59-1.43-.59-.52 0-1.04.2-1.43.59L10.3 9.45l-7.72 7.72c-.78.78-.78 2.05 0 2.83L4 21.41c.39.39.9.59 1.41.59.51 0 1.02-.2 1.41-.59l7.78-7.78 2.81-2.81c.8-.78.8-2.07 0-2.86zM5.41 20L4 18.59l7.72-7.72 1.47 1.35L5.41 20z\"/>\n",
              "  </svg>\n",
              "      </button>\n",
              "      \n",
              "  <style>\n",
              "    .colab-df-container {\n",
              "      display:flex;\n",
              "      flex-wrap:wrap;\n",
              "      gap: 12px;\n",
              "    }\n",
              "\n",
              "    .colab-df-convert {\n",
              "      background-color: #E8F0FE;\n",
              "      border: none;\n",
              "      border-radius: 50%;\n",
              "      cursor: pointer;\n",
              "      display: none;\n",
              "      fill: #1967D2;\n",
              "      height: 32px;\n",
              "      padding: 0 0 0 0;\n",
              "      width: 32px;\n",
              "    }\n",
              "\n",
              "    .colab-df-convert:hover {\n",
              "      background-color: #E2EBFA;\n",
              "      box-shadow: 0px 1px 2px rgba(60, 64, 67, 0.3), 0px 1px 3px 1px rgba(60, 64, 67, 0.15);\n",
              "      fill: #174EA6;\n",
              "    }\n",
              "\n",
              "    [theme=dark] .colab-df-convert {\n",
              "      background-color: #3B4455;\n",
              "      fill: #D2E3FC;\n",
              "    }\n",
              "\n",
              "    [theme=dark] .colab-df-convert:hover {\n",
              "      background-color: #434B5C;\n",
              "      box-shadow: 0px 1px 3px 1px rgba(0, 0, 0, 0.15);\n",
              "      filter: drop-shadow(0px 1px 2px rgba(0, 0, 0, 0.3));\n",
              "      fill: #FFFFFF;\n",
              "    }\n",
              "  </style>\n",
              "\n",
              "      <script>\n",
              "        const buttonEl =\n",
              "          document.querySelector('#df-30869b9d-5462-4854-af94-56add8999df4 button.colab-df-convert');\n",
              "        buttonEl.style.display =\n",
              "          google.colab.kernel.accessAllowed ? 'block' : 'none';\n",
              "\n",
              "        async function convertToInteractive(key) {\n",
              "          const element = document.querySelector('#df-30869b9d-5462-4854-af94-56add8999df4');\n",
              "          const dataTable =\n",
              "            await google.colab.kernel.invokeFunction('convertToInteractive',\n",
              "                                                     [key], {});\n",
              "          if (!dataTable) return;\n",
              "\n",
              "          const docLinkHtml = 'Like what you see? Visit the ' +\n",
              "            '<a target=\"_blank\" href=https://colab.research.google.com/notebooks/data_table.ipynb>data table notebook</a>'\n",
              "            + ' to learn more about interactive tables.';\n",
              "          element.innerHTML = '';\n",
              "          dataTable['output_type'] = 'display_data';\n",
              "          await google.colab.output.renderOutput(dataTable, element);\n",
              "          const docLink = document.createElement('div');\n",
              "          docLink.innerHTML = docLinkHtml;\n",
              "          element.appendChild(docLink);\n",
              "        }\n",
              "      </script>\n",
              "    </div>\n",
              "  </div>\n",
              "  "
            ]
          },
          "metadata": {},
          "execution_count": 46
        }
      ]
    },
    {
      "cell_type": "code",
      "source": [
        "df_in['reviews_per_month'] = df_in['reviews_per_month'].fillna(0)"
      ],
      "metadata": {
        "id": "9bzm7bYbVjTU"
      },
      "execution_count": 47,
      "outputs": []
    },
    {
      "cell_type": "code",
      "source": [
        "df_in['last_review'] = pd.to_datetime(df_in['last_review'])"
      ],
      "metadata": {
        "id": "y5FyOi8eWMqb"
      },
      "execution_count": 48,
      "outputs": []
    },
    {
      "cell_type": "code",
      "source": [
        "old = min(df_in['last_review'])\n",
        "df_in['last_review'] = df_in['last_review'].fillna(old)\n",
        "df_in['days_since_review'] = df_in['last_review'].apply(lambda x: x.toordinal() - old.toordinal())"
      ],
      "metadata": {
        "id": "xjEQoCCmW7XN"
      },
      "execution_count": 49,
      "outputs": []
    },
    {
      "cell_type": "code",
      "source": [
        "df_in.price.describe()"
      ],
      "metadata": {
        "colab": {
          "base_uri": "https://localhost:8080/"
        },
        "id": "ragaKE8eYkK_",
        "outputId": "9573b6cf-648d-4ae4-e430-824f583271da"
      },
      "execution_count": 50,
      "outputs": [
        {
          "output_type": "execute_result",
          "data": {
            "text/plain": [
              "count    48895.000000\n",
              "mean       152.720687\n",
              "std        240.154170\n",
              "min          0.000000\n",
              "25%         69.000000\n",
              "50%        106.000000\n",
              "75%        175.000000\n",
              "max      10000.000000\n",
              "Name: price, dtype: float64"
            ]
          },
          "metadata": {},
          "execution_count": 50
        }
      ]
    },
    {
      "cell_type": "code",
      "source": [
        "#only 11 rows with no price\n",
        "(df_in.price == 0).astype(int).sum()"
      ],
      "metadata": {
        "colab": {
          "base_uri": "https://localhost:8080/"
        },
        "id": "03GwP2WVZvi_",
        "outputId": "d2edebeb-2bb1-4bb8-bc7d-89ba8425c236"
      },
      "execution_count": 51,
      "outputs": [
        {
          "output_type": "execute_result",
          "data": {
            "text/plain": [
              "11"
            ]
          },
          "metadata": {},
          "execution_count": 51
        }
      ]
    },
    {
      "cell_type": "code",
      "source": [
        "fig, axes = plt.subplots(1,2, figsize=(21,6))\n",
        "sns.kdeplot(np.sqrt(df_in['price']), ax =axes[0], shade = 'True')\n",
        "axes[0].axvline(x=(np.sqrt(df_in['price'])).mean(), color='red', linestyle='dashed', linewidth=1)\n",
        "axes[0].set_xlabel('Square Root Transformation')\n",
        "\n",
        "sns.kdeplot(np.log1p(df_in['price']), ax = axes[1], shade = 'True')\n",
        "axes[1].axvline(x=(np.log1p(df_in['price'])).mean(), color='red', linestyle='dashed', linewidth=1)\n",
        "axes[1].set_xlabel('Log+1 Transformation')\n",
        "\n",
        "fig.suptitle('Frequency Distribution of transformation with sqrt and log1p functions on Price')"
      ],
      "metadata": {
        "colab": {
          "base_uri": "https://localhost:8080/",
          "height": 448
        },
        "id": "rs_XAYntYIeE",
        "outputId": "a8d49f63-7e34-4239-d798-c1ac23dbb2af"
      },
      "execution_count": 55,
      "outputs": [
        {
          "output_type": "execute_result",
          "data": {
            "text/plain": [
              "Text(0.5, 0.98, 'Frequency Distribution of transformation with sqrt and log1p functions on Price')"
            ]
          },
          "metadata": {},
          "execution_count": 55
        },
        {
          "output_type": "display_data",
          "data": {
            "text/plain": [
              "<Figure size 1512x432 with 2 Axes>"
            ],
            "image/png": "[encoded data removed]"
          },
          "metadata": {
            "needs_background": "light"
          }
        }
      ]
    },
    {
      "cell_type": "code",
      "source": [
        "df_in.minimum_nights.describe()"
      ],
      "metadata": {
        "colab": {
          "base_uri": "https://localhost:8080/"
        },
        "id": "3Bg35M40aStP",
        "outputId": "f20fa9f5-bd79-4850-b986-f81dc50d35ad"
      },
      "execution_count": 53,
      "outputs": [
        {
          "output_type": "execute_result",
          "data": {
            "text/plain": [
              "count    48895.000000\n",
              "mean         7.029962\n",
              "std         20.510550\n",
              "min          1.000000\n",
              "25%          1.000000\n",
              "50%          3.000000\n",
              "75%          5.000000\n",
              "max       1250.000000\n",
              "Name: minimum_nights, dtype: float64"
            ]
          },
          "metadata": {},
          "execution_count": 53
        }
      ]
    },
    {
      "cell_type": "code",
      "source": [
        "fig, axes = plt.subplots(1,2, figsize=(21,6))\n",
        "sns.kdeplot(np.sqrt(df_in['minimum_nights']), ax =axes[0], shade = True)\n",
        "axes[0].axvline(x=(np.sqrt(df_in['minimum_nights'])).mean(), color='red', linestyle='dashed', linewidth=1)\n",
        "axes[0].set_xlabel('Square Root Transformation')\n",
        "\n",
        "sns.kdeplot(np.log1p(df_in['minimum_nights']), ax = axes[1], shade = True)\n",
        "axes[1].axvline(x=(np.log1p(df_in['minimum_nights'])).mean(), color='red', linestyle='dashed', linewidth=1)\n",
        "axes[1].set_xlabel('Log Root Transformation')\n",
        "\n",
        "fig.suptitle('Frequency Distribution of transformation with log1p function on minimum_nights')"
      ],
      "metadata": {
        "colab": {
          "base_uri": "https://localhost:8080/",
          "height": 448
        },
        "id": "mFtn5FWbaWoi",
        "outputId": "601ba758-df5a-4502-e22a-1ff315640bba"
      },
      "execution_count": 57,
      "outputs": [
        {
          "output_type": "execute_result",
          "data": {
            "text/plain": [
              "Text(0.5, 0.98, 'Frequency Distribution of transformation with log1p function on minimum_nights')"
            ]
          },
          "metadata": {},
          "execution_count": 57
        },
        {
          "output_type": "display_data",
          "data": {
            "text/plain": [
              "<Figure size 1512x432 with 2 Axes>"
            ],
            "image/png": "[encoded data removed]"
          },
          "metadata": {
            "needs_background": "light"
          }
        }
      ]
    },
    {
      "cell_type": "code",
      "source": [
        "df_in['price'] = np.log1p(df_in['price'])"
      ],
      "metadata": {
        "id": "5bgFLy5X1BK4"
      },
      "execution_count": 58,
      "outputs": []
    },
    {
      "cell_type": "code",
      "source": [
        "df_in['minimum_nights_log'] = np.log1p(df_in['minimum_nights'])"
      ],
      "metadata": {
        "id": "XzwyV-H7WbGR"
      },
      "execution_count": 59,
      "outputs": []
    },
    {
      "cell_type": "code",
      "source": [
        "df_in.reviews_per_month.describe()"
      ],
      "metadata": {
        "colab": {
          "base_uri": "https://localhost:8080/"
        },
        "id": "PFzpvjtPWwcF",
        "outputId": "ec563529-48a2-45ef-d68e-4455662c8b79"
      },
      "execution_count": 60,
      "outputs": [
        {
          "output_type": "execute_result",
          "data": {
            "text/plain": [
              "count    48895.000000\n",
              "mean         1.090910\n",
              "std          1.597283\n",
              "min          0.000000\n",
              "25%          0.040000\n",
              "50%          0.370000\n",
              "75%          1.580000\n",
              "max         58.500000\n",
              "Name: reviews_per_month, dtype: float64"
            ]
          },
          "metadata": {},
          "execution_count": 60
        }
      ]
    },
    {
      "cell_type": "code",
      "source": [
        "\n",
        "plot = sns.kdeplot((df_in['reviews_per_month']), shade = True)\n",
        "\n",
        "plot.set(title = 'Frequency distribution of the reviews_per_month metric')\n",
        "\n",
        "plot.set(xlabel = 'Reviews per month')\n",
        "\n",
        "plt.show()"
      ],
      "metadata": {
        "colab": {
          "base_uri": "https://localhost:8080/",
          "height": 295
        },
        "id": "AYJC8xDJW276",
        "outputId": "077d844f-663a-4b5d-c5d9-f4f77844e67b"
      },
      "execution_count": 61,
      "outputs": [
        {
          "output_type": "display_data",
          "data": {
            "text/plain": [
              "<Figure size 432x288 with 1 Axes>"
            ],
            "image/png": "[encoded data removed]"
          },
          "metadata": {
            "needs_background": "light"
          }
        }
      ]
    },
    {
      "cell_type": "code",
      "source": [
        "df_in['reviews_per_month'] = df_in[df_in['reviews_per_month'] < 15]['reviews_per_month']"
      ],
      "metadata": {
        "id": "demOelkRXH0G"
      },
      "execution_count": 62,
      "outputs": []
    },
    {
      "cell_type": "code",
      "source": [
        "df_in['year_avail'] = df_in['availability_365']>365\n",
        "\n",
        "df_in['no_reviews'] = df_in['reviews_per_month']==0"
      ],
      "metadata": {
        "id": "Ld0TdRvzXQhv"
      },
      "execution_count": 63,
      "outputs": []
    },
    {
      "cell_type": "code",
      "source": [
        "df_in.columns"
      ],
      "metadata": {
        "colab": {
          "base_uri": "https://localhost:8080/"
        },
        "id": "L83IVnYaZXam",
        "outputId": "8315705f-d3d3-424b-a987-9fdcaa334da0"
      },
      "execution_count": 64,
      "outputs": [
        {
          "output_type": "execute_result",
          "data": {
            "text/plain": [
              "Index(['id', 'name', 'host_id', 'host_name', 'neighbourhood_group',\n",
              "       'neighbourhood', 'latitude', 'longitude', 'room_type', 'price',\n",
              "       'minimum_nights', 'number_of_reviews', 'last_review',\n",
              "       'reviews_per_month', 'calculated_host_listings_count',\n",
              "       'availability_365', 'days_since_review', 'minimum_nights_log',\n",
              "       'year_avail', 'no_reviews'],\n",
              "      dtype='object')"
            ]
          },
          "metadata": {},
          "execution_count": 64
        }
      ]
    },
    {
      "cell_type": "code",
      "source": [
        "df_out = df_in.drop(columns=['name', 'host_name','last_review','minimum_nights'])"
      ],
      "metadata": {
        "id": "lzqRLMQfijxH"
      },
      "execution_count": 67,
      "outputs": []
    },
    {
      "cell_type": "code",
      "source": [
        "df_out.columns"
      ],
      "metadata": {
        "colab": {
          "base_uri": "https://localhost:8080/"
        },
        "id": "GDXj-zvCe101",
        "outputId": "94c9dc4f-82fc-45a8-b688-12f25c8f5b72"
      },
      "execution_count": 68,
      "outputs": [
        {
          "output_type": "execute_result",
          "data": {
            "text/plain": [
              "Index(['id', 'host_id', 'neighbourhood_group', 'neighbourhood', 'latitude',\n",
              "       'longitude', 'room_type', 'price', 'number_of_reviews',\n",
              "       'reviews_per_month', 'calculated_host_listings_count',\n",
              "       'availability_365', 'days_since_review', 'minimum_nights_log',\n",
              "       'year_avail', 'no_reviews'],\n",
              "      dtype='object')"
            ]
          },
          "metadata": {},
          "execution_count": 68
        }
      ]
    },
    {
      "cell_type": "code",
      "source": [
        "df_out['reviews_per_month'] = df_out['reviews_per_month'].fillna(0)"
      ],
      "metadata": {
        "id": "Mnlkx73NuknI"
      },
      "execution_count": 69,
      "outputs": []
    },
    {
      "cell_type": "code",
      "source": [
        "corrmatrix = df_out.corr()\n",
        "f, ax = plt.subplots(figsize=(15,12))\n",
        "sns.heatmap(corrmatrix, vmax=0.8, square=True)\n",
        "sns.set(font_scale=0.8)"
      ],
      "metadata": {
        "colab": {
          "base_uri": "https://localhost:8080/",
          "height": 846
        },
        "id": "FUzKYOsJY6B5",
        "outputId": "777591b3-dfa9-45d2-f666-da738dc15a3e"
      },
      "execution_count": 70,
      "outputs": [
        {
          "output_type": "display_data",
          "data": {
            "text/plain": [
              "<Figure size 1080x864 with 2 Axes>"
            ],
            "image/png": "[encoded data removed]"
          },
          "metadata": {
            "needs_background": "light"
          }
        }
      ]
    },
    {
      "cell_type": "code",
      "source": [
        "df_out.isnull().sum()"
      ],
      "metadata": {
        "colab": {
          "base_uri": "https://localhost:8080/"
        },
        "id": "rL4FdcZWuntA",
        "outputId": "c36c4452-4d86-4629-d69c-b9eab67bd3f1"
      },
      "execution_count": 71,
      "outputs": [
        {
          "output_type": "execute_result",
          "data": {
            "text/plain": [
              "id                                0\n",
              "host_id                           0\n",
              "neighbourhood_group               0\n",
              "neighbourhood                     0\n",
              "latitude                          0\n",
              "longitude                         0\n",
              "room_type                         0\n",
              "price                             0\n",
              "number_of_reviews                 0\n",
              "reviews_per_month                 0\n",
              "calculated_host_listings_count    0\n",
              "availability_365                  0\n",
              "days_since_review                 0\n",
              "minimum_nights_log                0\n",
              "year_avail                        0\n",
              "no_reviews                        0\n",
              "dtype: int64"
            ]
          },
          "metadata": {},
          "execution_count": 71
        }
      ]
    },
    {
      "cell_type": "markdown",
      "source": [
        "#Feature Engineering"
      ],
      "metadata": {
        "id": "bwP5Xqugqh8b"
      }
    },
    {
      "cell_type": "code",
      "source": [
        "categorical_features = df_out.select_dtypes(include=['object'])"
      ],
      "metadata": {
        "id": "rblpD1zip-Rv"
      },
      "execution_count": 72,
      "outputs": []
    },
    {
      "cell_type": "code",
      "source": [
        "categorical_features_one_hot = pd.get_dummies(categorical_features)\n",
        "categorical_features_one_hot.head()"
      ],
      "metadata": {
        "colab": {
          "base_uri": "https://localhost:8080/",
          "height": 314
        },
        "id": "vcAn_YDTp-MM",
        "outputId": "2a4824c4-2842-4c43-ac67-a77ce3d9e2f2"
      },
      "execution_count": 73,
      "outputs": [
        {
          "output_type": "execute_result",
          "data": {
            "text/plain": [
              "   neighbourhood_group_Bronx  neighbourhood_group_Brooklyn  \\\n",
              "0                          0                             1   \n",
              "1                          0                             0   \n",
              "2                          0                             0   \n",
              "3                          0                             1   \n",
              "4                          0                             0   \n",
              "\n",
              "   neighbourhood_group_Manhattan  neighbourhood_group_Queens  \\\n",
              "0                              0                           0   \n",
              "1                              1                           0   \n",
              "2                              1                           0   \n",
              "3                              0                           0   \n",
              "4                              1                           0   \n",
              "\n",
              "   neighbourhood_group_Staten Island  neighbourhood_Allerton  \\\n",
              "0                                  0                       0   \n",
              "1                                  0                       0   \n",
              "2                                  0                       0   \n",
              "3                                  0                       0   \n",
              "4                                  0                       0   \n",
              "\n",
              "   neighbourhood_Arden Heights  neighbourhood_Arrochar  neighbourhood_Arverne  \\\n",
              "0                            0                       0                      0   \n",
              "1                            0                       0                      0   \n",
              "2                            0                       0                      0   \n",
              "3                            0                       0                      0   \n",
              "4                            0                       0                      0   \n",
              "\n",
              "   neighbourhood_Astoria  ...  neighbourhood_Williamsburg  \\\n",
              "0                      0  ...                           0   \n",
              "1                      0  ...                           0   \n",
              "2                      0  ...                           0   \n",
              "3                      0  ...                           0   \n",
              "4                      0  ...                           0   \n",
              "\n",
              "   neighbourhood_Willowbrook  neighbourhood_Windsor Terrace  \\\n",
              "0                          0                              0   \n",
              "1                          0                              0   \n",
              "2                          0                              0   \n",
              "3                          0                              0   \n",
              "4                          0                              0   \n",
              "\n",
              "   neighbourhood_Woodhaven  neighbourhood_Woodlawn  neighbourhood_Woodrow  \\\n",
              "0                        0                       0                      0   \n",
              "1                        0                       0                      0   \n",
              "2                        0                       0                      0   \n",
              "3                        0                       0                      0   \n",
              "4                        0                       0                      0   \n",
              "\n",
              "   neighbourhood_Woodside  room_type_Entire home/apt  room_type_Private room  \\\n",
              "0                       0                          0                       1   \n",
              "1                       0                          1                       0   \n",
              "2                       0                          0                       1   \n",
              "3                       0                          1                       0   \n",
              "4                       0                          1                       0   \n",
              "\n",
              "   room_type_Shared room  \n",
              "0                      0  \n",
              "1                      0  \n",
              "2                      0  \n",
              "3                      0  \n",
              "4                      0  \n",
              "\n",
              "[5 rows x 229 columns]"
            ],
            "text/html": [
              "\n",
              "  <div id=\"df-ec228eee-9188-41cb-a0ec-45bd8bdd4e81\">\n",
              "    <div class=\"colab-df-container\">\n",
              "      <div>\n",
              "<style scoped>\n",
              "    .dataframe tbody tr th:only-of-type {\n",
              "        vertical-align: middle;\n",
              "    }\n",
              "\n",
              "    .dataframe tbody tr th {\n",
              "        vertical-align: top;\n",
              "    }\n",
              "\n",
              "    .dataframe thead th {\n",
              "        text-align: right;\n",
              "    }\n",
              "</style>\n",
              "<table border=\"1\" class=\"dataframe\">\n",
              "  <thead>\n",
              "    <tr style=\"text-align: right;\">\n",
              "      <th></th>\n",
              "      <th>neighbourhood_group_Bronx</th>\n",
              "      <th>neighbourhood_group_Brooklyn</th>\n",
              "      <th>neighbourhood_group_Manhattan</th>\n",
              "      <th>neighbourhood_group_Queens</th>\n",
              "      <th>neighbourhood_group_Staten Island</th>\n",
              "      <th>neighbourhood_Allerton</th>\n",
              "      <th>neighbourhood_Arden Heights</th>\n",
              "      <th>neighbourhood_Arrochar</th>\n",
              "      <th>neighbourhood_Arverne</th>\n",
              "      <th>neighbourhood_Astoria</th>\n",
              "      <th>...</th>\n",
              "      <th>neighbourhood_Williamsburg</th>\n",
              "      <th>neighbourhood_Willowbrook</th>\n",
              "      <th>neighbourhood_Windsor Terrace</th>\n",
              "      <th>neighbourhood_Woodhaven</th>\n",
              "      <th>neighbourhood_Woodlawn</th>\n",
              "      <th>neighbourhood_Woodrow</th>\n",
              "      <th>neighbourhood_Woodside</th>\n",
              "      <th>room_type_Entire home/apt</th>\n",
              "      <th>room_type_Private room</th>\n",
              "      <th>room_type_Shared room</th>\n",
              "    </tr>\n",
              "  </thead>\n",
              "  <tbody>\n",
              "    <tr>\n",
              "      <th>0</th>\n",
              "      <td>0</td>\n",
              "      <td>1</td>\n",
              "      <td>0</td>\n",
              "      <td>0</td>\n",
              "      <td>0</td>\n",
              "      <td>0</td>\n",
              "      <td>0</td>\n",
              "      <td>0</td>\n",
              "      <td>0</td>\n",
              "      <td>0</td>\n",
              "      <td>...</td>\n",
              "      <td>0</td>\n",
              "      <td>0</td>\n",
              "      <td>0</td>\n",
              "      <td>0</td>\n",
              "      <td>0</td>\n",
              "      <td>0</td>\n",
              "      <td>0</td>\n",
              "      <td>0</td>\n",
              "      <td>1</td>\n",
              "      <td>0</td>\n",
              "    </tr>\n",
              "    <tr>\n",
              "      <th>1</th>\n",
              "      <td>0</td>\n",
              "      <td>0</td>\n",
              "      <td>1</td>\n",
              "      <td>0</td>\n",
              "      <td>0</td>\n",
              "      <td>0</td>\n",
              "      <td>0</td>\n",
              "      <td>0</td>\n",
              "      <td>0</td>\n",
              "      <td>0</td>\n",
              "      <td>...</td>\n",
              "      <td>0</td>\n",
              "      <td>0</td>\n",
              "      <td>0</td>\n",
              "      <td>0</td>\n",
              "      <td>0</td>\n",
              "      <td>0</td>\n",
              "      <td>0</td>\n",
              "      <td>1</td>\n",
              "      <td>0</td>\n",
              "      <td>0</td>\n",
              "    </tr>\n",
              "    <tr>\n",
              "      <th>2</th>\n",
              "      <td>0</td>\n",
              "      <td>0</td>\n",
              "      <td>1</td>\n",
              "      <td>0</td>\n",
              "      <td>0</td>\n",
              "      <td>0</td>\n",
              "      <td>0</td>\n",
              "      <td>0</td>\n",
              "      <td>0</td>\n",
              "      <td>0</td>\n",
              "      <td>...</td>\n",
              "      <td>0</td>\n",
              "      <td>0</td>\n",
              "      <td>0</td>\n",
              "      <td>0</td>\n",
              "      <td>0</td>\n",
              "      <td>0</td>\n",
              "      <td>0</td>\n",
              "      <td>0</td>\n",
              "      <td>1</td>\n",
              "      <td>0</td>\n",
              "    </tr>\n",
              "    <tr>\n",
              "      <th>3</th>\n",
              "      <td>0</td>\n",
              "      <td>1</td>\n",
              "      <td>0</td>\n",
              "      <td>0</td>\n",
              "      <td>0</td>\n",
              "      <td>0</td>\n",
              "      <td>0</td>\n",
              "      <td>0</td>\n",
              "      <td>0</td>\n",
              "      <td>0</td>\n",
              "      <td>...</td>\n",
              "      <td>0</td>\n",
              "      <td>0</td>\n",
              "      <td>0</td>\n",
              "      <td>0</td>\n",
              "      <td>0</td>\n",
              "      <td>0</td>\n",
              "      <td>0</td>\n",
              "      <td>1</td>\n",
              "      <td>0</td>\n",
              "      <td>0</td>\n",
              "    </tr>\n",
              "    <tr>\n",
              "      <th>4</th>\n",
              "      <td>0</td>\n",
              "      <td>0</td>\n",
              "      <td>1</td>\n",
              "      <td>0</td>\n",
              "      <td>0</td>\n",
              "      <td>0</td>\n",
              "      <td>0</td>\n",
              "      <td>0</td>\n",
              "      <td>0</td>\n",
              "      <td>0</td>\n",
              "      <td>...</td>\n",
              "      <td>0</td>\n",
              "      <td>0</td>\n",
              "      <td>0</td>\n",
              "      <td>0</td>\n",
              "      <td>0</td>\n",
              "      <td>0</td>\n",
              "      <td>0</td>\n",
              "      <td>1</td>\n",
              "      <td>0</td>\n",
              "      <td>0</td>\n",
              "    </tr>\n",
              "  </tbody>\n",
              "</table>\n",
              "<p>5 rows × 229 columns</p>\n",
              "</div>\n",
              "      <button class=\"colab-df-convert\" onclick=\"convertToInteractive('df-ec228eee-9188-41cb-a0ec-45bd8bdd4e81')\"\n",
              "              title=\"Convert this dataframe to an interactive table.\"\n",
              "              style=\"display:none;\">\n",
              "        \n",
              "  <svg xmlns=\"http://www.w3.org/2000/svg\" height=\"24px\"viewBox=\"0 0 24 24\"\n",
              "       width=\"24px\">\n",
              "    <path d=\"M0 0h24v24H0V0z\" fill=\"none\"/>\n",
              "    <path d=\"M18.56 5.44l.94 2.06.94-2.06 2.06-.94-2.06-.94-.94-2.06-.94 2.06-2.06.94zm-11 1L8.5 8.5l.94-2.06 2.06-.94-2.06-.94L8.5 2.5l-.94 2.06-2.06.94zm10 10l.94 2.06.94-2.06 2.06-.94-2.06-.94-.94-2.06-.94 2.06-2.06.94z\"/><path d=\"M17.41 7.96l-1.37-1.37c-.4-.4-.92-.59-1.43-.59-.52 0-1.04.2-1.43.59L10.3 9.45l-7.72 7.72c-.78.78-.78 2.05 0 2.83L4 21.41c.39.39.9.59 1.41.59.51 0 1.02-.2 1.41-.59l7.78-7.78 2.81-2.81c.8-.78.8-2.07 0-2.86zM5.41 20L4 18.59l7.72-7.72 1.47 1.35L5.41 20z\"/>\n",
              "  </svg>\n",
              "      </button>\n",
              "      \n",
              "  <style>\n",
              "    .colab-df-container {\n",
              "      display:flex;\n",
              "      flex-wrap:wrap;\n",
              "      gap: 12px;\n",
              "    }\n",
              "\n",
              "    .colab-df-convert {\n",
              "      background-color: #E8F0FE;\n",
              "      border: none;\n",
              "      border-radius: 50%;\n",
              "      cursor: pointer;\n",
              "      display: none;\n",
              "      fill: #1967D2;\n",
              "      height: 32px;\n",
              "      padding: 0 0 0 0;\n",
              "      width: 32px;\n",
              "    }\n",
              "\n",
              "    .colab-df-convert:hover {\n",
              "      background-color: #E2EBFA;\n",
              "      box-shadow: 0px 1px 2px rgba(60, 64, 67, 0.3), 0px 1px 3px 1px rgba(60, 64, 67, 0.15);\n",
              "      fill: #174EA6;\n",
              "    }\n",
              "\n",
              "    [theme=dark] .colab-df-convert {\n",
              "      background-color: #3B4455;\n",
              "      fill: #D2E3FC;\n",
              "    }\n",
              "\n",
              "    [theme=dark] .colab-df-convert:hover {\n",
              "      background-color: #434B5C;\n",
              "      box-shadow: 0px 1px 3px 1px rgba(0, 0, 0, 0.15);\n",
              "      filter: drop-shadow(0px 1px 2px rgba(0, 0, 0, 0.3));\n",
              "      fill: #FFFFFF;\n",
              "    }\n",
              "  </style>\n",
              "\n",
              "      <script>\n",
              "        const buttonEl =\n",
              "          document.querySelector('#df-ec228eee-9188-41cb-a0ec-45bd8bdd4e81 button.colab-df-convert');\n",
              "        buttonEl.style.display =\n",
              "          google.colab.kernel.accessAllowed ? 'block' : 'none';\n",
              "\n",
              "        async function convertToInteractive(key) {\n",
              "          const element = document.querySelector('#df-ec228eee-9188-41cb-a0ec-45bd8bdd4e81');\n",
              "          const dataTable =\n",
              "            await google.colab.kernel.invokeFunction('convertToInteractive',\n",
              "                                                     [key], {});\n",
              "          if (!dataTable) return;\n",
              "\n",
              "          const docLinkHtml = 'Like what you see? Visit the ' +\n",
              "            '<a target=\"_blank\" href=https://colab.research.google.com/notebooks/data_table.ipynb>data table notebook</a>'\n",
              "            + ' to learn more about interactive tables.';\n",
              "          element.innerHTML = '';\n",
              "          dataTable['output_type'] = 'display_data';\n",
              "          await google.colab.output.renderOutput(dataTable, element);\n",
              "          const docLink = document.createElement('div');\n",
              "          docLink.innerHTML = docLinkHtml;\n",
              "          element.appendChild(docLink);\n",
              "        }\n",
              "      </script>\n",
              "    </div>\n",
              "  </div>\n",
              "  "
            ]
          },
          "metadata": {},
          "execution_count": 73
        }
      ]
    },
    {
      "cell_type": "code",
      "source": [
        "numerical_features =  df_out.select_dtypes(exclude=['object'])\n",
        "price_value = numerical_features.price\n",
        "numerical_features = numerical_features.drop(['price'], axis=1)\n",
        "#print('Numerical features: {}'.format(numerical_features.shape))"
      ],
      "metadata": {
        "id": "Gz4-WPCGqQuO"
      },
      "execution_count": 74,
      "outputs": []
    },
    {
      "cell_type": "code",
      "source": [
        "final_df = pd.concat([numerical_features, categorical_features_one_hot], axis=1)"
      ],
      "metadata": {
        "id": "3fBVDY6iquHf"
      },
      "execution_count": 75,
      "outputs": []
    },
    {
      "cell_type": "code",
      "source": [
        "final_df.head(10)"
      ],
      "metadata": {
        "colab": {
          "base_uri": "https://localhost:8080/",
          "height": 469
        },
        "id": "A6FlNbX2qzyo",
        "outputId": "1b853408-329d-4362-aa13-d2dfbf688abf"
      },
      "execution_count": null,
      "outputs": [
        {
          "output_type": "execute_result",
          "data": {
            "text/plain": [
              "     id  host_id  latitude  longitude  minimum_nights  number_of_reviews  \\\n",
              "0  2539     2787  40.64749  -73.97237               1                  9   \n",
              "1  2595     2845  40.75362  -73.98377               1                 45   \n",
              "2  3647     4632  40.80902  -73.94190               3                  0   \n",
              "3  3831     4869  40.68514  -73.95976               1                270   \n",
              "4  5022     7192  40.79851  -73.94399              10                  9   \n",
              "5  5099     7322  40.74767  -73.97500               3                 74   \n",
              "6  5121     7356  40.68688  -73.95596              45                 49   \n",
              "7  5178     8967  40.76489  -73.98493               2                430   \n",
              "8  5203     7490  40.80178  -73.96723               2                118   \n",
              "9  5238     7549  40.71344  -73.99037               1                160   \n",
              "\n",
              "   reviews_per_month  calculated_host_listings_count  availability_365  \\\n",
              "0               0.21                               6               365   \n",
              "1               0.38                               2               355   \n",
              "2               0.00                               1               365   \n",
              "3               4.64                               1               194   \n",
              "4               0.10                               1                 0   \n",
              "5               0.59                               1               129   \n",
              "6               0.40                               1                 0   \n",
              "7               3.47                               1               220   \n",
              "8               0.99                               1                 0   \n",
              "9               1.33                               4               188   \n",
              "\n",
              "   days_since_review  ...  neighbourhood_Williamsburg  \\\n",
              "0               2762  ...                           0   \n",
              "1               2976  ...                           0   \n",
              "2                  0  ...                           0   \n",
              "3               3021  ...                           0   \n",
              "4               2793  ...                           0   \n",
              "5               3008  ...                           0   \n",
              "6               2383  ...                           0   \n",
              "7               3010  ...                           0   \n",
              "8               2307  ...                           0   \n",
              "9               2995  ...                           0   \n",
              "\n",
              "   neighbourhood_Willowbrook  neighbourhood_Windsor Terrace  \\\n",
              "0                          0                              0   \n",
              "1                          0                              0   \n",
              "2                          0                              0   \n",
              "3                          0                              0   \n",
              "4                          0                              0   \n",
              "5                          0                              0   \n",
              "6                          0                              0   \n",
              "7                          0                              0   \n",
              "8                          0                              0   \n",
              "9                          0                              0   \n",
              "\n",
              "   neighbourhood_Woodhaven  neighbourhood_Woodlawn  neighbourhood_Woodrow  \\\n",
              "0                        0                       0                      0   \n",
              "1                        0                       0                      0   \n",
              "2                        0                       0                      0   \n",
              "3                        0                       0                      0   \n",
              "4                        0                       0                      0   \n",
              "5                        0                       0                      0   \n",
              "6                        0                       0                      0   \n",
              "7                        0                       0                      0   \n",
              "8                        0                       0                      0   \n",
              "9                        0                       0                      0   \n",
              "\n",
              "   neighbourhood_Woodside  room_type_Entire home/apt  room_type_Private room  \\\n",
              "0                       0                          0                       1   \n",
              "1                       0                          1                       0   \n",
              "2                       0                          0                       1   \n",
              "3                       0                          1                       0   \n",
              "4                       0                          1                       0   \n",
              "5                       0                          1                       0   \n",
              "6                       0                          0                       1   \n",
              "7                       0                          0                       1   \n",
              "8                       0                          0                       1   \n",
              "9                       0                          1                       0   \n",
              "\n",
              "   room_type_Shared room  \n",
              "0                      0  \n",
              "1                      0  \n",
              "2                      0  \n",
              "3                      0  \n",
              "4                      0  \n",
              "5                      0  \n",
              "6                      0  \n",
              "7                      0  \n",
              "8                      0  \n",
              "9                      0  \n",
              "\n",
              "[10 rows x 242 columns]"
            ],
            "text/html": [
              "\n",
              "  <div id=\"df-70cd3c03-e0ae-4ca6-ae3c-1af5f1ec43d2\">\n",
              "    <div class=\"colab-df-container\">\n",
              "      <div>\n",
              "<style scoped>\n",
              "    .dataframe tbody tr th:only-of-type {\n",
              "        vertical-align: middle;\n",
              "    }\n",
              "\n",
              "    .dataframe tbody tr th {\n",
              "        vertical-align: top;\n",
              "    }\n",
              "\n",
              "    .dataframe thead th {\n",
              "        text-align: right;\n",
              "    }\n",
              "</style>\n",
              "<table border=\"1\" class=\"dataframe\">\n",
              "  <thead>\n",
              "    <tr style=\"text-align: right;\">\n",
              "      <th></th>\n",
              "      <th>id</th>\n",
              "      <th>host_id</th>\n",
              "      <th>latitude</th>\n",
              "      <th>longitude</th>\n",
              "      <th>minimum_nights</th>\n",
              "      <th>number_of_reviews</th>\n",
              "      <th>reviews_per_month</th>\n",
              "      <th>calculated_host_listings_count</th>\n",
              "      <th>availability_365</th>\n",
              "      <th>days_since_review</th>\n",
              "      <th>...</th>\n",
              "      <th>neighbourhood_Williamsburg</th>\n",
              "      <th>neighbourhood_Willowbrook</th>\n",
              "      <th>neighbourhood_Windsor Terrace</th>\n",
              "      <th>neighbourhood_Woodhaven</th>\n",
              "      <th>neighbourhood_Woodlawn</th>\n",
              "      <th>neighbourhood_Woodrow</th>\n",
              "      <th>neighbourhood_Woodside</th>\n",
              "      <th>room_type_Entire home/apt</th>\n",
              "      <th>room_type_Private room</th>\n",
              "      <th>room_type_Shared room</th>\n",
              "    </tr>\n",
              "  </thead>\n",
              "  <tbody>\n",
              "    <tr>\n",
              "      <th>0</th>\n",
              "      <td>2539</td>\n",
              "      <td>2787</td>\n",
              "      <td>40.64749</td>\n",
              "      <td>-73.97237</td>\n",
              "      <td>1</td>\n",
              "      <td>9</td>\n",
              "      <td>0.21</td>\n",
              "      <td>6</td>\n",
              "      <td>365</td>\n",
              "      <td>2762</td>\n",
              "      <td>...</td>\n",
              "      <td>0</td>\n",
              "      <td>0</td>\n",
              "      <td>0</td>\n",
              "      <td>0</td>\n",
              "      <td>0</td>\n",
              "      <td>0</td>\n",
              "      <td>0</td>\n",
              "      <td>0</td>\n",
              "      <td>1</td>\n",
              "      <td>0</td>\n",
              "    </tr>\n",
              "    <tr>\n",
              "      <th>1</th>\n",
              "      <td>2595</td>\n",
              "      <td>2845</td>\n",
              "      <td>40.75362</td>\n",
              "      <td>-73.98377</td>\n",
              "      <td>1</td>\n",
              "      <td>45</td>\n",
              "      <td>0.38</td>\n",
              "      <td>2</td>\n",
              "      <td>355</td>\n",
              "      <td>2976</td>\n",
              "      <td>...</td>\n",
              "      <td>0</td>\n",
              "      <td>0</td>\n",
              "      <td>0</td>\n",
              "      <td>0</td>\n",
              "      <td>0</td>\n",
              "      <td>0</td>\n",
              "      <td>0</td>\n",
              "      <td>1</td>\n",
              "      <td>0</td>\n",
              "      <td>0</td>\n",
              "    </tr>\n",
              "    <tr>\n",
              "      <th>2</th>\n",
              "      <td>3647</td>\n",
              "      <td>4632</td>\n",
              "      <td>40.80902</td>\n",
              "      <td>-73.94190</td>\n",
              "      <td>3</td>\n",
              "      <td>0</td>\n",
              "      <td>0.00</td>\n",
              "      <td>1</td>\n",
              "      <td>365</td>\n",
              "      <td>0</td>\n",
              "      <td>...</td>\n",
              "      <td>0</td>\n",
              "      <td>0</td>\n",
              "      <td>0</td>\n",
              "      <td>0</td>\n",
              "      <td>0</td>\n",
              "      <td>0</td>\n",
              "      <td>0</td>\n",
              "      <td>0</td>\n",
              "      <td>1</td>\n",
              "      <td>0</td>\n",
              "    </tr>\n",
              "    <tr>\n",
              "      <th>3</th>\n",
              "      <td>3831</td>\n",
              "      <td>4869</td>\n",
              "      <td>40.68514</td>\n",
              "      <td>-73.95976</td>\n",
              "      <td>1</td>\n",
              "      <td>270</td>\n",
              "      <td>4.64</td>\n",
              "      <td>1</td>\n",
              "      <td>194</td>\n",
              "      <td>3021</td>\n",
              "      <td>...</td>\n",
              "      <td>0</td>\n",
              "      <td>0</td>\n",
              "      <td>0</td>\n",
              "      <td>0</td>\n",
              "      <td>0</td>\n",
              "      <td>0</td>\n",
              "      <td>0</td>\n",
              "      <td>1</td>\n",
              "      <td>0</td>\n",
              "      <td>0</td>\n",
              "    </tr>\n",
              "    <tr>\n",
              "      <th>4</th>\n",
              "      <td>5022</td>\n",
              "      <td>7192</td>\n",
              "      <td>40.79851</td>\n",
              "      <td>-73.94399</td>\n",
              "      <td>10</td>\n",
              "      <td>9</td>\n",
              "      <td>0.10</td>\n",
              "      <td>1</td>\n",
              "      <td>0</td>\n",
              "      <td>2793</td>\n",
              "      <td>...</td>\n",
              "      <td>0</td>\n",
              "      <td>0</td>\n",
              "      <td>0</td>\n",
              "      <td>0</td>\n",
              "      <td>0</td>\n",
              "      <td>0</td>\n",
              "      <td>0</td>\n",
              "      <td>1</td>\n",
              "      <td>0</td>\n",
              "      <td>0</td>\n",
              "    </tr>\n",
              "    <tr>\n",
              "      <th>5</th>\n",
              "      <td>5099</td>\n",
              "      <td>7322</td>\n",
              "      <td>40.74767</td>\n",
              "      <td>-73.97500</td>\n",
              "      <td>3</td>\n",
              "      <td>74</td>\n",
              "      <td>0.59</td>\n",
              "      <td>1</td>\n",
              "      <td>129</td>\n",
              "      <td>3008</td>\n",
              "      <td>...</td>\n",
              "      <td>0</td>\n",
              "      <td>0</td>\n",
              "      <td>0</td>\n",
              "      <td>0</td>\n",
              "      <td>0</td>\n",
              "      <td>0</td>\n",
              "      <td>0</td>\n",
              "      <td>1</td>\n",
              "      <td>0</td>\n",
              "      <td>0</td>\n",
              "    </tr>\n",
              "    <tr>\n",
              "      <th>6</th>\n",
              "      <td>5121</td>\n",
              "      <td>7356</td>\n",
              "      <td>40.68688</td>\n",
              "      <td>-73.95596</td>\n",
              "      <td>45</td>\n",
              "      <td>49</td>\n",
              "      <td>0.40</td>\n",
              "      <td>1</td>\n",
              "      <td>0</td>\n",
              "      <td>2383</td>\n",
              "      <td>...</td>\n",
              "      <td>0</td>\n",
              "      <td>0</td>\n",
              "      <td>0</td>\n",
              "      <td>0</td>\n",
              "      <td>0</td>\n",
              "      <td>0</td>\n",
              "      <td>0</td>\n",
              "      <td>0</td>\n",
              "      <td>1</td>\n",
              "      <td>0</td>\n",
              "    </tr>\n",
              "    <tr>\n",
              "      <th>7</th>\n",
              "      <td>5178</td>\n",
              "      <td>8967</td>\n",
              "      <td>40.76489</td>\n",
              "      <td>-73.98493</td>\n",
              "      <td>2</td>\n",
              "      <td>430</td>\n",
              "      <td>3.47</td>\n",
              "      <td>1</td>\n",
              "      <td>220</td>\n",
              "      <td>3010</td>\n",
              "      <td>...</td>\n",
              "      <td>0</td>\n",
              "      <td>0</td>\n",
              "      <td>0</td>\n",
              "      <td>0</td>\n",
              "      <td>0</td>\n",
              "      <td>0</td>\n",
              "      <td>0</td>\n",
              "      <td>0</td>\n",
              "      <td>1</td>\n",
              "      <td>0</td>\n",
              "    </tr>\n",
              "    <tr>\n",
              "      <th>8</th>\n",
              "      <td>5203</td>\n",
              "      <td>7490</td>\n",
              "      <td>40.80178</td>\n",
              "      <td>-73.96723</td>\n",
              "      <td>2</td>\n",
              "      <td>118</td>\n",
              "      <td>0.99</td>\n",
              "      <td>1</td>\n",
              "      <td>0</td>\n",
              "      <td>2307</td>\n",
              "      <td>...</td>\n",
              "      <td>0</td>\n",
              "      <td>0</td>\n",
              "      <td>0</td>\n",
              "      <td>0</td>\n",
              "      <td>0</td>\n",
              "      <td>0</td>\n",
              "      <td>0</td>\n",
              "      <td>0</td>\n",
              "      <td>1</td>\n",
              "      <td>0</td>\n",
              "    </tr>\n",
              "    <tr>\n",
              "      <th>9</th>\n",
              "      <td>5238</td>\n",
              "      <td>7549</td>\n",
              "      <td>40.71344</td>\n",
              "      <td>-73.99037</td>\n",
              "      <td>1</td>\n",
              "      <td>160</td>\n",
              "      <td>1.33</td>\n",
              "      <td>4</td>\n",
              "      <td>188</td>\n",
              "      <td>2995</td>\n",
              "      <td>...</td>\n",
              "      <td>0</td>\n",
              "      <td>0</td>\n",
              "      <td>0</td>\n",
              "      <td>0</td>\n",
              "      <td>0</td>\n",
              "      <td>0</td>\n",
              "      <td>0</td>\n",
              "      <td>1</td>\n",
              "      <td>0</td>\n",
              "      <td>0</td>\n",
              "    </tr>\n",
              "  </tbody>\n",
              "</table>\n",
              "<p>10 rows × 242 columns</p>\n",
              "</div>\n",
              "      <button class=\"colab-df-convert\" onclick=\"convertToInteractive('df-70cd3c03-e0ae-4ca6-ae3c-1af5f1ec43d2')\"\n",
              "              title=\"Convert this dataframe to an interactive table.\"\n",
              "              style=\"display:none;\">\n",
              "        \n",
              "  <svg xmlns=\"http://www.w3.org/2000/svg\" height=\"24px\"viewBox=\"0 0 24 24\"\n",
              "       width=\"24px\">\n",
              "    <path d=\"M0 0h24v24H0V0z\" fill=\"none\"/>\n",
              "    <path d=\"M18.56 5.44l.94 2.06.94-2.06 2.06-.94-2.06-.94-.94-2.06-.94 2.06-2.06.94zm-11 1L8.5 8.5l.94-2.06 2.06-.94-2.06-.94L8.5 2.5l-.94 2.06-2.06.94zm10 10l.94 2.06.94-2.06 2.06-.94-2.06-.94-.94-2.06-.94 2.06-2.06.94z\"/><path d=\"M17.41 7.96l-1.37-1.37c-.4-.4-.92-.59-1.43-.59-.52 0-1.04.2-1.43.59L10.3 9.45l-7.72 7.72c-.78.78-.78 2.05 0 2.83L4 21.41c.39.39.9.59 1.41.59.51 0 1.02-.2 1.41-.59l7.78-7.78 2.81-2.81c.8-.78.8-2.07 0-2.86zM5.41 20L4 18.59l7.72-7.72 1.47 1.35L5.41 20z\"/>\n",
              "  </svg>\n",
              "      </button>\n",
              "      \n",
              "  <style>\n",
              "    .colab-df-container {\n",
              "      display:flex;\n",
              "      flex-wrap:wrap;\n",
              "      gap: 12px;\n",
              "    }\n",
              "\n",
              "    .colab-df-convert {\n",
              "      background-color: #E8F0FE;\n",
              "      border: none;\n",
              "      border-radius: 50%;\n",
              "      cursor: pointer;\n",
              "      display: none;\n",
              "      fill: #1967D2;\n",
              "      height: 32px;\n",
              "      padding: 0 0 0 0;\n",
              "      width: 32px;\n",
              "    }\n",
              "\n",
              "    .colab-df-convert:hover {\n",
              "      background-color: #E2EBFA;\n",
              "      box-shadow: 0px 1px 2px rgba(60, 64, 67, 0.3), 0px 1px 3px 1px rgba(60, 64, 67, 0.15);\n",
              "      fill: #174EA6;\n",
              "    }\n",
              "\n",
              "    [theme=dark] .colab-df-convert {\n",
              "      background-color: #3B4455;\n",
              "      fill: #D2E3FC;\n",
              "    }\n",
              "\n",
              "    [theme=dark] .colab-df-convert:hover {\n",
              "      background-color: #434B5C;\n",
              "      box-shadow: 0px 1px 3px 1px rgba(0, 0, 0, 0.15);\n",
              "      filter: drop-shadow(0px 1px 2px rgba(0, 0, 0, 0.3));\n",
              "      fill: #FFFFFF;\n",
              "    }\n",
              "  </style>\n",
              "\n",
              "      <script>\n",
              "        const buttonEl =\n",
              "          document.querySelector('#df-70cd3c03-e0ae-4ca6-ae3c-1af5f1ec43d2 button.colab-df-convert');\n",
              "        buttonEl.style.display =\n",
              "          google.colab.kernel.accessAllowed ? 'block' : 'none';\n",
              "\n",
              "        async function convertToInteractive(key) {\n",
              "          const element = document.querySelector('#df-70cd3c03-e0ae-4ca6-ae3c-1af5f1ec43d2');\n",
              "          const dataTable =\n",
              "            await google.colab.kernel.invokeFunction('convertToInteractive',\n",
              "                                                     [key], {});\n",
              "          if (!dataTable) return;\n",
              "\n",
              "          const docLinkHtml = 'Like what you see? Visit the ' +\n",
              "            '<a target=\"_blank\" href=https://colab.research.google.com/notebooks/data_table.ipynb>data table notebook</a>'\n",
              "            + ' to learn more about interactive tables.';\n",
              "          element.innerHTML = '';\n",
              "          dataTable['output_type'] = 'display_data';\n",
              "          await google.colab.output.renderOutput(dataTable, element);\n",
              "          const docLink = document.createElement('div');\n",
              "          docLink.innerHTML = docLinkHtml;\n",
              "          element.appendChild(docLink);\n",
              "        }\n",
              "      </script>\n",
              "    </div>\n",
              "  </div>\n",
              "  "
            ]
          },
          "metadata": {},
          "execution_count": 46
        }
      ]
    },
    {
      "cell_type": "code",
      "source": [
        "X_train, X_test, y_train, y_test = train_test_split(final_df, price_value, test_size=0.2, random_state=42)"
      ],
      "metadata": {
        "id": "ci0nvHLfqQox"
      },
      "execution_count": 76,
      "outputs": []
    },
    {
      "cell_type": "code",
      "source": [
        "print('Dimensions of the training feature matrix: {}'.format(X_train.shape))\n",
        "print('Dimensions of the training target vector: {}'.format(y_train.shape))\n",
        "print('Dimensions of the test feature matrix: {}'.format(X_test.shape))\n",
        "print('Dimensions of the test target vector: {}'.format(y_test.shape))"
      ],
      "metadata": {
        "colab": {
          "base_uri": "https://localhost:8080/"
        },
        "id": "RrL3fvQGp-Ha",
        "outputId": "6231897c-04df-44e6-9e87-1641c8283360"
      },
      "execution_count": 77,
      "outputs": [
        {
          "output_type": "stream",
          "name": "stdout",
          "text": [
            "Dimensions of the training feature matrix: (39116, 241)\n",
            "Dimensions of the training target vector: (39116,)\n",
            "Dimensions of the test feature matrix: (9779, 241)\n",
            "Dimensions of the test target vector: (9779,)\n"
          ]
        }
      ]
    },
    {
      "cell_type": "markdown",
      "source": [
        "#Model Implementation"
      ],
      "metadata": {
        "id": "jP3WBlNVqmAy"
      }
    },
    {
      "cell_type": "markdown",
      "source": [
        "##testing catboost"
      ],
      "metadata": {
        "id": "IXdwr1q7M-i0"
      }
    },
    {
      "cell_type": "code",
      "source": [
        "!pip install catboost"
      ],
      "metadata": {
        "id": "3UVz02tkNE_4"
      },
      "execution_count": null,
      "outputs": []
    },
    {
      "cell_type": "code",
      "source": [
        "df_x = df_in.drop(columns=['price'], axis = 1)"
      ],
      "metadata": {
        "id": "LQUl7XGoNKox"
      },
      "execution_count": null,
      "outputs": []
    },
    {
      "cell_type": "code",
      "source": [
        "df_y = df_in['price']"
      ],
      "metadata": {
        "id": "uMMJczuUNTtC"
      },
      "execution_count": null,
      "outputs": []
    },
    {
      "cell_type": "code",
      "source": [
        "X_train_cat, X_test_cat, y_train_cat, y_test_cat = train_test_split(df_x, df_y, test_size=0.2, random_state=42)"
      ],
      "metadata": {
        "id": "McLYLxsMNGd2"
      },
      "execution_count": null,
      "outputs": []
    },
    {
      "cell_type": "code",
      "source": [
        "from catboost import CatBoostRegressor\n",
        "from sklearn.model_selection import RandomizedSearchCV\n",
        "from scipy.stats import randint, uniform\n",
        "\n",
        "# Convert the input data to the required pool format for CatBoostRegressor\n",
        "train_pool = catboost.Pool(X_train_cat, y_train_cat)\n",
        "test_pool = catboost.Pool(X_test_cat, y_test_cat)\n",
        "\n",
        "# Define the CatBoostRegressor model\n",
        "cb = CatBoostRegressor(loss_function='RMSE', verbose=False)\n",
        "\n",
        "# Define the parameter distribution for hyperparameter tuning\n",
        "param_dist = {\n",
        "    'iterations': randint(100, 1000),\n",
        "    'depth': randint(3, 10),\n",
        "    'learning_rate': uniform(0.01, 0.3),\n",
        "    'l2_leaf_reg': uniform(0, 1),\n",
        "    'bagging_temperature': uniform(0, 1),\n",
        "}\n",
        "\n",
        "# Define a function for performing a RandomizedSearchCV for one parameter\n",
        "def randomized_search_one_param(model, train_pool, param_dist, param_name):\n",
        "    random_search = RandomizedSearchCV(model, param_distributions=param_dist, n_iter=10, cv=5, n_jobs=-1, random_state=42)\n",
        "    random_search.fit(train_pool)\n",
        "    best_score = random_search.best_score_\n",
        "    best_param = random_search.best_params_[param_name]\n",
        "    return best_param, best_score\n",
        "\n",
        "# Perform a RandomizedSearchCV with greedy search logic\n",
        "best_params = {}\n",
        "\n",
        "for param_name in param_dist.keys():\n",
        "    param_dist_one = {param_name: param_dist[param_name]}\n",
        "    best_param, best_score = randomized_search_one_param(cb, train_pool, param_dist_one, param_name)\n",
        "    best_params[param_name] = best_param\n",
        "    print(f\"Best {param_name}: {best_param}, Best score: {best_score}\")\n",
        "    \n",
        "    # Update the model with the best parameter\n",
        "    cb.set_params(**best_params)\n",
        "    cb.fit(train_pool)\n",
        "    \n",
        "# Get the final best parameters\n",
        "print(\"Final best parameters:\", best_params)\n"
      ],
      "metadata": {
        "id": "UeSeWfa_M-JT"
      },
      "execution_count": null,
      "outputs": []
    },
    {
      "cell_type": "code",
      "source": [
        "from xgboost import XGBRegressor\n",
        "from sklearn.metrics import r2_score, mean_squared_error\n",
        "from sklearn.model_selection import GridSearchCV"
      ],
      "metadata": {
        "id": "Glg77qixuFTP"
      },
      "execution_count": null,
      "outputs": []
    },
    {
      "cell_type": "code",
      "source": [
        "from xgboost import XGBRegressor\n",
        "from sklearn.metrics import r2_score, mean_squared_error\n",
        "from scipy.stats import randint, uniform\n",
        "\n",
        "# Define the XGBRegressor model\n",
        "xgb = XGBRegressor()\n",
        "\n",
        "# Define the parameter distributions for hyperparameter tuning\n",
        "param_dists = {\n",
        "    'n_estimators': randint(100, 1000),\n",
        "    'max_depth': randint(3, 10),\n",
        "    'learning_rate': uniform(0.01, 0.3),\n",
        "    'min_child_weight': randint(1, 10),\n",
        "    'gamma': uniform(0, 1),\n",
        "    'subsample': uniform(0.5, 0.5),\n",
        "    'colsample_bytree': uniform(0.5, 0.5),\n",
        "    'reg_alpha': uniform(0, 1),\n",
        "    'reg_lambda': uniform(0, 1),\n",
        "}\n",
        "\n",
        "# Define a function for performing a randomized search for one parameter\n",
        "def random_search_one_param(model, X_train, y_train, param_dist, param_name, num_iters):\n",
        "    best_score = -float('inf')\n",
        "    best_param = None\n",
        "    \n",
        "    for _ in range(num_iters):\n",
        "        params = {param_name: param_dist.rvs()}\n",
        "        model.set_params(**params)\n",
        "        model.fit(X_train, y_train)\n",
        "        y_pred = model.predict(X_train)\n",
        "        score = r2_score(y_train, y_pred)\n",
        "        if score > best_score:\n",
        "            best_score = score\n",
        "            best_param = params[param_name]\n",
        "            \n",
        "    return best_param, best_score\n",
        "\n",
        "# Perform a randomized search for one parameter at a time\n",
        "best_params = {}\n",
        "\n",
        "for param_name in param_dists.keys():\n",
        "    param_dist = param_dists[param_name]\n",
        "    best_param, best_score = random_search_one_param(xgb, X_train, y_train, param_dist, param_name, 50)\n",
        "    best_params[param_name] = best_param\n",
        "    print(f\"Best {param_name}: {best_param}, Best score: {best_score}\")\n",
        "    \n",
        "    # Update the model with the best parameter\n",
        "    xgb.set_params(**best_params)\n",
        "    xgb.fit(X_train, y_train)\n",
        "    \n",
        "# Get the final best parameters\n",
        "print(\"Final best parameters:\", best_params)\n"
      ],
      "metadata": {
        "id": "B_u2Y2iLBzAF"
      },
      "execution_count": null,
      "outputs": []
    },
    {
      "cell_type": "code",
      "source": [
        "from xgboost import XGBRegressor\n",
        "from sklearn.metrics import r2_score, mean_squared_error\n",
        "from sklearn.model_selection import GridSearchCV\n",
        "from scipy.stats import randint, uniform\n",
        "\n",
        "# Define the XGBRegressor model\n",
        "xgb = XGBRegressor()\n",
        "\n",
        "# Define the parameter grids for hyperparameter tuning\n",
        "param_grids = {\n",
        "    'n_estimators': [100, 500, 1000],\n",
        "    'max_depth': [3, 5, 7, 10],\n",
        "    'learning_rate': [0.01, 0.1, 0.3],\n",
        "    'min_child_weight': [1, 5, 10],\n",
        "    'gamma': [0, 0.5, 1],\n",
        "    'subsample': [0.5, 0.7, 1],\n",
        "    'colsample_bytree': [0.5, 0.7, 1],\n",
        "    'reg_alpha': [0, 0.5, 1],\n",
        "    'reg_lambda': [0, 0.5, 1],\n",
        "}\n",
        "\n",
        "# Define a function for performing a GridSearchCV for one parameter\n",
        "def grid_search_one_param(model, X_train, y_train, param_grid, param_name):\n",
        "    grid_search = GridSearchCV(model, param_grid=param_grid, cv=5, n_jobs=-1)\n",
        "    grid_search.fit(X_train, y_train)\n",
        "    best_score = grid_search.best_score_\n",
        "    best_param = grid_search.best_params_[param_name]\n",
        "    return best_param, best_score\n",
        "\n",
        "# Perform a GridSearchCV with greedy search logic\n",
        "best_params = {}\n",
        "\n",
        "for param_name in param_grids.keys():\n",
        "    param_grid = {param_name: param_grids[param_name]}\n",
        "    best_param, best_score = grid_search_one_param(xgb, X_train, y_train, param_grid, param_name)\n",
        "    best_params[param_name] = best_param\n",
        "    print(f\"Best {param_name}: {best_param}, Best score: {best_score}\")\n",
        "    \n",
        "    # Update the model with the best parameter\n",
        "    xgb.set_params(**best_params)\n",
        "    xgb.fit(X_train, y_train)\n",
        "    \n",
        "# Get the final best parameters\n",
        "print(\"Final best parameters:\", best_params)\n"
      ],
      "metadata": {
        "id": "nB-_QKn_Jvm7"
      },
      "execution_count": null,
      "outputs": []
    },
    {
      "cell_type": "code",
      "source": [
        "from xgboost import XGBRegressor\n",
        "from sklearn.metrics import r2_score, mean_squared_error\n",
        "from sklearn.model_selection import RandomizedSearchCV\n",
        "from scipy.stats import randint, uniform\n",
        "\n",
        "# Define the XGBRegressor model\n",
        "xgb = XGBRegressor()\n",
        "\n",
        "# Define the parameter distribution for hyperparameter tuning\n",
        "param_dist = {\n",
        "    'n_estimators': randint(100, 1000),\n",
        "    'max_depth': randint(3, 10),\n",
        "    'learning_rate': uniform(0.01, 0.3),\n",
        "    'min_child_weight': randint(1, 10),\n",
        "    'gamma': uniform(0, 1),\n",
        "    'subsample': uniform(0.5, 0.5),\n",
        "    'colsample_bytree': uniform(0.5, 0.5),\n",
        "    'reg_alpha': uniform(0, 1),\n",
        "    'reg_lambda': uniform(0, 1),\n",
        "}\n",
        "\n",
        "# Create the RandomizedSearchCV object\n",
        "random_search = RandomizedSearchCV(xgb, param_distributions=param_dist, n_iter=100, cv=5, random_state=42)\n",
        "\n",
        "# Fit the RandomizedSearchCV object on the training data\n",
        "random_search.fit(X_train, y_train)\n",
        "\n",
        "# Get the best hyperparameters\n",
        "best_params = random_search.best_params_"
      ],
      "metadata": {
        "id": "hIPqmEe5trYV"
      },
      "execution_count": null,
      "outputs": []
    },
    {
      "cell_type": "code",
      "source": [
        "# from xgboost import XGBRegressor\n",
        "# from sklearn.metrics import r2_score, mean_squared_error\n",
        "# from sklearn.model_selection import GridSearchCV\n",
        "\n",
        "# # Define the XGBRegressor model\n",
        "# xgb = XGBRegressor()\n",
        "\n",
        "# # Define the parameter grid for hyperparameter tuning\n",
        "# param_grid = {\n",
        "#     'n_estimators': [100, 200, 300],\n",
        "#     'max_depth': [3, 4, 5],\n",
        "#     'learning_rate': [0.01, 0.1, 0.3],\n",
        "#     'min_child_weight': [1, 5, 10],\n",
        "#     'gamma': [0, 0.1, 0.5],\n",
        "#     'subsample': [0.5, 0.8, 1.0],\n",
        "#     'colsample_bytree': [0.5, 0.8, 1.0],\n",
        "#     'reg_alpha': [0, 0.1, 0.5],\n",
        "#     'reg_lambda': [0, 0.1, 0.5],\n",
        "# }\n",
        "\n",
        "# # Create the GridSearchCV object\n",
        "# grid_search = GridSearchCV(xgb, param_grid=param_grid, cv=5)\n",
        "\n",
        "# # Fit the GridSearchCV object on the training data\n",
        "# grid_search.fit(X_train, y_train)\n",
        "\n",
        "# # Get the best hyperparameters\n",
        "# best_params = grid_search.best_params_"
      ],
      "metadata": {
        "id": "u8tNCydvP2Ww"
      },
      "execution_count": null,
      "outputs": []
    },
    {
      "cell_type": "code",
      "source": [
        "\n",
        "# Build the final model with the best hyperparameters\n",
        "xgb = XGBRegressor(**best_params )\n",
        "\n",
        "# Fit the model on the training data\n",
        "xgb.fit(X_train, y_train)\n",
        "\n",
        "\n",
        "# Predict on the test data\n",
        "y_pred = xgb.predict(X_test)\n",
        "\n",
        "# Calculate evaluation metrics\n",
        "r2 = r2_score(y_test, y_pred)\n",
        "rmse = mean_squared_error(y_test, y_pred, squared=False)\n",
        "\n",
        "# Print the evaluation metrics\n",
        "print(\"R^2 score: {:.2f}\".format(r2))\n",
        "print(\"RMSE: {:.2f}\".format(rmse))"
      ],
      "metadata": {
        "id": "Wojud3bGtnA6",
        "outputId": "991ce00d-49d9-47b4-bcc1-e77a798ca2e2",
        "colab": {
          "base_uri": "https://localhost:8080/"
        }
      },
      "execution_count": null,
      "outputs": [
        {
          "output_type": "stream",
          "name": "stdout",
          "text": [
            "R^2 score: 0.20\n",
            "RMSE: 188.59\n"
          ]
        }
      ]
    },
    {
      "cell_type": "code",
      "source": [
        "import pickle\n",
        "\n",
        "# Build the final model with the best hyperparameters\n",
        "xgb = XGBRegressor(n_estimators = 300,\n",
        "                   max_depth = 5,\n",
        "                   learning_rate = 0.01,\n",
        "                   min_child_weight = 5,\n",
        "                   gamma = 0.1,\n",
        "                   subsample = 0.8,\n",
        "                   colsample_bytree = 0.5,\n",
        "                   reg_alpha = 0.1,\n",
        "                   reg_lambda = 0.1)\n",
        "\n",
        "# Fit the model on the training data\n",
        "xgb.fit(X_train, y_train)\n",
        "\n",
        "# Assume that you have trained and optimized your model using grid search and called it \"xgb_best\"\n",
        "# Save the model to a file\n",
        "save_loc = '/content/drive/MyDrive/Ensemble_Project/xgb_model_gridsearch_v1.pkl'\n",
        "\n",
        "with open(save_loc, 'wb') as f:\n",
        "    pickle.dump(xgb, f)"
      ],
      "metadata": {
        "id": "lal1_EkiP4xZ"
      },
      "execution_count": null,
      "outputs": []
    },
    {
      "cell_type": "code",
      "source": [
        "# Load the saved model from the file\n",
        "with open(save_loc, 'rb') as f:\n",
        "    xgb_loaded = pickle.load(f)\n",
        "\n",
        "# Predict on the test data\n",
        "y_pred = xgb_loaded.predict(X_test)\n",
        "\n",
        "# Calculate evaluation metrics\n",
        "r2 = r2_score(y_test, y_pred)\n",
        "rmse = mean_squared_error(y_test, y_pred, squared=False)\n",
        "\n",
        "# Print the evaluation metrics\n",
        "print(\"R^2 score: {:.2f}\".format(r2))\n",
        "print(\"RMSE: {:.2f}\".format(rmse))\n",
        "\n",
        "\n"
      ],
      "metadata": {
        "id": "8b6NbdcugNTr"
      },
      "execution_count": null,
      "outputs": []
    },
    {
      "cell_type": "code",
      "source": [
        "!pip install shap"
      ],
      "metadata": {
        "id": "NtdZfBdhTaC1"
      },
      "execution_count": null,
      "outputs": []
    },
    {
      "cell_type": "code",
      "source": [
        "import shap\n",
        "import matplotlib.pyplot as plt\n",
        "from xgboost import plot_importance, plot_tree\n",
        "\n",
        "# Calculate feature importances\n",
        "fig, ax = plt.subplots(figsize=(10, 8))\n",
        "plot_importance(xgb, ax=ax)\n",
        "plt.show()\n",
        "\n",
        "# Visualize a decision tree\n",
        "fig, ax = plt.subplots(figsize=(30, 30))\n",
        "plot_tree(xgb, ax=ax, num_trees=0)\n",
        "plt.show()\n",
        "\n",
        "# Calculate and plot SHAP values for the first 100 instances in the test set\n",
        "explainer = shap.TreeExplainer(xgb)\n",
        "shap_values = explainer.shap_values(X_test.iloc[:100, :])\n",
        "shap.summary_plot(shap_values, X_test.iloc[:100, :], plot_type=\"bar\")"
      ],
      "metadata": {
        "id": "ToNmBxOQNvLk"
      },
      "execution_count": null,
      "outputs": []
    },
    {
      "cell_type": "code",
      "source": [],
      "metadata": {
        "id": "iqTYyZ_8NvFU"
      },
      "execution_count": null,
      "outputs": []
    },
    {
      "cell_type": "code",
      "source": [
        "scaler = RobustScaler()\n",
        "X_train = scaler.fit_transform(X_train)\n",
        "X_test = scaler.fit_transform(X_test)"
      ],
      "metadata": {
        "id": "Aixsyie-rfHR"
      },
      "execution_count": null,
      "outputs": []
    },
    {
      "cell_type": "code",
      "source": [
        "rf = RandomForestRegressor(random_state=42)\n",
        "from pprint import pprint\n",
        "print('Parameters currently in use: \\n')\n",
        "pprint(rf.get_params())"
      ],
      "metadata": {
        "colab": {
          "base_uri": "https://localhost:8080/"
        },
        "id": "475anc40hj9p",
        "outputId": "1e627615-0d73-4630-daaa-81c20746b679"
      },
      "execution_count": null,
      "outputs": [
        {
          "output_type": "stream",
          "name": "stdout",
          "text": [
            "Parameters currently in use: \n",
            "\n",
            "{'bootstrap': True,\n",
            " 'ccp_alpha': 0.0,\n",
            " 'criterion': 'squared_error',\n",
            " 'max_depth': None,\n",
            " 'max_features': 1.0,\n",
            " 'max_leaf_nodes': None,\n",
            " 'max_samples': None,\n",
            " 'min_impurity_decrease': 0.0,\n",
            " 'min_samples_leaf': 1,\n",
            " 'min_samples_split': 2,\n",
            " 'min_weight_fraction_leaf': 0.0,\n",
            " 'n_estimators': 100,\n",
            " 'n_jobs': None,\n",
            " 'oob_score': False,\n",
            " 'random_state': 42,\n",
            " 'verbose': 0,\n",
            " 'warm_start': False}\n"
          ]
        }
      ]
    },
    {
      "cell_type": "code",
      "source": [
        "n_folds = 5\n",
        "\n",
        "# squared_loss\n",
        "def rmse_cv(model):\n",
        "    kf = KFold(n_folds, shuffle=True, random_state = 91).get_n_splits(numerical_features)\n",
        "    return cross_val_score(model, X_train, y_train, scoring='neg_mean_squared_error', cv=kf)"
      ],
      "metadata": {
        "id": "7pMcjlP6tCON"
      },
      "execution_count": null,
      "outputs": []
    },
    {
      "cell_type": "code",
      "source": [
        "rfr_CV_baseline = -rmse_cv(RandomForestRegressor(bootstrap=True, criterion='squared_error', max_depth=30,\n",
        "                      max_features='sqrt', max_leaf_nodes=None,\n",
        "                      min_impurity_decrease=0.0,\n",
        "                      min_samples_leaf=1, min_samples_split=5,\n",
        "                      min_weight_fraction_leaf=0.0, n_estimators=1400,\n",
        "                      n_jobs=None, oob_score=False, random_state=42, verbose=0,\n",
        "                      warm_start=False))"
      ],
      "metadata": {
        "id": "2Tm7Ie0ytiPi"
      },
      "execution_count": null,
      "outputs": []
    },
    {
      "cell_type": "code",
      "source": [
        "rfr_baseline = RandomForestRegressor(bootstrap=True, criterion='squared_error', max_depth=30,\n",
        "                      max_features='sqrt', max_leaf_nodes=None,\n",
        "                      min_impurity_decrease=0.0,\n",
        "                      min_samples_leaf=1, min_samples_split=5,\n",
        "                      min_weight_fraction_leaf=0.0, n_estimators=1400,\n",
        "                      n_jobs=None, oob_score=False, random_state=42, verbose=0,\n",
        "                      warm_start=False)\n"
      ],
      "metadata": {
        "id": "iHLCw7rRvGvw"
      },
      "execution_count": null,
      "outputs": []
    },
    {
      "cell_type": "code",
      "source": [
        "rfr_baseline.fit(X_train, y_train) \n",
        "y_train_rfr = rfr_baseline.predict(X_train)\n",
        "y_test_rfr = rfr_baseline.predict(X_test)"
      ],
      "metadata": {
        "id": "w_JdLxOHhKni"
      },
      "execution_count": null,
      "outputs": []
    },
    {
      "cell_type": "code",
      "source": [
        "rfr_baseline_results = pd.DataFrame({'algorithm':['Random Forest Regressor [baseline]'],\n",
        "            'CV error': rfr_CV_baseline.mean(), \n",
        "            'CV std': rfr_CV_baseline.std(),\n",
        "            'training error': [mean_squared_error(y_train_rfr, y_train)],\n",
        "            'test error': [mean_squared_error(y_test_rfr, y_test)]})"
      ],
      "metadata": {
        "id": "G4v1XB1vp-B8"
      },
      "execution_count": null,
      "outputs": []
    },
    {
      "cell_type": "code",
      "source": [
        "rfr_baseline_results"
      ],
      "metadata": {
        "colab": {
          "base_uri": "https://localhost:8080/",
          "height": 80
        },
        "id": "z0wfsQjJvKFD",
        "outputId": "cd37a139-2093-4e2d-d51a-5d1b5469599f"
      },
      "execution_count": null,
      "outputs": [
        {
          "output_type": "execute_result",
          "data": {
            "text/plain": [
              "                            algorithm  CV error    CV std  training error  \\\n",
              "0  Random Forest Regressor [baseline]    0.1934  0.006837        0.026796   \n",
              "\n",
              "   test error  \n",
              "0    0.186354  "
            ],
            "text/html": [
              "\n",
              "  <div id=\"df-ca6c91f0-b9d6-46b4-bbe6-2b7bc00812e5\">\n",
              "    <div class=\"colab-df-container\">\n",
              "      <div>\n",
              "<style scoped>\n",
              "    .dataframe tbody tr th:only-of-type {\n",
              "        vertical-align: middle;\n",
              "    }\n",
              "\n",
              "    .dataframe tbody tr th {\n",
              "        vertical-align: top;\n",
              "    }\n",
              "\n",
              "    .dataframe thead th {\n",
              "        text-align: right;\n",
              "    }\n",
              "</style>\n",
              "<table border=\"1\" class=\"dataframe\">\n",
              "  <thead>\n",
              "    <tr style=\"text-align: right;\">\n",
              "      <th></th>\n",
              "      <th>algorithm</th>\n",
              "      <th>CV error</th>\n",
              "      <th>CV std</th>\n",
              "      <th>training error</th>\n",
              "      <th>test error</th>\n",
              "    </tr>\n",
              "  </thead>\n",
              "  <tbody>\n",
              "    <tr>\n",
              "      <th>0</th>\n",
              "      <td>Random Forest Regressor [baseline]</td>\n",
              "      <td>0.1934</td>\n",
              "      <td>0.006837</td>\n",
              "      <td>0.026796</td>\n",
              "      <td>0.186354</td>\n",
              "    </tr>\n",
              "  </tbody>\n",
              "</table>\n",
              "</div>\n",
              "      <button class=\"colab-df-convert\" onclick=\"convertToInteractive('df-ca6c91f0-b9d6-46b4-bbe6-2b7bc00812e5')\"\n",
              "              title=\"Convert this dataframe to an interactive table.\"\n",
              "              style=\"display:none;\">\n",
              "        \n",
              "  <svg xmlns=\"http://www.w3.org/2000/svg\" height=\"24px\"viewBox=\"0 0 24 24\"\n",
              "       width=\"24px\">\n",
              "    <path d=\"M0 0h24v24H0V0z\" fill=\"none\"/>\n",
              "    <path d=\"M18.56 5.44l.94 2.06.94-2.06 2.06-.94-2.06-.94-.94-2.06-.94 2.06-2.06.94zm-11 1L8.5 8.5l.94-2.06 2.06-.94-2.06-.94L8.5 2.5l-.94 2.06-2.06.94zm10 10l.94 2.06.94-2.06 2.06-.94-2.06-.94-.94-2.06-.94 2.06-2.06.94z\"/><path d=\"M17.41 7.96l-1.37-1.37c-.4-.4-.92-.59-1.43-.59-.52 0-1.04.2-1.43.59L10.3 9.45l-7.72 7.72c-.78.78-.78 2.05 0 2.83L4 21.41c.39.39.9.59 1.41.59.51 0 1.02-.2 1.41-.59l7.78-7.78 2.81-2.81c.8-.78.8-2.07 0-2.86zM5.41 20L4 18.59l7.72-7.72 1.47 1.35L5.41 20z\"/>\n",
              "  </svg>\n",
              "      </button>\n",
              "      \n",
              "  <style>\n",
              "    .colab-df-container {\n",
              "      display:flex;\n",
              "      flex-wrap:wrap;\n",
              "      gap: 12px;\n",
              "    }\n",
              "\n",
              "    .colab-df-convert {\n",
              "      background-color: #E8F0FE;\n",
              "      border: none;\n",
              "      border-radius: 50%;\n",
              "      cursor: pointer;\n",
              "      display: none;\n",
              "      fill: #1967D2;\n",
              "      height: 32px;\n",
              "      padding: 0 0 0 0;\n",
              "      width: 32px;\n",
              "    }\n",
              "\n",
              "    .colab-df-convert:hover {\n",
              "      background-color: #E2EBFA;\n",
              "      box-shadow: 0px 1px 2px rgba(60, 64, 67, 0.3), 0px 1px 3px 1px rgba(60, 64, 67, 0.15);\n",
              "      fill: #174EA6;\n",
              "    }\n",
              "\n",
              "    [theme=dark] .colab-df-convert {\n",
              "      background-color: #3B4455;\n",
              "      fill: #D2E3FC;\n",
              "    }\n",
              "\n",
              "    [theme=dark] .colab-df-convert:hover {\n",
              "      background-color: #434B5C;\n",
              "      box-shadow: 0px 1px 3px 1px rgba(0, 0, 0, 0.15);\n",
              "      filter: drop-shadow(0px 1px 2px rgba(0, 0, 0, 0.3));\n",
              "      fill: #FFFFFF;\n",
              "    }\n",
              "  </style>\n",
              "\n",
              "      <script>\n",
              "        const buttonEl =\n",
              "          document.querySelector('#df-ca6c91f0-b9d6-46b4-bbe6-2b7bc00812e5 button.colab-df-convert');\n",
              "        buttonEl.style.display =\n",
              "          google.colab.kernel.accessAllowed ? 'block' : 'none';\n",
              "\n",
              "        async function convertToInteractive(key) {\n",
              "          const element = document.querySelector('#df-ca6c91f0-b9d6-46b4-bbe6-2b7bc00812e5');\n",
              "          const dataTable =\n",
              "            await google.colab.kernel.invokeFunction('convertToInteractive',\n",
              "                                                     [key], {});\n",
              "          if (!dataTable) return;\n",
              "\n",
              "          const docLinkHtml = 'Like what you see? Visit the ' +\n",
              "            '<a target=\"_blank\" href=https://colab.research.google.com/notebooks/data_table.ipynb>data table notebook</a>'\n",
              "            + ' to learn more about interactive tables.';\n",
              "          element.innerHTML = '';\n",
              "          dataTable['output_type'] = 'display_data';\n",
              "          await google.colab.output.renderOutput(dataTable, element);\n",
              "          const docLink = document.createElement('div');\n",
              "          docLink.innerHTML = docLinkHtml;\n",
              "          element.appendChild(docLink);\n",
              "        }\n",
              "      </script>\n",
              "    </div>\n",
              "  </div>\n",
              "  "
            ]
          },
          "metadata": {},
          "execution_count": 56
        }
      ]
    },
    {
      "cell_type": "code",
      "source": [
        "#best_random = rf_random.best_estimator_\n",
        "best_random = RandomForestRegressor(bootstrap=True, criterion='squared_error', max_depth=30,\n",
        "                      max_features='sqrt', max_leaf_nodes=None,\n",
        "                      min_impurity_decrease=0.0,\n",
        "                      min_samples_leaf=1, min_samples_split=5,\n",
        "                      min_weight_fraction_leaf=0.0, n_estimators=1400,\n",
        "                      n_jobs=None, oob_score=False, random_state=42, verbose=0,\n",
        "                      warm_start=False)\n",
        "rfr_CV_best = -rmse_cv(best_random)\n",
        "best_random.fit(X_train, y_train) \n",
        "y_train_rfr = best_random.predict(X_train)\n",
        "y_test_rfr = best_random.predict(X_test)\n",
        "rfr_best_results = pd.DataFrame({'algorithm':['Random Forest Regressor'],\n",
        "            'CV error': rfr_CV_best.mean(), \n",
        "            'CV std': rfr_CV_best.std(),\n",
        "            'training error': [mean_squared_error(y_train, y_train_rfr)],\n",
        "            'test error': [mean_squared_error(y_test, y_test_rfr)],\n",
        "            'training_r2_score': [r2_score(y_train, y_train_rfr)],\n",
        "            'test_r2_score': [r2_score(y_test, y_test_rfr)]})\n",
        "rfr_best_results"
      ],
      "metadata": {
        "colab": {
          "base_uri": "https://localhost:8080/",
          "height": 158
        },
        "id": "ZBiLPv3w4XV_",
        "outputId": "2850c487-82fe-41bb-fa6b-caf26b5f3d7b"
      },
      "execution_count": null,
      "outputs": [
        {
          "output_type": "execute_result",
          "data": {
            "text/plain": [
              "                 algorithm  CV error    CV std  training error  test error  \\\n",
              "0  Random Forest Regressor  0.191802  0.006209        0.076588    0.182756   \n",
              "\n",
              "   training_r2_score  test_r2_score  \n",
              "0           0.842431       0.613696  "
            ],
            "text/html": [
              "\n",
              "  <div id=\"df-0934f901-eb9c-4d8c-b6e2-ada517032b12\">\n",
              "    <div class=\"colab-df-container\">\n",
              "      <div>\n",
              "<style scoped>\n",
              "    .dataframe tbody tr th:only-of-type {\n",
              "        vertical-align: middle;\n",
              "    }\n",
              "\n",
              "    .dataframe tbody tr th {\n",
              "        vertical-align: top;\n",
              "    }\n",
              "\n",
              "    .dataframe thead th {\n",
              "        text-align: right;\n",
              "    }\n",
              "</style>\n",
              "<table border=\"1\" class=\"dataframe\">\n",
              "  <thead>\n",
              "    <tr style=\"text-align: right;\">\n",
              "      <th></th>\n",
              "      <th>algorithm</th>\n",
              "      <th>CV error</th>\n",
              "      <th>CV std</th>\n",
              "      <th>training error</th>\n",
              "      <th>test error</th>\n",
              "      <th>training_r2_score</th>\n",
              "      <th>test_r2_score</th>\n",
              "    </tr>\n",
              "  </thead>\n",
              "  <tbody>\n",
              "    <tr>\n",
              "      <th>0</th>\n",
              "      <td>Random Forest Regressor</td>\n",
              "      <td>0.191802</td>\n",
              "      <td>0.006209</td>\n",
              "      <td>0.076588</td>\n",
              "      <td>0.182756</td>\n",
              "      <td>0.842431</td>\n",
              "      <td>0.613696</td>\n",
              "    </tr>\n",
              "  </tbody>\n",
              "</table>\n",
              "</div>\n",
              "      <button class=\"colab-df-convert\" onclick=\"convertToInteractive('df-0934f901-eb9c-4d8c-b6e2-ada517032b12')\"\n",
              "              title=\"Convert this dataframe to an interactive table.\"\n",
              "              style=\"display:none;\">\n",
              "        \n",
              "  <svg xmlns=\"http://www.w3.org/2000/svg\" height=\"24px\"viewBox=\"0 0 24 24\"\n",
              "       width=\"24px\">\n",
              "    <path d=\"M0 0h24v24H0V0z\" fill=\"none\"/>\n",
              "    <path d=\"M18.56 5.44l.94 2.06.94-2.06 2.06-.94-2.06-.94-.94-2.06-.94 2.06-2.06.94zm-11 1L8.5 8.5l.94-2.06 2.06-.94-2.06-.94L8.5 2.5l-.94 2.06-2.06.94zm10 10l.94 2.06.94-2.06 2.06-.94-2.06-.94-.94-2.06-.94 2.06-2.06.94z\"/><path d=\"M17.41 7.96l-1.37-1.37c-.4-.4-.92-.59-1.43-.59-.52 0-1.04.2-1.43.59L10.3 9.45l-7.72 7.72c-.78.78-.78 2.05 0 2.83L4 21.41c.39.39.9.59 1.41.59.51 0 1.02-.2 1.41-.59l7.78-7.78 2.81-2.81c.8-.78.8-2.07 0-2.86zM5.41 20L4 18.59l7.72-7.72 1.47 1.35L5.41 20z\"/>\n",
              "  </svg>\n",
              "      </button>\n",
              "      \n",
              "  <style>\n",
              "    .colab-df-container {\n",
              "      display:flex;\n",
              "      flex-wrap:wrap;\n",
              "      gap: 12px;\n",
              "    }\n",
              "\n",
              "    .colab-df-convert {\n",
              "      background-color: #E8F0FE;\n",
              "      border: none;\n",
              "      border-radius: 50%;\n",
              "      cursor: pointer;\n",
              "      display: none;\n",
              "      fill: #1967D2;\n",
              "      height: 32px;\n",
              "      padding: 0 0 0 0;\n",
              "      width: 32px;\n",
              "    }\n",
              "\n",
              "    .colab-df-convert:hover {\n",
              "      background-color: #E2EBFA;\n",
              "      box-shadow: 0px 1px 2px rgba(60, 64, 67, 0.3), 0px 1px 3px 1px rgba(60, 64, 67, 0.15);\n",
              "      fill: #174EA6;\n",
              "    }\n",
              "\n",
              "    [theme=dark] .colab-df-convert {\n",
              "      background-color: #3B4455;\n",
              "      fill: #D2E3FC;\n",
              "    }\n",
              "\n",
              "    [theme=dark] .colab-df-convert:hover {\n",
              "      background-color: #434B5C;\n",
              "      box-shadow: 0px 1px 3px 1px rgba(0, 0, 0, 0.15);\n",
              "      filter: drop-shadow(0px 1px 2px rgba(0, 0, 0, 0.3));\n",
              "      fill: #FFFFFF;\n",
              "    }\n",
              "  </style>\n",
              "\n",
              "      <script>\n",
              "        const buttonEl =\n",
              "          document.querySelector('#df-0934f901-eb9c-4d8c-b6e2-ada517032b12 button.colab-df-convert');\n",
              "        buttonEl.style.display =\n",
              "          google.colab.kernel.accessAllowed ? 'block' : 'none';\n",
              "\n",
              "        async function convertToInteractive(key) {\n",
              "          const element = document.querySelector('#df-0934f901-eb9c-4d8c-b6e2-ada517032b12');\n",
              "          const dataTable =\n",
              "            await google.colab.kernel.invokeFunction('convertToInteractive',\n",
              "                                                     [key], {});\n",
              "          if (!dataTable) return;\n",
              "\n",
              "          const docLinkHtml = 'Like what you see? Visit the ' +\n",
              "            '<a target=\"_blank\" href=https://colab.research.google.com/notebooks/data_table.ipynb>data table notebook</a>'\n",
              "            + ' to learn more about interactive tables.';\n",
              "          element.innerHTML = '';\n",
              "          dataTable['output_type'] = 'display_data';\n",
              "          await google.colab.output.renderOutput(dataTable, element);\n",
              "          const docLink = document.createElement('div');\n",
              "          docLink.innerHTML = docLinkHtml;\n",
              "          element.appendChild(docLink);\n",
              "        }\n",
              "      </script>\n",
              "    </div>\n",
              "  </div>\n",
              "  "
            ]
          },
          "metadata": {},
          "execution_count": 32
        }
      ]
    },
    {
      "cell_type": "code",
      "source": [
        "np.exp(y_test_rfr)"
      ],
      "metadata": {
        "colab": {
          "base_uri": "https://localhost:8080/"
        },
        "id": "gcbzKE-Akxm0",
        "outputId": "fc5ff488-0764-433a-fd15-d8552d3c2d5e"
      },
      "execution_count": null,
      "outputs": [
        {
          "output_type": "execute_result",
          "data": {
            "text/plain": [
              "array([130.61167598,  57.22277479, 107.78642109, ...,  65.15921422,\n",
              "       216.08214871, 123.58870835])"
            ]
          },
          "metadata": {},
          "execution_count": 35
        }
      ]
    },
    {
      "cell_type": "code",
      "source": [
        "!pip install catboost"
      ],
      "metadata": {
        "colab": {
          "base_uri": "https://localhost:8080/"
        },
        "id": "Y7C2_GpnbFmT",
        "outputId": "48185dd1-5280-4dd0-b850-ade122a77001"
      },
      "execution_count": null,
      "outputs": [
        {
          "output_type": "stream",
          "name": "stdout",
          "text": [
            "Looking in indexes: https://pypi.org/simple, https://us-python.pkg.dev/colab-wheels/public/simple/\n",
            "Collecting catboost\n",
            "  Downloading catboost-1.1.1-cp39-none-manylinux1_x86_64.whl (76.6 MB)\n",
            "\u001b[2K     \u001b[90m━━━━━━━━━━━━━━━━━━━━━━━━━━━━━━━━━━━━━━━━\u001b[0m \u001b[32m76.6/76.6 MB\u001b[0m \u001b[31m6.8 MB/s\u001b[0m eta \u001b[36m0:00:00\u001b[0m\n",
            "\u001b[?25hRequirement already satisfied: scipy in /usr/local/lib/python3.9/dist-packages (from catboost) (1.10.1)\n",
            "Requirement already satisfied: matplotlib in /usr/local/lib/python3.9/dist-packages (from catboost) (3.5.3)\n",
            "Requirement already satisfied: plotly in /usr/local/lib/python3.9/dist-packages (from catboost) (5.5.0)\n",
            "Requirement already satisfied: six in /usr/local/lib/python3.9/dist-packages (from catboost) (1.15.0)\n",
            "Requirement already satisfied: graphviz in /usr/local/lib/python3.9/dist-packages (from catboost) (0.10.1)\n",
            "Requirement already satisfied: pandas>=0.24.0 in /usr/local/lib/python3.9/dist-packages (from catboost) (1.3.5)\n",
            "Requirement already satisfied: numpy>=1.16.0 in /usr/local/lib/python3.9/dist-packages (from catboost) (1.22.4)\n",
            "Requirement already satisfied: python-dateutil>=2.7.3 in /usr/local/lib/python3.9/dist-packages (from pandas>=0.24.0->catboost) (2.8.2)\n",
            "Requirement already satisfied: pytz>=2017.3 in /usr/local/lib/python3.9/dist-packages (from pandas>=0.24.0->catboost) (2022.7.1)\n",
            "Requirement already satisfied: packaging>=20.0 in /usr/local/lib/python3.9/dist-packages (from matplotlib->catboost) (23.0)\n",
            "Requirement already satisfied: cycler>=0.10 in /usr/local/lib/python3.9/dist-packages (from matplotlib->catboost) (0.11.0)\n",
            "Requirement already satisfied: pyparsing>=2.2.1 in /usr/local/lib/python3.9/dist-packages (from matplotlib->catboost) (3.0.9)\n",
            "Requirement already satisfied: fonttools>=4.22.0 in /usr/local/lib/python3.9/dist-packages (from matplotlib->catboost) (4.39.0)\n",
            "Requirement already satisfied: pillow>=6.2.0 in /usr/local/lib/python3.9/dist-packages (from matplotlib->catboost) (8.4.0)\n",
            "Requirement already satisfied: kiwisolver>=1.0.1 in /usr/local/lib/python3.9/dist-packages (from matplotlib->catboost) (1.4.4)\n",
            "Requirement already satisfied: tenacity>=6.2.0 in /usr/local/lib/python3.9/dist-packages (from plotly->catboost) (8.2.2)\n",
            "Installing collected packages: catboost\n",
            "Successfully installed catboost-1.1.1\n"
          ]
        }
      ]
    },
    {
      "cell_type": "code",
      "source": [
        "from catboost import CatBoostRegressor, Pool\n",
        "from sklearn.model_selection import train_test_split\n",
        "\n",
        "# Split the data into train and test sets\n",
        "X_train, X_test, y_train, y_test = train_test_split(\n",
        "    df_out.drop('price', axis=1), df_out['price'], test_size=0.2, random_state=42)\n"
      ],
      "metadata": {
        "id": "ZZwX2-k-bYVB"
      },
      "execution_count": null,
      "outputs": []
    },
    {
      "cell_type": "code",
      "source": [
        "!pip install catboost --upgrade"
      ],
      "metadata": {
        "colab": {
          "base_uri": "https://localhost:8080/"
        },
        "id": "E7qLX1Jwf3Yb",
        "outputId": "7182ea32-bd72-42ca-e781-258cbd28e159"
      },
      "execution_count": null,
      "outputs": [
        {
          "output_type": "stream",
          "name": "stdout",
          "text": [
            "Looking in indexes: https://pypi.org/simple, https://us-python.pkg.dev/colab-wheels/public/simple/\n",
            "Requirement already satisfied: catboost in /usr/local/lib/python3.9/dist-packages (1.1.1)\n",
            "Requirement already satisfied: graphviz in /usr/local/lib/python3.9/dist-packages (from catboost) (0.10.1)\n",
            "Requirement already satisfied: plotly in /usr/local/lib/python3.9/dist-packages (from catboost) (5.5.0)\n",
            "Requirement already satisfied: scipy in /usr/local/lib/python3.9/dist-packages (from catboost) (1.10.1)\n",
            "Requirement already satisfied: six in /usr/local/lib/python3.9/dist-packages (from catboost) (1.15.0)\n",
            "Requirement already satisfied: numpy>=1.16.0 in /usr/local/lib/python3.9/dist-packages (from catboost) (1.22.4)\n",
            "Requirement already satisfied: matplotlib in /usr/local/lib/python3.9/dist-packages (from catboost) (3.5.3)\n",
            "Requirement already satisfied: pandas>=0.24.0 in /usr/local/lib/python3.9/dist-packages (from catboost) (1.3.5)\n",
            "Requirement already satisfied: python-dateutil>=2.7.3 in /usr/local/lib/python3.9/dist-packages (from pandas>=0.24.0->catboost) (2.8.2)\n",
            "Requirement already satisfied: pytz>=2017.3 in /usr/local/lib/python3.9/dist-packages (from pandas>=0.24.0->catboost) (2022.7.1)\n",
            "Requirement already satisfied: packaging>=20.0 in /usr/local/lib/python3.9/dist-packages (from matplotlib->catboost) (23.0)\n",
            "Requirement already satisfied: cycler>=0.10 in /usr/local/lib/python3.9/dist-packages (from matplotlib->catboost) (0.11.0)\n",
            "Requirement already satisfied: kiwisolver>=1.0.1 in /usr/local/lib/python3.9/dist-packages (from matplotlib->catboost) (1.4.4)\n",
            "Requirement already satisfied: fonttools>=4.22.0 in /usr/local/lib/python3.9/dist-packages (from matplotlib->catboost) (4.39.0)\n",
            "Requirement already satisfied: pyparsing>=2.2.1 in /usr/local/lib/python3.9/dist-packages (from matplotlib->catboost) (3.0.9)\n",
            "Requirement already satisfied: pillow>=6.2.0 in /usr/local/lib/python3.9/dist-packages (from matplotlib->catboost) (8.4.0)\n",
            "Requirement already satisfied: tenacity>=6.2.0 in /usr/local/lib/python3.9/dist-packages (from plotly->catboost) (8.2.2)\n"
          ]
        }
      ]
    },
    {
      "cell_type": "code",
      "source": [
        "df_out.info()"
      ],
      "metadata": {
        "colab": {
          "base_uri": "https://localhost:8080/"
        },
        "id": "CSMy2mIShYzt",
        "outputId": "3f2ceb3f-5e3d-479c-e370-2f0ec56b7e44"
      },
      "execution_count": null,
      "outputs": [
        {
          "output_type": "stream",
          "name": "stdout",
          "text": [
            "<class 'pandas.core.frame.DataFrame'>\n",
            "RangeIndex: 48895 entries, 0 to 48894\n",
            "Data columns (total 18 columns):\n",
            " #   Column                          Non-Null Count  Dtype         \n",
            "---  ------                          --------------  -----         \n",
            " 0   id                              48895 non-null  int64         \n",
            " 1   host_id                         48895 non-null  int64         \n",
            " 2   neighbourhood_group             48895 non-null  object        \n",
            " 3   neighbourhood                   48895 non-null  object        \n",
            " 4   latitude                        48895 non-null  float64       \n",
            " 5   longitude                       48895 non-null  float64       \n",
            " 6   room_type                       48895 non-null  object        \n",
            " 7   price                           48895 non-null  int64         \n",
            " 8   minimum_nights                  48895 non-null  int64         \n",
            " 9   number_of_reviews               48895 non-null  int64         \n",
            " 10  last_review                     48895 non-null  datetime64[ns]\n",
            " 11  reviews_per_month               48884 non-null  float64       \n",
            " 12  calculated_host_listings_count  48895 non-null  int64         \n",
            " 13  availability_365                48895 non-null  int64         \n",
            " 14  days_since_review               48895 non-null  int64         \n",
            " 15  minimum_nights_log              48895 non-null  float64       \n",
            " 16  year_avail                      48895 non-null  bool          \n",
            " 17  no_reviews                      48895 non-null  bool          \n",
            "dtypes: bool(2), datetime64[ns](1), float64(4), int64(8), object(3)\n",
            "memory usage: 6.1+ MB\n"
          ]
        }
      ]
    },
    {
      "cell_type": "code",
      "source": [
        "df_out['reviews_per_month'] = df_out['reviews_per_month'].fillna(0)"
      ],
      "metadata": {
        "id": "-Je-Wdenhm5B"
      },
      "execution_count": null,
      "outputs": []
    },
    {
      "cell_type": "code",
      "source": [
        "df_out.isnull().sum()"
      ],
      "metadata": {
        "colab": {
          "base_uri": "https://localhost:8080/"
        },
        "id": "mqDK1VbPibQY",
        "outputId": "42432f90-0f76-48e3-df4f-2f983c3ffbbc"
      },
      "execution_count": null,
      "outputs": [
        {
          "output_type": "execute_result",
          "data": {
            "text/plain": [
              "id                                0\n",
              "host_id                           0\n",
              "neighbourhood_group               0\n",
              "neighbourhood                     0\n",
              "latitude                          0\n",
              "longitude                         0\n",
              "room_type                         0\n",
              "price                             0\n",
              "minimum_nights                    0\n",
              "number_of_reviews                 0\n",
              "last_review                       0\n",
              "reviews_per_month                 0\n",
              "calculated_host_listings_count    0\n",
              "availability_365                  0\n",
              "days_since_review                 0\n",
              "minimum_nights_log                0\n",
              "year_avail                        0\n",
              "no_reviews                        0\n",
              "dtype: int64"
            ]
          },
          "metadata": {},
          "execution_count": 60
        }
      ]
    },
    {
      "cell_type": "code",
      "source": [
        "cb = CatBoostRegressor(n_estimators=1000,\n",
        "                       loss_function='RMSE',\n",
        "                       learning_rate=0.01,\n",
        "                       depth=8, task_type='CPU',\n",
        "                       random_state=1,\n",
        "                       verbose=False)"
      ],
      "metadata": {
        "id": "flrO9fXTbZmg"
      },
      "execution_count": null,
      "outputs": []
    },
    {
      "cell_type": "code",
      "source": [
        "X_train, X_test, y_train, y_test = train_test_split(\n",
        "    df_out.drop('price', axis=1), df_out['price'], test_size=0.2, random_state=42)"
      ],
      "metadata": {
        "id": "p5w3g06pg3QU"
      },
      "execution_count": null,
      "outputs": []
    },
    {
      "cell_type": "code",
      "source": [
        "pool_train = Pool(X_train, y_train,\n",
        "                  cat_features = ['neighbourhood_group', 'neighbourhood','room_type'])\n",
        "\n",
        "pool_test = Pool(X_test, cat_features = ['neighbourhood_group', 'neighbourhood','room_type'])"
      ],
      "metadata": {
        "id": "Smj7kemDg8a0"
      },
      "execution_count": null,
      "outputs": []
    },
    {
      "cell_type": "code",
      "source": [
        "cb.fit(pool_train)\n",
        "y_pred = cb.predict(pool_test)"
      ],
      "metadata": {
        "id": "45ZpYjA5jMuc"
      },
      "execution_count": null,
      "outputs": []
    },
    {
      "cell_type": "code",
      "source": [
        "y_test_final = np.exp(y_test)\n",
        "\n",
        "y_pred_final = np.exp(y_pred)"
      ],
      "metadata": {
        "colab": {
          "base_uri": "https://localhost:8080/"
        },
        "id": "PM1SRFVEosC6",
        "outputId": "5108c32a-70a1-4b4a-8c6f-eea1425efda9"
      },
      "execution_count": null,
      "outputs": [
        {
          "output_type": "stream",
          "name": "stderr",
          "text": [
            "/usr/local/lib/python3.9/dist-packages/pandas/core/arraylike.py:364: RuntimeWarning: overflow encountered in exp\n",
            "  result = getattr(ufunc, method)(*inputs, **kwargs)\n",
            "<ipython-input-76-ebcd0fdd8220>:3: RuntimeWarning: overflow encountered in exp\n",
            "  y_pred_final = np.exp(y_pred)\n"
          ]
        }
      ]
    },
    {
      "cell_type": "code",
      "source": [
        "import numpy as np\n",
        "from sklearn.metrics import mean_squared_error as mse\n",
        "\n",
        "# Evaluate the model performance\n",
        "r_squared = r2_score(y_test, y_pred)\n",
        "rmse = mean_squared_error(y_test, y_pred, squared=False)\n",
        "\n",
        "# Print the evaluation metrics\n",
        "print(\"R-squared: {:.4f}\".format(r_squared))\n",
        "print(\"RMSE: {:.4f}\".format(rmse))"
      ],
      "metadata": {
        "colab": {
          "base_uri": "https://localhost:8080/",
          "height": 141
        },
        "id": "D9pjO9tLjT-U",
        "outputId": "947a438c-595e-4f7a-c003-3fd230a511e6"
      },
      "execution_count": null,
      "outputs": [
        {
          "output_type": "stream",
          "name": "stdout",
          "text": [
            "R-squared: 0.2302\n",
            "RMSE: 184.5409\n"
          ]
        },
        {
          "output_type": "display_data",
          "data": {
            "text/plain": [
              "<Figure size 288x72 with 1 Axes>"
            ],
            "image/png": "[encoded data removed]"
          },
          "metadata": {}
        }
      ]
    }
  ]
}